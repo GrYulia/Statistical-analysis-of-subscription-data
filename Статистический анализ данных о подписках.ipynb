{
 "cells": [
  {
   "cell_type": "markdown",
   "id": "da788e0f",
   "metadata": {},
   "source": [
    "**Заголовок:** Исследование данных о поездках пользователей сервиса аренды самокатов GoFast\n",
    "\n",
    "**Описание проекта:** Сервис аренды самокатов GoFast предоставляет пользователям возможность аренды самокатов с оплатой по минутам, как с подпиской, так и без неё. \n",
    "\n",
    "**Цель исследования:** Анализ поведения пользователей сервиса GoFast, а также проверка гипотез, направленных на увеличение количества подписчиков и повышение общей выручки компании. Основные задачи исследования включают:\n",
    "\n",
    "1. Изучение профиля пользователей (возраст, город, тип подписки).\n",
    "2. Анализ паттернов поездок (расстояние, время, количество поездок).\n",
    "3. Сравнение пользователей с подпиской и без подписки по продолжительности поездок.\n",
    "4. Оценка экономической выгоды для компании от пользователей с подпиской.\n",
    "\n",
    "**Ход исследования:**\n",
    "\n",
    "1. **Загрузка данных:**\n",
    "- Чтение данных из CSV-файлов, содержащих информацию о пользователях, поездках и подписках.\n",
    "- Изучение структуры данных, вывод первых строк и общей информации о каждом наборе данных.\n",
    "\n",
    "2. **Предобработка данных:**\n",
    "- Преобразование столбца с датой в формат pandas datetime.\n",
    "- Создание нового столбца с номером месяца на основе даты поездки.\n",
    "- Поиск и обработка пропущенных значений и дубликатов.\n",
    "\n",
    "3. **Исследовательский анализ данных:**\n",
    "- Анализ распределения пользователей по городам.\n",
    "- Определение соотношения пользователей с подпиской и без неё.\n",
    "- Описание возрастного распределения пользователей.\n",
    "- Анализ среднего расстояния и продолжительности поездок.\n",
    "\n",
    "4. **Объединение данных:**\n",
    "- Объединение всех данных (пользователи, поездки, подписки) в единый датафрейм.\n",
    "- Создание отдельных датафреймов для пользователей с подпиской и без.\n",
    "- Визуализация данных о времени и расстоянии поездок для обеих категорий пользователей.\n",
    "\n",
    "5. **Подсчёт выручки:**\n",
    "- Создание агрегированных данных о поездках (суммарное расстояние, количество поездок, суммарное время) для каждого пользователя.\n",
    "- Расчёт месячной выручки по каждому пользователю на основе данных о продолжительности и условиях оплаты.\n",
    "\n",
    "6. **Проверка гипотез:**\n",
    "- Гипотеза 1: пользователи с подпиской проводят больше времени в поездках.\n",
    "- Гипотеза 2: оптимальное расстояние поездки для минимального износа самоката — 3130 метров. Проверка того, что расстояние, которое проезжают пользователи с подпиской за одну поездку, не превышает 3130 метров.\n",
    "- Гипотеза 3: помесячная выручка от пользователей с подпиской по месяцам выше, чем выручка от пользователей без подписки.\n",
    "- Гипотеза 4: техническая команда сервиса обновила сервера, с которыми взаимодействует мобильное приложение. Проверка того, что из-за этого количество обращений в техподдержку значимо снизилось.\n",
    "\n",
    "**Общий вывод:** резюмирование ключевых моментов, формулирование выводов и рекомендаций.\n",
    "\n",
    "С помощью этого исследования мы стремимся проанализировать поведение пользователей сервиса GoFast, выявить различия между пользователями с подпиской и без неё, а также проверить гипотезы, которые могут помочь увеличить количество подписчиков и повысить общую выручку компании."
   ]
  },
  {
   "cell_type": "code",
   "execution_count": 1,
   "id": "72576667",
   "metadata": {},
   "outputs": [],
   "source": [
    "# импортируем необходимые библиотеки\n",
    "import pandas as pd\n",
    "import matplotlib.pyplot as plt\n",
    "import seaborn as sns\n",
    "from scipy import stats as st\n",
    "import numpy as np"
   ]
  },
  {
   "cell_type": "markdown",
   "id": "c42cbe00",
   "metadata": {},
   "source": [
    "# Шаг 1. Загрузка данных"
   ]
  },
  {
   "cell_type": "code",
   "execution_count": 2,
   "id": "eff9f206",
   "metadata": {},
   "outputs": [],
   "source": [
    "# отключаем предупреджения\n",
    "import warnings\n",
    "warnings.simplefilter('ignore')\n",
    "pd.set_option('display.max_columns', None)"
   ]
  },
  {
   "cell_type": "code",
   "execution_count": 3,
   "id": "672f1af2",
   "metadata": {},
   "outputs": [],
   "source": [
    "# напишем функцию для вывода описательной статистике по датафрейму\n",
    "def description(df):\n",
    "    display(df.head(10))\n",
    "    print()\n",
    "    print(df.info())\n",
    "    print()\n",
    "    print(df.describe())\n",
    "    print()\n",
    "    print(f'Количество дубликатов: {df.duplicated().sum()}')\n",
    "    print()\n",
    "    print(f'Количество пропусков: {df.isna().sum().sum()}')"
   ]
  },
  {
   "cell_type": "code",
   "execution_count": 4,
   "id": "e737d4ab",
   "metadata": {},
   "outputs": [],
   "source": [
    "# cчитаем данные о пользователях из csv-файла в датафрейм и сохраним в переменную data_users\n",
    "# данные разделены запятой, укажем разделитель \",\"\n",
    "data_users = pd.read_csv('/datasets/users_go.csv', sep=',')"
   ]
  },
  {
   "cell_type": "code",
   "execution_count": 5,
   "id": "a24ca72e",
   "metadata": {},
   "outputs": [
    {
     "data": {
      "text/html": [
       "<div>\n",
       "<style scoped>\n",
       "    .dataframe tbody tr th:only-of-type {\n",
       "        vertical-align: middle;\n",
       "    }\n",
       "\n",
       "    .dataframe tbody tr th {\n",
       "        vertical-align: top;\n",
       "    }\n",
       "\n",
       "    .dataframe thead th {\n",
       "        text-align: right;\n",
       "    }\n",
       "</style>\n",
       "<table border=\"1\" class=\"dataframe\">\n",
       "  <thead>\n",
       "    <tr style=\"text-align: right;\">\n",
       "      <th></th>\n",
       "      <th>user_id</th>\n",
       "      <th>name</th>\n",
       "      <th>age</th>\n",
       "      <th>city</th>\n",
       "      <th>subscription_type</th>\n",
       "    </tr>\n",
       "  </thead>\n",
       "  <tbody>\n",
       "    <tr>\n",
       "      <th>0</th>\n",
       "      <td>1</td>\n",
       "      <td>Кира</td>\n",
       "      <td>22</td>\n",
       "      <td>Тюмень</td>\n",
       "      <td>ultra</td>\n",
       "    </tr>\n",
       "    <tr>\n",
       "      <th>1</th>\n",
       "      <td>2</td>\n",
       "      <td>Станислав</td>\n",
       "      <td>31</td>\n",
       "      <td>Омск</td>\n",
       "      <td>ultra</td>\n",
       "    </tr>\n",
       "    <tr>\n",
       "      <th>2</th>\n",
       "      <td>3</td>\n",
       "      <td>Алексей</td>\n",
       "      <td>20</td>\n",
       "      <td>Москва</td>\n",
       "      <td>ultra</td>\n",
       "    </tr>\n",
       "    <tr>\n",
       "      <th>3</th>\n",
       "      <td>4</td>\n",
       "      <td>Константин</td>\n",
       "      <td>26</td>\n",
       "      <td>Ростов-на-Дону</td>\n",
       "      <td>ultra</td>\n",
       "    </tr>\n",
       "    <tr>\n",
       "      <th>4</th>\n",
       "      <td>5</td>\n",
       "      <td>Адель</td>\n",
       "      <td>28</td>\n",
       "      <td>Омск</td>\n",
       "      <td>ultra</td>\n",
       "    </tr>\n",
       "    <tr>\n",
       "      <th>5</th>\n",
       "      <td>6</td>\n",
       "      <td>Регина</td>\n",
       "      <td>25</td>\n",
       "      <td>Краснодар</td>\n",
       "      <td>ultra</td>\n",
       "    </tr>\n",
       "    <tr>\n",
       "      <th>6</th>\n",
       "      <td>7</td>\n",
       "      <td>Игорь</td>\n",
       "      <td>23</td>\n",
       "      <td>Омск</td>\n",
       "      <td>ultra</td>\n",
       "    </tr>\n",
       "    <tr>\n",
       "      <th>7</th>\n",
       "      <td>8</td>\n",
       "      <td>Юрий</td>\n",
       "      <td>23</td>\n",
       "      <td>Краснодар</td>\n",
       "      <td>ultra</td>\n",
       "    </tr>\n",
       "    <tr>\n",
       "      <th>8</th>\n",
       "      <td>9</td>\n",
       "      <td>Ян</td>\n",
       "      <td>21</td>\n",
       "      <td>Пятигорск</td>\n",
       "      <td>ultra</td>\n",
       "    </tr>\n",
       "    <tr>\n",
       "      <th>9</th>\n",
       "      <td>10</td>\n",
       "      <td>Валерий</td>\n",
       "      <td>18</td>\n",
       "      <td>Екатеринбург</td>\n",
       "      <td>ultra</td>\n",
       "    </tr>\n",
       "  </tbody>\n",
       "</table>\n",
       "</div>"
      ],
      "text/plain": [
       "   user_id        name  age            city subscription_type\n",
       "0        1        Кира   22          Тюмень             ultra\n",
       "1        2   Станислав   31            Омск             ultra\n",
       "2        3     Алексей   20          Москва             ultra\n",
       "3        4  Константин   26  Ростов-на-Дону             ultra\n",
       "4        5       Адель   28            Омск             ultra\n",
       "5        6      Регина   25       Краснодар             ultra\n",
       "6        7       Игорь   23            Омск             ultra\n",
       "7        8        Юрий   23       Краснодар             ultra\n",
       "8        9          Ян   21       Пятигорск             ultra\n",
       "9       10     Валерий   18    Екатеринбург             ultra"
      ]
     },
     "metadata": {},
     "output_type": "display_data"
    },
    {
     "name": "stdout",
     "output_type": "stream",
     "text": [
      "\n",
      "<class 'pandas.core.frame.DataFrame'>\n",
      "RangeIndex: 1565 entries, 0 to 1564\n",
      "Data columns (total 5 columns):\n",
      " #   Column             Non-Null Count  Dtype \n",
      "---  ------             --------------  ----- \n",
      " 0   user_id            1565 non-null   int64 \n",
      " 1   name               1565 non-null   object\n",
      " 2   age                1565 non-null   int64 \n",
      " 3   city               1565 non-null   object\n",
      " 4   subscription_type  1565 non-null   object\n",
      "dtypes: int64(2), object(3)\n",
      "memory usage: 61.3+ KB\n",
      "None\n",
      "\n",
      "           user_id          age\n",
      "count  1565.000000  1565.000000\n",
      "mean    762.633866    24.922045\n",
      "std     443.260155     4.553496\n",
      "min       1.000000    12.000000\n",
      "25%     378.000000    22.000000\n",
      "50%     762.000000    25.000000\n",
      "75%    1146.000000    28.000000\n",
      "max    1534.000000    43.000000\n",
      "\n",
      "Количество дубликатов: 31\n",
      "\n",
      "Количество пропусков: 0\n"
     ]
    }
   ],
   "source": [
    "# выведим основную информацию о датафрейме\n",
    "description(data_users)"
   ]
  },
  {
   "cell_type": "markdown",
   "id": "be1a8cc2",
   "metadata": {},
   "source": [
    "Таким образом, первичный анализ показал, что в данных о пользователях 1565 наблюдений и 5 столбцов, пропусков и аномалий не обнаружено, однако, количество наблюдений и максимальный номер id не совпадают -  в данных присутствуют дубликаты."
   ]
  },
  {
   "cell_type": "code",
   "execution_count": 6,
   "id": "26b5a14e",
   "metadata": {},
   "outputs": [],
   "source": [
    "# cчитаем данные о поездках из csv-файла в датафрейм и сохраните в переменную data_rides\n",
    "# данные разделены запятой, укажем разделитель \",\"\n",
    "# укажем параметр parse_dates=['date'] для автоматического перевода даты в формат datetime\n",
    "data_rides = pd.read_csv('/datasets/rides_go.csv', sep=',', parse_dates=['date'])"
   ]
  },
  {
   "cell_type": "code",
   "execution_count": 7,
   "id": "a0cc7714",
   "metadata": {},
   "outputs": [
    {
     "data": {
      "text/html": [
       "<div>\n",
       "<style scoped>\n",
       "    .dataframe tbody tr th:only-of-type {\n",
       "        vertical-align: middle;\n",
       "    }\n",
       "\n",
       "    .dataframe tbody tr th {\n",
       "        vertical-align: top;\n",
       "    }\n",
       "\n",
       "    .dataframe thead th {\n",
       "        text-align: right;\n",
       "    }\n",
       "</style>\n",
       "<table border=\"1\" class=\"dataframe\">\n",
       "  <thead>\n",
       "    <tr style=\"text-align: right;\">\n",
       "      <th></th>\n",
       "      <th>user_id</th>\n",
       "      <th>distance</th>\n",
       "      <th>duration</th>\n",
       "      <th>date</th>\n",
       "    </tr>\n",
       "  </thead>\n",
       "  <tbody>\n",
       "    <tr>\n",
       "      <th>0</th>\n",
       "      <td>1</td>\n",
       "      <td>4409.919140</td>\n",
       "      <td>25.599769</td>\n",
       "      <td>2021-01-01</td>\n",
       "    </tr>\n",
       "    <tr>\n",
       "      <th>1</th>\n",
       "      <td>1</td>\n",
       "      <td>2617.592153</td>\n",
       "      <td>15.816871</td>\n",
       "      <td>2021-01-18</td>\n",
       "    </tr>\n",
       "    <tr>\n",
       "      <th>2</th>\n",
       "      <td>1</td>\n",
       "      <td>754.159807</td>\n",
       "      <td>6.232113</td>\n",
       "      <td>2021-04-20</td>\n",
       "    </tr>\n",
       "    <tr>\n",
       "      <th>3</th>\n",
       "      <td>1</td>\n",
       "      <td>2694.783254</td>\n",
       "      <td>18.511000</td>\n",
       "      <td>2021-08-11</td>\n",
       "    </tr>\n",
       "    <tr>\n",
       "      <th>4</th>\n",
       "      <td>1</td>\n",
       "      <td>4028.687306</td>\n",
       "      <td>26.265803</td>\n",
       "      <td>2021-08-28</td>\n",
       "    </tr>\n",
       "    <tr>\n",
       "      <th>5</th>\n",
       "      <td>1</td>\n",
       "      <td>2770.890808</td>\n",
       "      <td>16.650138</td>\n",
       "      <td>2021-10-09</td>\n",
       "    </tr>\n",
       "    <tr>\n",
       "      <th>6</th>\n",
       "      <td>1</td>\n",
       "      <td>3039.020292</td>\n",
       "      <td>14.927879</td>\n",
       "      <td>2021-10-19</td>\n",
       "    </tr>\n",
       "    <tr>\n",
       "      <th>7</th>\n",
       "      <td>1</td>\n",
       "      <td>2842.118050</td>\n",
       "      <td>23.117468</td>\n",
       "      <td>2021-11-06</td>\n",
       "    </tr>\n",
       "    <tr>\n",
       "      <th>8</th>\n",
       "      <td>1</td>\n",
       "      <td>3412.690668</td>\n",
       "      <td>15.238072</td>\n",
       "      <td>2021-11-14</td>\n",
       "    </tr>\n",
       "    <tr>\n",
       "      <th>9</th>\n",
       "      <td>1</td>\n",
       "      <td>748.690645</td>\n",
       "      <td>15.041884</td>\n",
       "      <td>2021-11-22</td>\n",
       "    </tr>\n",
       "  </tbody>\n",
       "</table>\n",
       "</div>"
      ],
      "text/plain": [
       "   user_id     distance   duration       date\n",
       "0        1  4409.919140  25.599769 2021-01-01\n",
       "1        1  2617.592153  15.816871 2021-01-18\n",
       "2        1   754.159807   6.232113 2021-04-20\n",
       "3        1  2694.783254  18.511000 2021-08-11\n",
       "4        1  4028.687306  26.265803 2021-08-28\n",
       "5        1  2770.890808  16.650138 2021-10-09\n",
       "6        1  3039.020292  14.927879 2021-10-19\n",
       "7        1  2842.118050  23.117468 2021-11-06\n",
       "8        1  3412.690668  15.238072 2021-11-14\n",
       "9        1   748.690645  15.041884 2021-11-22"
      ]
     },
     "metadata": {},
     "output_type": "display_data"
    },
    {
     "name": "stdout",
     "output_type": "stream",
     "text": [
      "\n",
      "<class 'pandas.core.frame.DataFrame'>\n",
      "RangeIndex: 18068 entries, 0 to 18067\n",
      "Data columns (total 4 columns):\n",
      " #   Column    Non-Null Count  Dtype         \n",
      "---  ------    --------------  -----         \n",
      " 0   user_id   18068 non-null  int64         \n",
      " 1   distance  18068 non-null  float64       \n",
      " 2   duration  18068 non-null  float64       \n",
      " 3   date      18068 non-null  datetime64[ns]\n",
      "dtypes: datetime64[ns](1), float64(2), int64(1)\n",
      "memory usage: 564.8 KB\n",
      "None\n",
      "\n",
      "            user_id      distance      duration\n",
      "count  18068.000000  18068.000000  18068.000000\n",
      "mean     842.869936   3070.659976     17.805011\n",
      "std      434.734317   1116.831209      6.091051\n",
      "min        1.000000      0.855683      0.500000\n",
      "25%      487.000000   2543.226360     13.597563\n",
      "50%      889.000000   3133.609994     17.678395\n",
      "75%     1213.250000   3776.222735     21.724800\n",
      "max     1534.000000   7211.007745     40.823963\n",
      "\n",
      "Количество дубликатов: 0\n",
      "\n",
      "Количество пропусков: 0\n"
     ]
    }
   ],
   "source": [
    "# выведим основную информацию о датафрейме\n",
    "description(data_rides)"
   ]
  },
  {
   "cell_type": "markdown",
   "id": "055ff180",
   "metadata": {},
   "source": [
    "Таким образом, первичный анализ показал, что в данных о поездках 18068 наблюдений и 4 столбца, пропусков не обнаружено. Дата была переведена в формат datetime."
   ]
  },
  {
   "cell_type": "code",
   "execution_count": 8,
   "id": "dfacfbe6",
   "metadata": {},
   "outputs": [],
   "source": [
    "# cчитаем данные о подписках из csv-файла в датафрейм и сохраните в переменную data_sub\n",
    "# данные разделены запятой, укажем разделитель \",\"\n",
    "data_sub = pd.read_csv('/datasets/subscriptions_go.csv', sep=',')"
   ]
  },
  {
   "cell_type": "code",
   "execution_count": 9,
   "id": "b8df4369",
   "metadata": {},
   "outputs": [
    {
     "data": {
      "text/html": [
       "<div>\n",
       "<style scoped>\n",
       "    .dataframe tbody tr th:only-of-type {\n",
       "        vertical-align: middle;\n",
       "    }\n",
       "\n",
       "    .dataframe tbody tr th {\n",
       "        vertical-align: top;\n",
       "    }\n",
       "\n",
       "    .dataframe thead th {\n",
       "        text-align: right;\n",
       "    }\n",
       "</style>\n",
       "<table border=\"1\" class=\"dataframe\">\n",
       "  <thead>\n",
       "    <tr style=\"text-align: right;\">\n",
       "      <th></th>\n",
       "      <th>subscription_type</th>\n",
       "      <th>minute_price</th>\n",
       "      <th>start_ride_price</th>\n",
       "      <th>subscription_fee</th>\n",
       "    </tr>\n",
       "  </thead>\n",
       "  <tbody>\n",
       "    <tr>\n",
       "      <th>0</th>\n",
       "      <td>free</td>\n",
       "      <td>8</td>\n",
       "      <td>50</td>\n",
       "      <td>0</td>\n",
       "    </tr>\n",
       "    <tr>\n",
       "      <th>1</th>\n",
       "      <td>ultra</td>\n",
       "      <td>6</td>\n",
       "      <td>0</td>\n",
       "      <td>199</td>\n",
       "    </tr>\n",
       "  </tbody>\n",
       "</table>\n",
       "</div>"
      ],
      "text/plain": [
       "  subscription_type  minute_price  start_ride_price  subscription_fee\n",
       "0              free             8                50                 0\n",
       "1             ultra             6                 0               199"
      ]
     },
     "metadata": {},
     "output_type": "display_data"
    },
    {
     "name": "stdout",
     "output_type": "stream",
     "text": [
      "\n",
      "<class 'pandas.core.frame.DataFrame'>\n",
      "RangeIndex: 2 entries, 0 to 1\n",
      "Data columns (total 4 columns):\n",
      " #   Column             Non-Null Count  Dtype \n",
      "---  ------             --------------  ----- \n",
      " 0   subscription_type  2 non-null      object\n",
      " 1   minute_price       2 non-null      int64 \n",
      " 2   start_ride_price   2 non-null      int64 \n",
      " 3   subscription_fee   2 non-null      int64 \n",
      "dtypes: int64(3), object(1)\n",
      "memory usage: 192.0+ bytes\n",
      "None\n",
      "\n",
      "       minute_price  start_ride_price  subscription_fee\n",
      "count      2.000000          2.000000          2.000000\n",
      "mean       7.000000         25.000000         99.500000\n",
      "std        1.414214         35.355339        140.714249\n",
      "min        6.000000          0.000000          0.000000\n",
      "25%        6.500000         12.500000         49.750000\n",
      "50%        7.000000         25.000000         99.500000\n",
      "75%        7.500000         37.500000        149.250000\n",
      "max        8.000000         50.000000        199.000000\n",
      "\n",
      "Количество дубликатов: 0\n",
      "\n",
      "Количество пропусков: 0\n"
     ]
    }
   ],
   "source": [
    "# выведим основную информацию о датафрейме\n",
    "description(data_sub)"
   ]
  },
  {
   "cell_type": "markdown",
   "id": "24397541",
   "metadata": {},
   "source": [
    "Таким образом, первичный анализ показал, что в данных о подписках 2 строки и 4 параметра, пропусков не обнаружено. "
   ]
  },
  {
   "cell_type": "markdown",
   "id": "e95ebca7",
   "metadata": {},
   "source": [
    "# Шаг 2. Предобработка данных"
   ]
  },
  {
   "cell_type": "markdown",
   "id": "a65de9c1",
   "metadata": {},
   "source": [
    "##### Работа с датой"
   ]
  },
  {
   "cell_type": "code",
   "execution_count": 10,
   "id": "3fad5123",
   "metadata": {},
   "outputs": [
    {
     "data": {
      "text/html": [
       "<div>\n",
       "<style scoped>\n",
       "    .dataframe tbody tr th:only-of-type {\n",
       "        vertical-align: middle;\n",
       "    }\n",
       "\n",
       "    .dataframe tbody tr th {\n",
       "        vertical-align: top;\n",
       "    }\n",
       "\n",
       "    .dataframe thead th {\n",
       "        text-align: right;\n",
       "    }\n",
       "</style>\n",
       "<table border=\"1\" class=\"dataframe\">\n",
       "  <thead>\n",
       "    <tr style=\"text-align: right;\">\n",
       "      <th></th>\n",
       "      <th>user_id</th>\n",
       "      <th>distance</th>\n",
       "      <th>duration</th>\n",
       "      <th>date</th>\n",
       "    </tr>\n",
       "  </thead>\n",
       "  <tbody>\n",
       "    <tr>\n",
       "      <th>0</th>\n",
       "      <td>1</td>\n",
       "      <td>4409.919140</td>\n",
       "      <td>25.599769</td>\n",
       "      <td>2021-01-01</td>\n",
       "    </tr>\n",
       "    <tr>\n",
       "      <th>1</th>\n",
       "      <td>1</td>\n",
       "      <td>2617.592153</td>\n",
       "      <td>15.816871</td>\n",
       "      <td>2021-01-18</td>\n",
       "    </tr>\n",
       "    <tr>\n",
       "      <th>2</th>\n",
       "      <td>1</td>\n",
       "      <td>754.159807</td>\n",
       "      <td>6.232113</td>\n",
       "      <td>2021-04-20</td>\n",
       "    </tr>\n",
       "    <tr>\n",
       "      <th>3</th>\n",
       "      <td>1</td>\n",
       "      <td>2694.783254</td>\n",
       "      <td>18.511000</td>\n",
       "      <td>2021-08-11</td>\n",
       "    </tr>\n",
       "    <tr>\n",
       "      <th>4</th>\n",
       "      <td>1</td>\n",
       "      <td>4028.687306</td>\n",
       "      <td>26.265803</td>\n",
       "      <td>2021-08-28</td>\n",
       "    </tr>\n",
       "    <tr>\n",
       "      <th>...</th>\n",
       "      <td>...</td>\n",
       "      <td>...</td>\n",
       "      <td>...</td>\n",
       "      <td>...</td>\n",
       "    </tr>\n",
       "    <tr>\n",
       "      <th>18063</th>\n",
       "      <td>1534</td>\n",
       "      <td>3781.098080</td>\n",
       "      <td>19.822962</td>\n",
       "      <td>2021-11-04</td>\n",
       "    </tr>\n",
       "    <tr>\n",
       "      <th>18064</th>\n",
       "      <td>1534</td>\n",
       "      <td>2840.423057</td>\n",
       "      <td>21.409799</td>\n",
       "      <td>2021-11-16</td>\n",
       "    </tr>\n",
       "    <tr>\n",
       "      <th>18065</th>\n",
       "      <td>1534</td>\n",
       "      <td>3826.185507</td>\n",
       "      <td>18.435051</td>\n",
       "      <td>2021-11-18</td>\n",
       "    </tr>\n",
       "    <tr>\n",
       "      <th>18066</th>\n",
       "      <td>1534</td>\n",
       "      <td>2902.308661</td>\n",
       "      <td>16.674362</td>\n",
       "      <td>2021-11-27</td>\n",
       "    </tr>\n",
       "    <tr>\n",
       "      <th>18067</th>\n",
       "      <td>1534</td>\n",
       "      <td>2371.711192</td>\n",
       "      <td>15.893917</td>\n",
       "      <td>2021-12-29</td>\n",
       "    </tr>\n",
       "  </tbody>\n",
       "</table>\n",
       "<p>18068 rows × 4 columns</p>\n",
       "</div>"
      ],
      "text/plain": [
       "       user_id     distance   duration       date\n",
       "0            1  4409.919140  25.599769 2021-01-01\n",
       "1            1  2617.592153  15.816871 2021-01-18\n",
       "2            1   754.159807   6.232113 2021-04-20\n",
       "3            1  2694.783254  18.511000 2021-08-11\n",
       "4            1  4028.687306  26.265803 2021-08-28\n",
       "...        ...          ...        ...        ...\n",
       "18063     1534  3781.098080  19.822962 2021-11-04\n",
       "18064     1534  2840.423057  21.409799 2021-11-16\n",
       "18065     1534  3826.185507  18.435051 2021-11-18\n",
       "18066     1534  2902.308661  16.674362 2021-11-27\n",
       "18067     1534  2371.711192  15.893917 2021-12-29\n",
       "\n",
       "[18068 rows x 4 columns]"
      ]
     },
     "execution_count": 10,
     "metadata": {},
     "output_type": "execute_result"
    }
   ],
   "source": [
    "# выведем таблицу с данными о поездках\n",
    "data_rides"
   ]
  },
  {
   "cell_type": "code",
   "execution_count": 11,
   "id": "85911494",
   "metadata": {},
   "outputs": [],
   "source": [
    "# Добавим в датафрейм новый столбец с номером месяца для дальнейшей работы с данными\n",
    "data_rides['month'] = data_rides['date'].dt.month"
   ]
  },
  {
   "cell_type": "code",
   "execution_count": 12,
   "id": "d0e1b459",
   "metadata": {},
   "outputs": [
    {
     "data": {
      "text/html": [
       "<div>\n",
       "<style scoped>\n",
       "    .dataframe tbody tr th:only-of-type {\n",
       "        vertical-align: middle;\n",
       "    }\n",
       "\n",
       "    .dataframe tbody tr th {\n",
       "        vertical-align: top;\n",
       "    }\n",
       "\n",
       "    .dataframe thead th {\n",
       "        text-align: right;\n",
       "    }\n",
       "</style>\n",
       "<table border=\"1\" class=\"dataframe\">\n",
       "  <thead>\n",
       "    <tr style=\"text-align: right;\">\n",
       "      <th></th>\n",
       "      <th>user_id</th>\n",
       "      <th>distance</th>\n",
       "      <th>duration</th>\n",
       "      <th>date</th>\n",
       "      <th>month</th>\n",
       "    </tr>\n",
       "  </thead>\n",
       "  <tbody>\n",
       "    <tr>\n",
       "      <th>0</th>\n",
       "      <td>1</td>\n",
       "      <td>4409.919140</td>\n",
       "      <td>25.599769</td>\n",
       "      <td>2021-01-01</td>\n",
       "      <td>1</td>\n",
       "    </tr>\n",
       "    <tr>\n",
       "      <th>1</th>\n",
       "      <td>1</td>\n",
       "      <td>2617.592153</td>\n",
       "      <td>15.816871</td>\n",
       "      <td>2021-01-18</td>\n",
       "      <td>1</td>\n",
       "    </tr>\n",
       "    <tr>\n",
       "      <th>2</th>\n",
       "      <td>1</td>\n",
       "      <td>754.159807</td>\n",
       "      <td>6.232113</td>\n",
       "      <td>2021-04-20</td>\n",
       "      <td>4</td>\n",
       "    </tr>\n",
       "    <tr>\n",
       "      <th>3</th>\n",
       "      <td>1</td>\n",
       "      <td>2694.783254</td>\n",
       "      <td>18.511000</td>\n",
       "      <td>2021-08-11</td>\n",
       "      <td>8</td>\n",
       "    </tr>\n",
       "    <tr>\n",
       "      <th>4</th>\n",
       "      <td>1</td>\n",
       "      <td>4028.687306</td>\n",
       "      <td>26.265803</td>\n",
       "      <td>2021-08-28</td>\n",
       "      <td>8</td>\n",
       "    </tr>\n",
       "    <tr>\n",
       "      <th>5</th>\n",
       "      <td>1</td>\n",
       "      <td>2770.890808</td>\n",
       "      <td>16.650138</td>\n",
       "      <td>2021-10-09</td>\n",
       "      <td>10</td>\n",
       "    </tr>\n",
       "    <tr>\n",
       "      <th>6</th>\n",
       "      <td>1</td>\n",
       "      <td>3039.020292</td>\n",
       "      <td>14.927879</td>\n",
       "      <td>2021-10-19</td>\n",
       "      <td>10</td>\n",
       "    </tr>\n",
       "    <tr>\n",
       "      <th>7</th>\n",
       "      <td>1</td>\n",
       "      <td>2842.118050</td>\n",
       "      <td>23.117468</td>\n",
       "      <td>2021-11-06</td>\n",
       "      <td>11</td>\n",
       "    </tr>\n",
       "    <tr>\n",
       "      <th>8</th>\n",
       "      <td>1</td>\n",
       "      <td>3412.690668</td>\n",
       "      <td>15.238072</td>\n",
       "      <td>2021-11-14</td>\n",
       "      <td>11</td>\n",
       "    </tr>\n",
       "    <tr>\n",
       "      <th>9</th>\n",
       "      <td>1</td>\n",
       "      <td>748.690645</td>\n",
       "      <td>15.041884</td>\n",
       "      <td>2021-11-22</td>\n",
       "      <td>11</td>\n",
       "    </tr>\n",
       "  </tbody>\n",
       "</table>\n",
       "</div>"
      ],
      "text/plain": [
       "   user_id     distance   duration       date  month\n",
       "0        1  4409.919140  25.599769 2021-01-01      1\n",
       "1        1  2617.592153  15.816871 2021-01-18      1\n",
       "2        1   754.159807   6.232113 2021-04-20      4\n",
       "3        1  2694.783254  18.511000 2021-08-11      8\n",
       "4        1  4028.687306  26.265803 2021-08-28      8\n",
       "5        1  2770.890808  16.650138 2021-10-09     10\n",
       "6        1  3039.020292  14.927879 2021-10-19     10\n",
       "7        1  2842.118050  23.117468 2021-11-06     11\n",
       "8        1  3412.690668  15.238072 2021-11-14     11\n",
       "9        1   748.690645  15.041884 2021-11-22     11"
      ]
     },
     "execution_count": 12,
     "metadata": {},
     "output_type": "execute_result"
    }
   ],
   "source": [
    "data_rides.head(10)"
   ]
  },
  {
   "cell_type": "markdown",
   "id": "5ae519c5",
   "metadata": {},
   "source": [
    "##### Работа с пропусками"
   ]
  },
  {
   "cell_type": "code",
   "execution_count": 13,
   "id": "9bb46cbe",
   "metadata": {},
   "outputs": [
    {
     "name": "stdout",
     "output_type": "stream",
     "text": [
      "user_id              0\n",
      "name                 0\n",
      "age                  0\n",
      "city                 0\n",
      "subscription_type    0\n",
      "dtype: int64\n",
      "\n"
     ]
    },
    {
     "data": {
      "text/plain": [
       "user_id              0.0\n",
       "name                 0.0\n",
       "age                  0.0\n",
       "city                 0.0\n",
       "subscription_type    0.0\n",
       "dtype: float64"
      ]
     },
     "execution_count": 13,
     "metadata": {},
     "output_type": "execute_result"
    }
   ],
   "source": [
    "# выведим количество пропущенных значений для каждого столбца, а также долю пропусков\n",
    "print(data_users.isna().sum())\n",
    "print()\n",
    "data_users.isna().sum() / len(data_users) * 100"
   ]
  },
  {
   "cell_type": "code",
   "execution_count": 14,
   "id": "f6268109",
   "metadata": {},
   "outputs": [
    {
     "data": {
      "text/plain": [
       "['Агата',\n",
       " 'Аделина',\n",
       " 'Адель',\n",
       " 'Айдар',\n",
       " 'Александр',\n",
       " 'Александра',\n",
       " 'Алексей',\n",
       " 'Алина',\n",
       " 'Алиса',\n",
       " 'Алия',\n",
       " 'Алла',\n",
       " 'Альберт',\n",
       " 'Альбина',\n",
       " 'Алёна',\n",
       " 'Амалия',\n",
       " 'Амина',\n",
       " 'Амир',\n",
       " 'Анастасия',\n",
       " 'Анатолий',\n",
       " 'Ангелина',\n",
       " 'Андрей',\n",
       " 'Анжелика',\n",
       " 'Анна',\n",
       " 'Антон',\n",
       " 'Антонина',\n",
       " 'Ариана',\n",
       " 'Арина',\n",
       " 'Арсен',\n",
       " 'Арсений',\n",
       " 'Артемий',\n",
       " 'Артур',\n",
       " 'Артём',\n",
       " 'Богдан',\n",
       " 'Борис',\n",
       " 'Вадим',\n",
       " 'Валентина',\n",
       " 'Валерий',\n",
       " 'Валерия',\n",
       " 'Варвара',\n",
       " 'Василий',\n",
       " 'Василина',\n",
       " 'Василиса',\n",
       " 'Вера',\n",
       " 'Вероника',\n",
       " 'Виктор',\n",
       " 'Виктория',\n",
       " 'Виолетта',\n",
       " 'Виталий',\n",
       " 'Виталина',\n",
       " 'Влад',\n",
       " 'Влада',\n",
       " 'Владимир',\n",
       " 'Владислав',\n",
       " 'Владислава',\n",
       " 'Всеволод',\n",
       " 'Вячеслав',\n",
       " 'Галина',\n",
       " 'Георгий',\n",
       " 'Герман',\n",
       " 'Глеб',\n",
       " 'Гордей',\n",
       " 'Григорий',\n",
       " 'Давид',\n",
       " 'Дамир',\n",
       " 'Даниил',\n",
       " 'Данил',\n",
       " 'Данила',\n",
       " 'Даниэль',\n",
       " 'Дарина',\n",
       " 'Дарья',\n",
       " 'Демид',\n",
       " 'Денис',\n",
       " 'Диана',\n",
       " 'Дмитрий',\n",
       " 'Ева',\n",
       " 'Евгений',\n",
       " 'Евгения',\n",
       " 'Егор',\n",
       " 'Екатерина',\n",
       " 'Елена',\n",
       " 'Елизавета',\n",
       " 'Елисей',\n",
       " 'Есения',\n",
       " 'Жанна',\n",
       " 'Зарина',\n",
       " 'Захар',\n",
       " 'Злата',\n",
       " 'Иван',\n",
       " 'Игнат',\n",
       " 'Игорь',\n",
       " 'Ильдар',\n",
       " 'Илья',\n",
       " 'Инна',\n",
       " 'Ирина',\n",
       " 'Камилла',\n",
       " 'Карина',\n",
       " 'Каролина',\n",
       " 'Кира',\n",
       " 'Кирилл',\n",
       " 'Константин',\n",
       " 'Кристина',\n",
       " 'Ксения',\n",
       " 'Лариса',\n",
       " 'Лев',\n",
       " 'Леонид',\n",
       " 'Лиана',\n",
       " 'Лидия',\n",
       " 'Лилия',\n",
       " 'Любовь',\n",
       " 'Людмила',\n",
       " 'Мадина',\n",
       " 'Майя',\n",
       " 'Макар',\n",
       " 'Максим',\n",
       " 'Марат',\n",
       " 'Маргарита',\n",
       " 'Марина',\n",
       " 'Мария',\n",
       " 'Марк',\n",
       " 'Марсель',\n",
       " 'Матвей',\n",
       " 'Мелания',\n",
       " 'Милана',\n",
       " 'Милена',\n",
       " 'Мирон',\n",
       " 'Мирослав',\n",
       " 'Мирослава',\n",
       " 'Михаил',\n",
       " 'Назар',\n",
       " 'Наталия',\n",
       " 'Наталья',\n",
       " 'Наташа',\n",
       " 'Нелли',\n",
       " 'Ника',\n",
       " 'Никита',\n",
       " 'Николай',\n",
       " 'Нина',\n",
       " 'Одиссей',\n",
       " 'Оксана',\n",
       " 'Олег',\n",
       " 'Олеся',\n",
       " 'Ольга',\n",
       " 'Павел',\n",
       " 'Петр',\n",
       " 'Платон',\n",
       " 'Полина',\n",
       " 'Радмир',\n",
       " 'Рамиль',\n",
       " 'Регина',\n",
       " 'Роберт',\n",
       " 'Родион',\n",
       " 'Роман',\n",
       " 'Ростислав',\n",
       " 'Руслан',\n",
       " 'Рустам',\n",
       " 'Савелий',\n",
       " 'Самир',\n",
       " 'Самира',\n",
       " 'Светлана',\n",
       " 'Святогор',\n",
       " 'Святослав',\n",
       " 'Семен',\n",
       " 'Сергей',\n",
       " 'Снежана',\n",
       " 'София',\n",
       " 'Софья',\n",
       " 'Станислав',\n",
       " 'Степан',\n",
       " 'Стефания',\n",
       " 'Таисия',\n",
       " 'Тамара',\n",
       " 'Тамерлан',\n",
       " 'Татьяна',\n",
       " 'Тимофей',\n",
       " 'Тимур',\n",
       " 'Тихон',\n",
       " 'Ульяна',\n",
       " 'Федор',\n",
       " 'Эвелина',\n",
       " 'Эдуард',\n",
       " 'Элина',\n",
       " 'Эльвира',\n",
       " 'Эльмира',\n",
       " 'Эмилия',\n",
       " 'Эмиль',\n",
       " 'Юлиана',\n",
       " 'Юлия',\n",
       " 'Юрий',\n",
       " 'Ян',\n",
       " 'Яна',\n",
       " 'Яромир',\n",
       " 'Ярослав',\n",
       " 'Ярослава',\n",
       " 'Ясмина']"
      ]
     },
     "execution_count": 14,
     "metadata": {},
     "output_type": "execute_result"
    }
   ],
   "source": [
    "# проверим наличие аномалий в нечисловых столбцах\n",
    "sorted(data_users['name'].unique())"
   ]
  },
  {
   "cell_type": "code",
   "execution_count": 15,
   "id": "48f86389",
   "metadata": {},
   "outputs": [
    {
     "data": {
      "text/plain": [
       "array(['Тюмень', 'Омск', 'Москва', 'Ростов-на-Дону', 'Краснодар',\n",
       "       'Пятигорск', 'Екатеринбург', 'Сочи'], dtype=object)"
      ]
     },
     "execution_count": 15,
     "metadata": {},
     "output_type": "execute_result"
    }
   ],
   "source": [
    "data_users['city'].unique()"
   ]
  },
  {
   "cell_type": "code",
   "execution_count": 16,
   "id": "4f8ab45a",
   "metadata": {},
   "outputs": [
    {
     "name": "stdout",
     "output_type": "stream",
     "text": [
      "user_id     0\n",
      "distance    0\n",
      "duration    0\n",
      "date        0\n",
      "month       0\n",
      "dtype: int64\n",
      "\n"
     ]
    },
    {
     "data": {
      "text/plain": [
       "user_id     0.0\n",
       "distance    0.0\n",
       "duration    0.0\n",
       "date        0.0\n",
       "month       0.0\n",
       "dtype: float64"
      ]
     },
     "execution_count": 16,
     "metadata": {},
     "output_type": "execute_result"
    }
   ],
   "source": [
    "print(data_rides.isna().sum())\n",
    "print()\n",
    "data_rides.isna().sum() / len(data_rides) * 100"
   ]
  },
  {
   "cell_type": "code",
   "execution_count": 17,
   "id": "63e4a23d",
   "metadata": {},
   "outputs": [
    {
     "name": "stdout",
     "output_type": "stream",
     "text": [
      "subscription_type    0\n",
      "minute_price         0\n",
      "start_ride_price     0\n",
      "subscription_fee     0\n",
      "dtype: int64\n",
      "\n"
     ]
    },
    {
     "data": {
      "text/plain": [
       "subscription_type    0.0\n",
       "minute_price         0.0\n",
       "start_ride_price     0.0\n",
       "subscription_fee     0.0\n",
       "dtype: float64"
      ]
     },
     "execution_count": 17,
     "metadata": {},
     "output_type": "execute_result"
    }
   ],
   "source": [
    "print(data_sub.isna().sum())\n",
    "print()\n",
    "data_sub.isna().sum() / len(data_sub) * 100"
   ]
  },
  {
   "cell_type": "code",
   "execution_count": 18,
   "id": "d2a08314",
   "metadata": {},
   "outputs": [
    {
     "data": {
      "text/html": [
       "<div>\n",
       "<style scoped>\n",
       "    .dataframe tbody tr th:only-of-type {\n",
       "        vertical-align: middle;\n",
       "    }\n",
       "\n",
       "    .dataframe tbody tr th {\n",
       "        vertical-align: top;\n",
       "    }\n",
       "\n",
       "    .dataframe thead th {\n",
       "        text-align: right;\n",
       "    }\n",
       "</style>\n",
       "<table border=\"1\" class=\"dataframe\">\n",
       "  <thead>\n",
       "    <tr style=\"text-align: right;\">\n",
       "      <th></th>\n",
       "      <th>subscription_type</th>\n",
       "      <th>minute_price</th>\n",
       "      <th>start_ride_price</th>\n",
       "      <th>subscription_fee</th>\n",
       "    </tr>\n",
       "  </thead>\n",
       "  <tbody>\n",
       "    <tr>\n",
       "      <th>0</th>\n",
       "      <td>free</td>\n",
       "      <td>8</td>\n",
       "      <td>50</td>\n",
       "      <td>0</td>\n",
       "    </tr>\n",
       "    <tr>\n",
       "      <th>1</th>\n",
       "      <td>ultra</td>\n",
       "      <td>6</td>\n",
       "      <td>0</td>\n",
       "      <td>199</td>\n",
       "    </tr>\n",
       "  </tbody>\n",
       "</table>\n",
       "</div>"
      ],
      "text/plain": [
       "  subscription_type  minute_price  start_ride_price  subscription_fee\n",
       "0              free             8                50                 0\n",
       "1             ultra             6                 0               199"
      ]
     },
     "execution_count": 18,
     "metadata": {},
     "output_type": "execute_result"
    }
   ],
   "source": [
    "data_sub"
   ]
  },
  {
   "cell_type": "markdown",
   "id": "f78e6015",
   "metadata": {},
   "source": [
    "Явных и неявных пропусков в данных не выявлено"
   ]
  },
  {
   "cell_type": "markdown",
   "id": "e45d366d",
   "metadata": {},
   "source": [
    "##### Работа с дубликатами и аномалиями"
   ]
  },
  {
   "cell_type": "code",
   "execution_count": 19,
   "id": "2fbdd402",
   "metadata": {},
   "outputs": [
    {
     "data": {
      "text/plain": [
       "31"
      ]
     },
     "execution_count": 19,
     "metadata": {},
     "output_type": "execute_result"
    }
   ],
   "source": [
    "# посчитаем сумму дубликатов в data_users\n",
    "data_users.duplicated().sum()"
   ]
  },
  {
   "cell_type": "code",
   "execution_count": 20,
   "id": "1878392d",
   "metadata": {
    "scrolled": true
   },
   "outputs": [
    {
     "data": {
      "text/html": [
       "<div>\n",
       "<style scoped>\n",
       "    .dataframe tbody tr th:only-of-type {\n",
       "        vertical-align: middle;\n",
       "    }\n",
       "\n",
       "    .dataframe tbody tr th {\n",
       "        vertical-align: top;\n",
       "    }\n",
       "\n",
       "    .dataframe thead th {\n",
       "        text-align: right;\n",
       "    }\n",
       "</style>\n",
       "<table border=\"1\" class=\"dataframe\">\n",
       "  <thead>\n",
       "    <tr style=\"text-align: right;\">\n",
       "      <th></th>\n",
       "      <th>user_id</th>\n",
       "      <th>name</th>\n",
       "      <th>age</th>\n",
       "      <th>city</th>\n",
       "      <th>subscription_type</th>\n",
       "    </tr>\n",
       "  </thead>\n",
       "  <tbody>\n",
       "    <tr>\n",
       "      <th>1535</th>\n",
       "      <td>16</td>\n",
       "      <td>Амалия</td>\n",
       "      <td>27</td>\n",
       "      <td>Краснодар</td>\n",
       "      <td>ultra</td>\n",
       "    </tr>\n",
       "    <tr>\n",
       "      <th>1539</th>\n",
       "      <td>43</td>\n",
       "      <td>Стефания</td>\n",
       "      <td>22</td>\n",
       "      <td>Омск</td>\n",
       "      <td>ultra</td>\n",
       "    </tr>\n",
       "    <tr>\n",
       "      <th>1563</th>\n",
       "      <td>47</td>\n",
       "      <td>Юрий</td>\n",
       "      <td>28</td>\n",
       "      <td>Тюмень</td>\n",
       "      <td>ultra</td>\n",
       "    </tr>\n",
       "    <tr>\n",
       "      <th>1555</th>\n",
       "      <td>72</td>\n",
       "      <td>Никита</td>\n",
       "      <td>25</td>\n",
       "      <td>Москва</td>\n",
       "      <td>ultra</td>\n",
       "    </tr>\n",
       "    <tr>\n",
       "      <th>1549</th>\n",
       "      <td>108</td>\n",
       "      <td>Влада</td>\n",
       "      <td>29</td>\n",
       "      <td>Тюмень</td>\n",
       "      <td>ultra</td>\n",
       "    </tr>\n",
       "    <tr>\n",
       "      <th>1553</th>\n",
       "      <td>121</td>\n",
       "      <td>Алина</td>\n",
       "      <td>25</td>\n",
       "      <td>Пятигорск</td>\n",
       "      <td>ultra</td>\n",
       "    </tr>\n",
       "    <tr>\n",
       "      <th>1540</th>\n",
       "      <td>127</td>\n",
       "      <td>Павел</td>\n",
       "      <td>25</td>\n",
       "      <td>Пятигорск</td>\n",
       "      <td>ultra</td>\n",
       "    </tr>\n",
       "    <tr>\n",
       "      <th>1548</th>\n",
       "      <td>136</td>\n",
       "      <td>Марсель</td>\n",
       "      <td>25</td>\n",
       "      <td>Тюмень</td>\n",
       "      <td>ultra</td>\n",
       "    </tr>\n",
       "    <tr>\n",
       "      <th>1543</th>\n",
       "      <td>153</td>\n",
       "      <td>Герман</td>\n",
       "      <td>23</td>\n",
       "      <td>Москва</td>\n",
       "      <td>ultra</td>\n",
       "    </tr>\n",
       "    <tr>\n",
       "      <th>1542</th>\n",
       "      <td>204</td>\n",
       "      <td>Руслан</td>\n",
       "      <td>30</td>\n",
       "      <td>Пятигорск</td>\n",
       "      <td>ultra</td>\n",
       "    </tr>\n",
       "    <tr>\n",
       "      <th>1559</th>\n",
       "      <td>209</td>\n",
       "      <td>Андрей</td>\n",
       "      <td>23</td>\n",
       "      <td>Омск</td>\n",
       "      <td>ultra</td>\n",
       "    </tr>\n",
       "    <tr>\n",
       "      <th>1534</th>\n",
       "      <td>293</td>\n",
       "      <td>Агата</td>\n",
       "      <td>26</td>\n",
       "      <td>Краснодар</td>\n",
       "      <td>ultra</td>\n",
       "    </tr>\n",
       "    <tr>\n",
       "      <th>1552</th>\n",
       "      <td>297</td>\n",
       "      <td>Егор</td>\n",
       "      <td>33</td>\n",
       "      <td>Пятигорск</td>\n",
       "      <td>ultra</td>\n",
       "    </tr>\n",
       "    <tr>\n",
       "      <th>1562</th>\n",
       "      <td>307</td>\n",
       "      <td>Ясмина</td>\n",
       "      <td>19</td>\n",
       "      <td>Краснодар</td>\n",
       "      <td>ultra</td>\n",
       "    </tr>\n",
       "    <tr>\n",
       "      <th>1537</th>\n",
       "      <td>403</td>\n",
       "      <td>Полина</td>\n",
       "      <td>19</td>\n",
       "      <td>Сочи</td>\n",
       "      <td>ultra</td>\n",
       "    </tr>\n",
       "    <tr>\n",
       "      <th>1556</th>\n",
       "      <td>422</td>\n",
       "      <td>Кирилл</td>\n",
       "      <td>27</td>\n",
       "      <td>Сочи</td>\n",
       "      <td>ultra</td>\n",
       "    </tr>\n",
       "    <tr>\n",
       "      <th>1557</th>\n",
       "      <td>611</td>\n",
       "      <td>Владимир</td>\n",
       "      <td>28</td>\n",
       "      <td>Омск</td>\n",
       "      <td>ultra</td>\n",
       "    </tr>\n",
       "    <tr>\n",
       "      <th>1547</th>\n",
       "      <td>635</td>\n",
       "      <td>Герман</td>\n",
       "      <td>21</td>\n",
       "      <td>Москва</td>\n",
       "      <td>ultra</td>\n",
       "    </tr>\n",
       "    <tr>\n",
       "      <th>1541</th>\n",
       "      <td>659</td>\n",
       "      <td>Злата</td>\n",
       "      <td>27</td>\n",
       "      <td>Ростов-на-Дону</td>\n",
       "      <td>ultra</td>\n",
       "    </tr>\n",
       "    <tr>\n",
       "      <th>1551</th>\n",
       "      <td>666</td>\n",
       "      <td>Зарина</td>\n",
       "      <td>29</td>\n",
       "      <td>Москва</td>\n",
       "      <td>ultra</td>\n",
       "    </tr>\n",
       "    <tr>\n",
       "      <th>1550</th>\n",
       "      <td>737</td>\n",
       "      <td>Мелания</td>\n",
       "      <td>27</td>\n",
       "      <td>Ростов-на-Дону</td>\n",
       "      <td>free</td>\n",
       "    </tr>\n",
       "    <tr>\n",
       "      <th>1545</th>\n",
       "      <td>807</td>\n",
       "      <td>Александр</td>\n",
       "      <td>28</td>\n",
       "      <td>Екатеринбург</td>\n",
       "      <td>free</td>\n",
       "    </tr>\n",
       "    <tr>\n",
       "      <th>1561</th>\n",
       "      <td>809</td>\n",
       "      <td>Юрий</td>\n",
       "      <td>26</td>\n",
       "      <td>Сочи</td>\n",
       "      <td>free</td>\n",
       "    </tr>\n",
       "    <tr>\n",
       "      <th>1560</th>\n",
       "      <td>829</td>\n",
       "      <td>Федор</td>\n",
       "      <td>29</td>\n",
       "      <td>Пятигорск</td>\n",
       "      <td>free</td>\n",
       "    </tr>\n",
       "    <tr>\n",
       "      <th>1538</th>\n",
       "      <td>908</td>\n",
       "      <td>Рустам</td>\n",
       "      <td>30</td>\n",
       "      <td>Тюмень</td>\n",
       "      <td>free</td>\n",
       "    </tr>\n",
       "    <tr>\n",
       "      <th>1536</th>\n",
       "      <td>909</td>\n",
       "      <td>Константин</td>\n",
       "      <td>20</td>\n",
       "      <td>Екатеринбург</td>\n",
       "      <td>free</td>\n",
       "    </tr>\n",
       "    <tr>\n",
       "      <th>1546</th>\n",
       "      <td>924</td>\n",
       "      <td>Мария</td>\n",
       "      <td>23</td>\n",
       "      <td>Пятигорск</td>\n",
       "      <td>free</td>\n",
       "    </tr>\n",
       "    <tr>\n",
       "      <th>1564</th>\n",
       "      <td>1045</td>\n",
       "      <td>Артемий</td>\n",
       "      <td>28</td>\n",
       "      <td>Ростов-на-Дону</td>\n",
       "      <td>free</td>\n",
       "    </tr>\n",
       "    <tr>\n",
       "      <th>1554</th>\n",
       "      <td>1198</td>\n",
       "      <td>Демид</td>\n",
       "      <td>29</td>\n",
       "      <td>Ростов-на-Дону</td>\n",
       "      <td>free</td>\n",
       "    </tr>\n",
       "    <tr>\n",
       "      <th>1558</th>\n",
       "      <td>1237</td>\n",
       "      <td>Евгения</td>\n",
       "      <td>23</td>\n",
       "      <td>Тюмень</td>\n",
       "      <td>free</td>\n",
       "    </tr>\n",
       "    <tr>\n",
       "      <th>1544</th>\n",
       "      <td>1245</td>\n",
       "      <td>Регина</td>\n",
       "      <td>27</td>\n",
       "      <td>Пятигорск</td>\n",
       "      <td>free</td>\n",
       "    </tr>\n",
       "  </tbody>\n",
       "</table>\n",
       "</div>"
      ],
      "text/plain": [
       "      user_id        name  age            city subscription_type\n",
       "1535       16      Амалия   27       Краснодар             ultra\n",
       "1539       43    Стефания   22            Омск             ultra\n",
       "1563       47        Юрий   28          Тюмень             ultra\n",
       "1555       72      Никита   25          Москва             ultra\n",
       "1549      108       Влада   29          Тюмень             ultra\n",
       "1553      121       Алина   25       Пятигорск             ultra\n",
       "1540      127       Павел   25       Пятигорск             ultra\n",
       "1548      136     Марсель   25          Тюмень             ultra\n",
       "1543      153      Герман   23          Москва             ultra\n",
       "1542      204      Руслан   30       Пятигорск             ultra\n",
       "1559      209      Андрей   23            Омск             ultra\n",
       "1534      293       Агата   26       Краснодар             ultra\n",
       "1552      297        Егор   33       Пятигорск             ultra\n",
       "1562      307      Ясмина   19       Краснодар             ultra\n",
       "1537      403      Полина   19            Сочи             ultra\n",
       "1556      422      Кирилл   27            Сочи             ultra\n",
       "1557      611    Владимир   28            Омск             ultra\n",
       "1547      635      Герман   21          Москва             ultra\n",
       "1541      659       Злата   27  Ростов-на-Дону             ultra\n",
       "1551      666      Зарина   29          Москва             ultra\n",
       "1550      737     Мелания   27  Ростов-на-Дону              free\n",
       "1545      807   Александр   28    Екатеринбург              free\n",
       "1561      809        Юрий   26            Сочи              free\n",
       "1560      829       Федор   29       Пятигорск              free\n",
       "1538      908      Рустам   30          Тюмень              free\n",
       "1536      909  Константин   20    Екатеринбург              free\n",
       "1546      924       Мария   23       Пятигорск              free\n",
       "1564     1045     Артемий   28  Ростов-на-Дону              free\n",
       "1554     1198       Демид   29  Ростов-на-Дону              free\n",
       "1558     1237     Евгения   23          Тюмень              free\n",
       "1544     1245      Регина   27       Пятигорск              free"
      ]
     },
     "execution_count": 20,
     "metadata": {},
     "output_type": "execute_result"
    }
   ],
   "source": [
    "# выведем дублирующие строки\n",
    "data_users[data_users.duplicated()].sort_values(by='user_id')"
   ]
  },
  {
   "cell_type": "code",
   "execution_count": 21,
   "id": "746e6148",
   "metadata": {},
   "outputs": [],
   "source": [
    "df = data_users[data_users.duplicated()]"
   ]
  },
  {
   "cell_type": "code",
   "execution_count": 22,
   "id": "c4c8596a",
   "metadata": {},
   "outputs": [
    {
     "data": {
      "text/html": [
       "<div>\n",
       "<style scoped>\n",
       "    .dataframe tbody tr th:only-of-type {\n",
       "        vertical-align: middle;\n",
       "    }\n",
       "\n",
       "    .dataframe tbody tr th {\n",
       "        vertical-align: top;\n",
       "    }\n",
       "\n",
       "    .dataframe thead th {\n",
       "        text-align: right;\n",
       "    }\n",
       "</style>\n",
       "<table border=\"1\" class=\"dataframe\">\n",
       "  <thead>\n",
       "    <tr style=\"text-align: right;\">\n",
       "      <th></th>\n",
       "      <th>user_id</th>\n",
       "      <th>name</th>\n",
       "      <th>age</th>\n",
       "      <th>city</th>\n",
       "      <th>subscription_type</th>\n",
       "    </tr>\n",
       "  </thead>\n",
       "  <tbody>\n",
       "    <tr>\n",
       "      <th>15</th>\n",
       "      <td>16</td>\n",
       "      <td>Амалия</td>\n",
       "      <td>27</td>\n",
       "      <td>Краснодар</td>\n",
       "      <td>ultra</td>\n",
       "    </tr>\n",
       "    <tr>\n",
       "      <th>1535</th>\n",
       "      <td>16</td>\n",
       "      <td>Амалия</td>\n",
       "      <td>27</td>\n",
       "      <td>Краснодар</td>\n",
       "      <td>ultra</td>\n",
       "    </tr>\n",
       "    <tr>\n",
       "      <th>42</th>\n",
       "      <td>43</td>\n",
       "      <td>Стефания</td>\n",
       "      <td>22</td>\n",
       "      <td>Омск</td>\n",
       "      <td>ultra</td>\n",
       "    </tr>\n",
       "    <tr>\n",
       "      <th>1539</th>\n",
       "      <td>43</td>\n",
       "      <td>Стефания</td>\n",
       "      <td>22</td>\n",
       "      <td>Омск</td>\n",
       "      <td>ultra</td>\n",
       "    </tr>\n",
       "    <tr>\n",
       "      <th>1563</th>\n",
       "      <td>47</td>\n",
       "      <td>Юрий</td>\n",
       "      <td>28</td>\n",
       "      <td>Тюмень</td>\n",
       "      <td>ultra</td>\n",
       "    </tr>\n",
       "    <tr>\n",
       "      <th>...</th>\n",
       "      <td>...</td>\n",
       "      <td>...</td>\n",
       "      <td>...</td>\n",
       "      <td>...</td>\n",
       "      <td>...</td>\n",
       "    </tr>\n",
       "    <tr>\n",
       "      <th>1554</th>\n",
       "      <td>1198</td>\n",
       "      <td>Демид</td>\n",
       "      <td>29</td>\n",
       "      <td>Ростов-на-Дону</td>\n",
       "      <td>free</td>\n",
       "    </tr>\n",
       "    <tr>\n",
       "      <th>1558</th>\n",
       "      <td>1237</td>\n",
       "      <td>Евгения</td>\n",
       "      <td>23</td>\n",
       "      <td>Тюмень</td>\n",
       "      <td>free</td>\n",
       "    </tr>\n",
       "    <tr>\n",
       "      <th>1236</th>\n",
       "      <td>1237</td>\n",
       "      <td>Евгения</td>\n",
       "      <td>23</td>\n",
       "      <td>Тюмень</td>\n",
       "      <td>free</td>\n",
       "    </tr>\n",
       "    <tr>\n",
       "      <th>1544</th>\n",
       "      <td>1245</td>\n",
       "      <td>Регина</td>\n",
       "      <td>27</td>\n",
       "      <td>Пятигорск</td>\n",
       "      <td>free</td>\n",
       "    </tr>\n",
       "    <tr>\n",
       "      <th>1244</th>\n",
       "      <td>1245</td>\n",
       "      <td>Регина</td>\n",
       "      <td>27</td>\n",
       "      <td>Пятигорск</td>\n",
       "      <td>free</td>\n",
       "    </tr>\n",
       "  </tbody>\n",
       "</table>\n",
       "<p>62 rows × 5 columns</p>\n",
       "</div>"
      ],
      "text/plain": [
       "      user_id      name  age            city subscription_type\n",
       "15         16    Амалия   27       Краснодар             ultra\n",
       "1535       16    Амалия   27       Краснодар             ultra\n",
       "42         43  Стефания   22            Омск             ultra\n",
       "1539       43  Стефания   22            Омск             ultra\n",
       "1563       47      Юрий   28          Тюмень             ultra\n",
       "...       ...       ...  ...             ...               ...\n",
       "1554     1198     Демид   29  Ростов-на-Дону              free\n",
       "1558     1237   Евгения   23          Тюмень              free\n",
       "1236     1237   Евгения   23          Тюмень              free\n",
       "1544     1245    Регина   27       Пятигорск              free\n",
       "1244     1245    Регина   27       Пятигорск              free\n",
       "\n",
       "[62 rows x 5 columns]"
      ]
     },
     "execution_count": 22,
     "metadata": {},
     "output_type": "execute_result"
    }
   ],
   "source": [
    "# проверим все повторяющиеся строки\n",
    "data_users.query('user_id in @df.user_id').sort_values(by='user_id')"
   ]
  },
  {
   "cell_type": "code",
   "execution_count": 23,
   "id": "af6d202c",
   "metadata": {},
   "outputs": [],
   "source": [
    "# удалим дубликаты\n",
    "data_users = data_users.drop_duplicates().reset_index()"
   ]
  },
  {
   "cell_type": "code",
   "execution_count": 24,
   "id": "bdd90390",
   "metadata": {},
   "outputs": [
    {
     "name": "stdout",
     "output_type": "stream",
     "text": [
      "<class 'pandas.core.frame.DataFrame'>\n",
      "RangeIndex: 1534 entries, 0 to 1533\n",
      "Data columns (total 6 columns):\n",
      " #   Column             Non-Null Count  Dtype \n",
      "---  ------             --------------  ----- \n",
      " 0   index              1534 non-null   int64 \n",
      " 1   user_id            1534 non-null   int64 \n",
      " 2   name               1534 non-null   object\n",
      " 3   age                1534 non-null   int64 \n",
      " 4   city               1534 non-null   object\n",
      " 5   subscription_type  1534 non-null   object\n",
      "dtypes: int64(3), object(3)\n",
      "memory usage: 72.0+ KB\n"
     ]
    }
   ],
   "source": [
    "data_users.info()"
   ]
  },
  {
   "cell_type": "code",
   "execution_count": 25,
   "id": "4fc33305",
   "metadata": {
    "scrolled": true
   },
   "outputs": [
    {
     "data": {
      "text/html": [
       "<div>\n",
       "<style scoped>\n",
       "    .dataframe tbody tr th:only-of-type {\n",
       "        vertical-align: middle;\n",
       "    }\n",
       "\n",
       "    .dataframe tbody tr th {\n",
       "        vertical-align: top;\n",
       "    }\n",
       "\n",
       "    .dataframe thead th {\n",
       "        text-align: right;\n",
       "    }\n",
       "</style>\n",
       "<table border=\"1\" class=\"dataframe\">\n",
       "  <thead>\n",
       "    <tr style=\"text-align: right;\">\n",
       "      <th></th>\n",
       "      <th>index</th>\n",
       "      <th>user_id</th>\n",
       "      <th>name</th>\n",
       "      <th>age</th>\n",
       "      <th>city</th>\n",
       "      <th>subscription_type</th>\n",
       "    </tr>\n",
       "  </thead>\n",
       "  <tbody>\n",
       "    <tr>\n",
       "      <th>16</th>\n",
       "      <td>16</td>\n",
       "      <td>17</td>\n",
       "      <td>Даниил</td>\n",
       "      <td>29</td>\n",
       "      <td>Москва</td>\n",
       "      <td>ultra</td>\n",
       "    </tr>\n",
       "    <tr>\n",
       "      <th>40</th>\n",
       "      <td>40</td>\n",
       "      <td>41</td>\n",
       "      <td>Данила</td>\n",
       "      <td>21</td>\n",
       "      <td>Екатеринбург</td>\n",
       "      <td>ultra</td>\n",
       "    </tr>\n",
       "    <tr>\n",
       "      <th>106</th>\n",
       "      <td>106</td>\n",
       "      <td>107</td>\n",
       "      <td>Данила</td>\n",
       "      <td>26</td>\n",
       "      <td>Екатеринбург</td>\n",
       "      <td>ultra</td>\n",
       "    </tr>\n",
       "    <tr>\n",
       "      <th>144</th>\n",
       "      <td>144</td>\n",
       "      <td>145</td>\n",
       "      <td>Данил</td>\n",
       "      <td>32</td>\n",
       "      <td>Сочи</td>\n",
       "      <td>ultra</td>\n",
       "    </tr>\n",
       "    <tr>\n",
       "      <th>147</th>\n",
       "      <td>147</td>\n",
       "      <td>148</td>\n",
       "      <td>Данил</td>\n",
       "      <td>18</td>\n",
       "      <td>Екатеринбург</td>\n",
       "      <td>ultra</td>\n",
       "    </tr>\n",
       "    <tr>\n",
       "      <th>176</th>\n",
       "      <td>176</td>\n",
       "      <td>177</td>\n",
       "      <td>Данил</td>\n",
       "      <td>25</td>\n",
       "      <td>Краснодар</td>\n",
       "      <td>ultra</td>\n",
       "    </tr>\n",
       "    <tr>\n",
       "      <th>299</th>\n",
       "      <td>299</td>\n",
       "      <td>300</td>\n",
       "      <td>Данила</td>\n",
       "      <td>27</td>\n",
       "      <td>Ростов-на-Дону</td>\n",
       "      <td>ultra</td>\n",
       "    </tr>\n",
       "    <tr>\n",
       "      <th>301</th>\n",
       "      <td>301</td>\n",
       "      <td>302</td>\n",
       "      <td>Наталия</td>\n",
       "      <td>27</td>\n",
       "      <td>Ростов-на-Дону</td>\n",
       "      <td>ultra</td>\n",
       "    </tr>\n",
       "    <tr>\n",
       "      <th>326</th>\n",
       "      <td>326</td>\n",
       "      <td>327</td>\n",
       "      <td>Наташа</td>\n",
       "      <td>24</td>\n",
       "      <td>Краснодар</td>\n",
       "      <td>ultra</td>\n",
       "    </tr>\n",
       "    <tr>\n",
       "      <th>327</th>\n",
       "      <td>327</td>\n",
       "      <td>328</td>\n",
       "      <td>Данил</td>\n",
       "      <td>35</td>\n",
       "      <td>Пятигорск</td>\n",
       "      <td>ultra</td>\n",
       "    </tr>\n",
       "    <tr>\n",
       "      <th>328</th>\n",
       "      <td>328</td>\n",
       "      <td>329</td>\n",
       "      <td>Данила</td>\n",
       "      <td>19</td>\n",
       "      <td>Пятигорск</td>\n",
       "      <td>ultra</td>\n",
       "    </tr>\n",
       "    <tr>\n",
       "      <th>354</th>\n",
       "      <td>354</td>\n",
       "      <td>355</td>\n",
       "      <td>Данила</td>\n",
       "      <td>24</td>\n",
       "      <td>Ростов-на-Дону</td>\n",
       "      <td>ultra</td>\n",
       "    </tr>\n",
       "    <tr>\n",
       "      <th>356</th>\n",
       "      <td>356</td>\n",
       "      <td>357</td>\n",
       "      <td>Наталья</td>\n",
       "      <td>30</td>\n",
       "      <td>Сочи</td>\n",
       "      <td>ultra</td>\n",
       "    </tr>\n",
       "    <tr>\n",
       "      <th>406</th>\n",
       "      <td>406</td>\n",
       "      <td>407</td>\n",
       "      <td>Данила</td>\n",
       "      <td>20</td>\n",
       "      <td>Пятигорск</td>\n",
       "      <td>ultra</td>\n",
       "    </tr>\n",
       "    <tr>\n",
       "      <th>417</th>\n",
       "      <td>417</td>\n",
       "      <td>418</td>\n",
       "      <td>Наташа</td>\n",
       "      <td>26</td>\n",
       "      <td>Краснодар</td>\n",
       "      <td>ultra</td>\n",
       "    </tr>\n",
       "    <tr>\n",
       "      <th>480</th>\n",
       "      <td>480</td>\n",
       "      <td>481</td>\n",
       "      <td>Наташа</td>\n",
       "      <td>24</td>\n",
       "      <td>Тюмень</td>\n",
       "      <td>ultra</td>\n",
       "    </tr>\n",
       "    <tr>\n",
       "      <th>582</th>\n",
       "      <td>582</td>\n",
       "      <td>583</td>\n",
       "      <td>Данила</td>\n",
       "      <td>24</td>\n",
       "      <td>Москва</td>\n",
       "      <td>ultra</td>\n",
       "    </tr>\n",
       "    <tr>\n",
       "      <th>628</th>\n",
       "      <td>628</td>\n",
       "      <td>629</td>\n",
       "      <td>Данил</td>\n",
       "      <td>19</td>\n",
       "      <td>Екатеринбург</td>\n",
       "      <td>ultra</td>\n",
       "    </tr>\n",
       "    <tr>\n",
       "      <th>645</th>\n",
       "      <td>645</td>\n",
       "      <td>646</td>\n",
       "      <td>Даниил</td>\n",
       "      <td>22</td>\n",
       "      <td>Тюмень</td>\n",
       "      <td>ultra</td>\n",
       "    </tr>\n",
       "    <tr>\n",
       "      <th>657</th>\n",
       "      <td>657</td>\n",
       "      <td>658</td>\n",
       "      <td>Даниил</td>\n",
       "      <td>25</td>\n",
       "      <td>Омск</td>\n",
       "      <td>ultra</td>\n",
       "    </tr>\n",
       "    <tr>\n",
       "      <th>659</th>\n",
       "      <td>659</td>\n",
       "      <td>660</td>\n",
       "      <td>Наташа</td>\n",
       "      <td>26</td>\n",
       "      <td>Омск</td>\n",
       "      <td>ultra</td>\n",
       "    </tr>\n",
       "    <tr>\n",
       "      <th>684</th>\n",
       "      <td>684</td>\n",
       "      <td>685</td>\n",
       "      <td>Даниил</td>\n",
       "      <td>25</td>\n",
       "      <td>Краснодар</td>\n",
       "      <td>ultra</td>\n",
       "    </tr>\n",
       "    <tr>\n",
       "      <th>772</th>\n",
       "      <td>772</td>\n",
       "      <td>773</td>\n",
       "      <td>Данил</td>\n",
       "      <td>29</td>\n",
       "      <td>Сочи</td>\n",
       "      <td>free</td>\n",
       "    </tr>\n",
       "    <tr>\n",
       "      <th>800</th>\n",
       "      <td>800</td>\n",
       "      <td>801</td>\n",
       "      <td>Наталия</td>\n",
       "      <td>22</td>\n",
       "      <td>Сочи</td>\n",
       "      <td>free</td>\n",
       "    </tr>\n",
       "    <tr>\n",
       "      <th>809</th>\n",
       "      <td>809</td>\n",
       "      <td>810</td>\n",
       "      <td>Наталья</td>\n",
       "      <td>24</td>\n",
       "      <td>Ростов-на-Дону</td>\n",
       "      <td>free</td>\n",
       "    </tr>\n",
       "    <tr>\n",
       "      <th>845</th>\n",
       "      <td>845</td>\n",
       "      <td>846</td>\n",
       "      <td>Данил</td>\n",
       "      <td>28</td>\n",
       "      <td>Омск</td>\n",
       "      <td>free</td>\n",
       "    </tr>\n",
       "    <tr>\n",
       "      <th>849</th>\n",
       "      <td>849</td>\n",
       "      <td>850</td>\n",
       "      <td>Данила</td>\n",
       "      <td>32</td>\n",
       "      <td>Краснодар</td>\n",
       "      <td>free</td>\n",
       "    </tr>\n",
       "    <tr>\n",
       "      <th>885</th>\n",
       "      <td>885</td>\n",
       "      <td>886</td>\n",
       "      <td>Наташа</td>\n",
       "      <td>22</td>\n",
       "      <td>Тюмень</td>\n",
       "      <td>free</td>\n",
       "    </tr>\n",
       "    <tr>\n",
       "      <th>895</th>\n",
       "      <td>895</td>\n",
       "      <td>896</td>\n",
       "      <td>Наталия</td>\n",
       "      <td>31</td>\n",
       "      <td>Омск</td>\n",
       "      <td>free</td>\n",
       "    </tr>\n",
       "    <tr>\n",
       "      <th>899</th>\n",
       "      <td>899</td>\n",
       "      <td>900</td>\n",
       "      <td>Данил</td>\n",
       "      <td>22</td>\n",
       "      <td>Омск</td>\n",
       "      <td>free</td>\n",
       "    </tr>\n",
       "    <tr>\n",
       "      <th>903</th>\n",
       "      <td>903</td>\n",
       "      <td>904</td>\n",
       "      <td>Данила</td>\n",
       "      <td>30</td>\n",
       "      <td>Пятигорск</td>\n",
       "      <td>free</td>\n",
       "    </tr>\n",
       "    <tr>\n",
       "      <th>940</th>\n",
       "      <td>940</td>\n",
       "      <td>941</td>\n",
       "      <td>Данила</td>\n",
       "      <td>28</td>\n",
       "      <td>Екатеринбург</td>\n",
       "      <td>free</td>\n",
       "    </tr>\n",
       "    <tr>\n",
       "      <th>952</th>\n",
       "      <td>952</td>\n",
       "      <td>953</td>\n",
       "      <td>Наташа</td>\n",
       "      <td>26</td>\n",
       "      <td>Ростов-на-Дону</td>\n",
       "      <td>free</td>\n",
       "    </tr>\n",
       "    <tr>\n",
       "      <th>953</th>\n",
       "      <td>953</td>\n",
       "      <td>954</td>\n",
       "      <td>Наталия</td>\n",
       "      <td>20</td>\n",
       "      <td>Омск</td>\n",
       "      <td>free</td>\n",
       "    </tr>\n",
       "    <tr>\n",
       "      <th>977</th>\n",
       "      <td>977</td>\n",
       "      <td>978</td>\n",
       "      <td>Даниил</td>\n",
       "      <td>26</td>\n",
       "      <td>Омск</td>\n",
       "      <td>free</td>\n",
       "    </tr>\n",
       "    <tr>\n",
       "      <th>985</th>\n",
       "      <td>985</td>\n",
       "      <td>986</td>\n",
       "      <td>Наташа</td>\n",
       "      <td>30</td>\n",
       "      <td>Екатеринбург</td>\n",
       "      <td>free</td>\n",
       "    </tr>\n",
       "    <tr>\n",
       "      <th>1023</th>\n",
       "      <td>1023</td>\n",
       "      <td>1024</td>\n",
       "      <td>Наташа</td>\n",
       "      <td>21</td>\n",
       "      <td>Москва</td>\n",
       "      <td>free</td>\n",
       "    </tr>\n",
       "    <tr>\n",
       "      <th>1076</th>\n",
       "      <td>1076</td>\n",
       "      <td>1077</td>\n",
       "      <td>Наташа</td>\n",
       "      <td>22</td>\n",
       "      <td>Ростов-на-Дону</td>\n",
       "      <td>free</td>\n",
       "    </tr>\n",
       "    <tr>\n",
       "      <th>1131</th>\n",
       "      <td>1131</td>\n",
       "      <td>1132</td>\n",
       "      <td>Наталия</td>\n",
       "      <td>20</td>\n",
       "      <td>Москва</td>\n",
       "      <td>free</td>\n",
       "    </tr>\n",
       "    <tr>\n",
       "      <th>1209</th>\n",
       "      <td>1209</td>\n",
       "      <td>1210</td>\n",
       "      <td>Наталья</td>\n",
       "      <td>24</td>\n",
       "      <td>Москва</td>\n",
       "      <td>free</td>\n",
       "    </tr>\n",
       "    <tr>\n",
       "      <th>1297</th>\n",
       "      <td>1297</td>\n",
       "      <td>1298</td>\n",
       "      <td>Наталья</td>\n",
       "      <td>20</td>\n",
       "      <td>Москва</td>\n",
       "      <td>free</td>\n",
       "    </tr>\n",
       "    <tr>\n",
       "      <th>1306</th>\n",
       "      <td>1306</td>\n",
       "      <td>1307</td>\n",
       "      <td>Данил</td>\n",
       "      <td>26</td>\n",
       "      <td>Сочи</td>\n",
       "      <td>free</td>\n",
       "    </tr>\n",
       "    <tr>\n",
       "      <th>1336</th>\n",
       "      <td>1336</td>\n",
       "      <td>1337</td>\n",
       "      <td>Наталья</td>\n",
       "      <td>23</td>\n",
       "      <td>Сочи</td>\n",
       "      <td>free</td>\n",
       "    </tr>\n",
       "    <tr>\n",
       "      <th>1341</th>\n",
       "      <td>1341</td>\n",
       "      <td>1342</td>\n",
       "      <td>Данила</td>\n",
       "      <td>23</td>\n",
       "      <td>Тюмень</td>\n",
       "      <td>free</td>\n",
       "    </tr>\n",
       "    <tr>\n",
       "      <th>1385</th>\n",
       "      <td>1385</td>\n",
       "      <td>1386</td>\n",
       "      <td>Наташа</td>\n",
       "      <td>26</td>\n",
       "      <td>Екатеринбург</td>\n",
       "      <td>free</td>\n",
       "    </tr>\n",
       "    <tr>\n",
       "      <th>1387</th>\n",
       "      <td>1387</td>\n",
       "      <td>1388</td>\n",
       "      <td>Наташа</td>\n",
       "      <td>31</td>\n",
       "      <td>Москва</td>\n",
       "      <td>free</td>\n",
       "    </tr>\n",
       "    <tr>\n",
       "      <th>1444</th>\n",
       "      <td>1444</td>\n",
       "      <td>1445</td>\n",
       "      <td>Даниил</td>\n",
       "      <td>25</td>\n",
       "      <td>Краснодар</td>\n",
       "      <td>free</td>\n",
       "    </tr>\n",
       "    <tr>\n",
       "      <th>1494</th>\n",
       "      <td>1494</td>\n",
       "      <td>1495</td>\n",
       "      <td>Наталия</td>\n",
       "      <td>27</td>\n",
       "      <td>Омск</td>\n",
       "      <td>free</td>\n",
       "    </tr>\n",
       "  </tbody>\n",
       "</table>\n",
       "</div>"
      ],
      "text/plain": [
       "      index  user_id     name  age            city subscription_type\n",
       "16       16       17   Даниил   29          Москва             ultra\n",
       "40       40       41   Данила   21    Екатеринбург             ultra\n",
       "106     106      107   Данила   26    Екатеринбург             ultra\n",
       "144     144      145    Данил   32            Сочи             ultra\n",
       "147     147      148    Данил   18    Екатеринбург             ultra\n",
       "176     176      177    Данил   25       Краснодар             ultra\n",
       "299     299      300   Данила   27  Ростов-на-Дону             ultra\n",
       "301     301      302  Наталия   27  Ростов-на-Дону             ultra\n",
       "326     326      327   Наташа   24       Краснодар             ultra\n",
       "327     327      328    Данил   35       Пятигорск             ultra\n",
       "328     328      329   Данила   19       Пятигорск             ultra\n",
       "354     354      355   Данила   24  Ростов-на-Дону             ultra\n",
       "356     356      357  Наталья   30            Сочи             ultra\n",
       "406     406      407   Данила   20       Пятигорск             ultra\n",
       "417     417      418   Наташа   26       Краснодар             ultra\n",
       "480     480      481   Наташа   24          Тюмень             ultra\n",
       "582     582      583   Данила   24          Москва             ultra\n",
       "628     628      629    Данил   19    Екатеринбург             ultra\n",
       "645     645      646   Даниил   22          Тюмень             ultra\n",
       "657     657      658   Даниил   25            Омск             ultra\n",
       "659     659      660   Наташа   26            Омск             ultra\n",
       "684     684      685   Даниил   25       Краснодар             ultra\n",
       "772     772      773    Данил   29            Сочи              free\n",
       "800     800      801  Наталия   22            Сочи              free\n",
       "809     809      810  Наталья   24  Ростов-на-Дону              free\n",
       "845     845      846    Данил   28            Омск              free\n",
       "849     849      850   Данила   32       Краснодар              free\n",
       "885     885      886   Наташа   22          Тюмень              free\n",
       "895     895      896  Наталия   31            Омск              free\n",
       "899     899      900    Данил   22            Омск              free\n",
       "903     903      904   Данила   30       Пятигорск              free\n",
       "940     940      941   Данила   28    Екатеринбург              free\n",
       "952     952      953   Наташа   26  Ростов-на-Дону              free\n",
       "953     953      954  Наталия   20            Омск              free\n",
       "977     977      978   Даниил   26            Омск              free\n",
       "985     985      986   Наташа   30    Екатеринбург              free\n",
       "1023   1023     1024   Наташа   21          Москва              free\n",
       "1076   1076     1077   Наташа   22  Ростов-на-Дону              free\n",
       "1131   1131     1132  Наталия   20          Москва              free\n",
       "1209   1209     1210  Наталья   24          Москва              free\n",
       "1297   1297     1298  Наталья   20          Москва              free\n",
       "1306   1306     1307    Данил   26            Сочи              free\n",
       "1336   1336     1337  Наталья   23            Сочи              free\n",
       "1341   1341     1342   Данила   23          Тюмень              free\n",
       "1385   1385     1386   Наташа   26    Екатеринбург              free\n",
       "1387   1387     1388   Наташа   31          Москва              free\n",
       "1444   1444     1445   Даниил   25       Краснодар              free\n",
       "1494   1494     1495  Наталия   27            Омск              free"
      ]
     },
     "execution_count": 25,
     "metadata": {},
     "output_type": "execute_result"
    }
   ],
   "source": [
    "# проверим на наличие неявных дубликатов наблюдения с предположительно одинаковыми именами \n",
    "names = ['Наталия','Наташа','Наталья', 'Данил', 'Даниил', 'Данила']\n",
    "data_users.query('name in @names').sort_values(by='user_id')"
   ]
  },
  {
   "cell_type": "markdown",
   "id": "1c42bd0f",
   "metadata": {},
   "source": [
    "Итого, после удаления полных дубликатов количество наблюдений в data_users совпадает с максимальным значением id"
   ]
  },
  {
   "cell_type": "code",
   "execution_count": 26,
   "id": "04448710",
   "metadata": {},
   "outputs": [
    {
     "name": "stdout",
     "output_type": "stream",
     "text": [
      "<class 'pandas.core.frame.DataFrame'>\n",
      "RangeIndex: 18068 entries, 0 to 18067\n",
      "Data columns (total 5 columns):\n",
      " #   Column    Non-Null Count  Dtype         \n",
      "---  ------    --------------  -----         \n",
      " 0   user_id   18068 non-null  int64         \n",
      " 1   distance  18068 non-null  float64       \n",
      " 2   duration  18068 non-null  float64       \n",
      " 3   date      18068 non-null  datetime64[ns]\n",
      " 4   month     18068 non-null  int64         \n",
      "dtypes: datetime64[ns](1), float64(2), int64(2)\n",
      "memory usage: 705.9 KB\n"
     ]
    }
   ],
   "source": [
    "data_rides.info()"
   ]
  },
  {
   "cell_type": "code",
   "execution_count": 27,
   "id": "bc11970a",
   "metadata": {},
   "outputs": [
    {
     "data": {
      "text/plain": [
       "0"
      ]
     },
     "execution_count": 27,
     "metadata": {},
     "output_type": "execute_result"
    }
   ],
   "source": [
    "# посчитаем сумму дубликатов в data_rides\n",
    "data_rides.duplicated().sum()"
   ]
  },
  {
   "cell_type": "code",
   "execution_count": 28,
   "id": "740ee23d",
   "metadata": {},
   "outputs": [
    {
     "data": {
      "text/html": [
       "<div>\n",
       "<style scoped>\n",
       "    .dataframe tbody tr th:only-of-type {\n",
       "        vertical-align: middle;\n",
       "    }\n",
       "\n",
       "    .dataframe tbody tr th {\n",
       "        vertical-align: top;\n",
       "    }\n",
       "\n",
       "    .dataframe thead th {\n",
       "        text-align: right;\n",
       "    }\n",
       "</style>\n",
       "<table border=\"1\" class=\"dataframe\">\n",
       "  <thead>\n",
       "    <tr style=\"text-align: right;\">\n",
       "      <th></th>\n",
       "      <th>user_id</th>\n",
       "      <th>distance</th>\n",
       "      <th>duration</th>\n",
       "      <th>month</th>\n",
       "    </tr>\n",
       "  </thead>\n",
       "  <tbody>\n",
       "    <tr>\n",
       "      <th>count</th>\n",
       "      <td>18068.000000</td>\n",
       "      <td>18068.000000</td>\n",
       "      <td>18068.000000</td>\n",
       "      <td>18068.000000</td>\n",
       "    </tr>\n",
       "    <tr>\n",
       "      <th>mean</th>\n",
       "      <td>842.869936</td>\n",
       "      <td>3070.659976</td>\n",
       "      <td>17.805011</td>\n",
       "      <td>6.486772</td>\n",
       "    </tr>\n",
       "    <tr>\n",
       "      <th>std</th>\n",
       "      <td>434.734317</td>\n",
       "      <td>1116.831209</td>\n",
       "      <td>6.091051</td>\n",
       "      <td>3.437410</td>\n",
       "    </tr>\n",
       "    <tr>\n",
       "      <th>min</th>\n",
       "      <td>1.000000</td>\n",
       "      <td>0.855683</td>\n",
       "      <td>0.500000</td>\n",
       "      <td>1.000000</td>\n",
       "    </tr>\n",
       "    <tr>\n",
       "      <th>25%</th>\n",
       "      <td>487.000000</td>\n",
       "      <td>2543.226360</td>\n",
       "      <td>13.597563</td>\n",
       "      <td>4.000000</td>\n",
       "    </tr>\n",
       "    <tr>\n",
       "      <th>50%</th>\n",
       "      <td>889.000000</td>\n",
       "      <td>3133.609994</td>\n",
       "      <td>17.678395</td>\n",
       "      <td>6.000000</td>\n",
       "    </tr>\n",
       "    <tr>\n",
       "      <th>75%</th>\n",
       "      <td>1213.250000</td>\n",
       "      <td>3776.222735</td>\n",
       "      <td>21.724800</td>\n",
       "      <td>9.000000</td>\n",
       "    </tr>\n",
       "    <tr>\n",
       "      <th>max</th>\n",
       "      <td>1534.000000</td>\n",
       "      <td>7211.007745</td>\n",
       "      <td>40.823963</td>\n",
       "      <td>12.000000</td>\n",
       "    </tr>\n",
       "  </tbody>\n",
       "</table>\n",
       "</div>"
      ],
      "text/plain": [
       "            user_id      distance      duration         month\n",
       "count  18068.000000  18068.000000  18068.000000  18068.000000\n",
       "mean     842.869936   3070.659976     17.805011      6.486772\n",
       "std      434.734317   1116.831209      6.091051      3.437410\n",
       "min        1.000000      0.855683      0.500000      1.000000\n",
       "25%      487.000000   2543.226360     13.597563      4.000000\n",
       "50%      889.000000   3133.609994     17.678395      6.000000\n",
       "75%     1213.250000   3776.222735     21.724800      9.000000\n",
       "max     1534.000000   7211.007745     40.823963     12.000000"
      ]
     },
     "execution_count": 28,
     "metadata": {},
     "output_type": "execute_result"
    }
   ],
   "source": [
    "data_rides.describe()"
   ]
  },
  {
   "cell_type": "code",
   "execution_count": 29,
   "id": "168c54a8",
   "metadata": {},
   "outputs": [
    {
     "data": {
      "text/plain": [
       "count      95.000000\n",
       "mean     5113.176549\n",
       "std       658.254104\n",
       "min      4030.308008\n",
       "25%      4611.510820\n",
       "50%      5052.769411\n",
       "75%      5488.459099\n",
       "max      7211.007745\n",
       "Name: distance, dtype: float64"
      ]
     },
     "execution_count": 29,
     "metadata": {},
     "output_type": "execute_result"
    }
   ],
   "source": [
    "# рассмотрим данные по подозрительно медленным поездкам - 0,5 минуты, выведем значения расстояния\n",
    "data_rides.query('duration == 0.500000')['distance'].describe()"
   ]
  },
  {
   "cell_type": "code",
   "execution_count": 30,
   "id": "8c15e09b",
   "metadata": {},
   "outputs": [
    {
     "data": {
      "text/plain": [
       "count     143.000000\n",
       "mean      672.317601\n",
       "std       386.913275\n",
       "min        26.784378\n",
       "25%       415.283126\n",
       "50%       616.527428\n",
       "75%       868.541138\n",
       "max      1866.461506\n",
       "Name: distance, dtype: float64"
      ]
     },
     "execution_count": 30,
     "metadata": {},
     "output_type": "execute_result"
    }
   ],
   "source": [
    "# рассмотрим расстояние, пройденное примерно за 5 минут, \n",
    "# предполагая, что произошла ошибка и вместо 5 в систему было занесено значение 0ю5\n",
    "data_rides.query('5 < duration < 6')['distance'].describe()"
   ]
  },
  {
   "cell_type": "markdown",
   "id": "69ce9936",
   "metadata": {},
   "source": [
    "Значения значимо отличаются, подробнее изучим данные по расстоянию и продолжительности"
   ]
  },
  {
   "cell_type": "code",
   "execution_count": 31,
   "id": "ea532878",
   "metadata": {},
   "outputs": [
    {
     "data": {
      "text/plain": [
       "229.7543524235686"
      ]
     },
     "execution_count": 31,
     "metadata": {},
     "output_type": "execute_result"
    }
   ],
   "source": [
    "# расчитаем среднее значение проезжаемых метров в минуту за поездку\n",
    "data_dist_per_min = data_rides.copy()\n",
    "data_dist_per_min['dist_per_min'] = data_rides['distance']/data_rides['duration']\n",
    "data_dist_per_min['dist_per_min'].mean()"
   ]
  },
  {
   "cell_type": "code",
   "execution_count": 32,
   "id": "8ad7f173",
   "metadata": {},
   "outputs": [
    {
     "data": {
      "image/png": "[encoded data removed]",
      "text/plain": [
       "<Figure size 432x288 with 1 Axes>"
      ]
     },
     "metadata": {
      "needs_background": "light"
     },
     "output_type": "display_data"
    }
   ],
   "source": [
    "# построим график значений параметра скорости \n",
    "data_dist_per_min['dist_per_min'].hist()\n",
    "plt.xlabel(\"Средняя скорость пользователей м/мин\")\n",
    "plt.ylabel(\"Частота\")\n",
    "plt.title('Распределение средней скорости пользователей')\n",
    "plt.show()"
   ]
  },
  {
   "cell_type": "code",
   "execution_count": 33,
   "id": "e7707ae3",
   "metadata": {},
   "outputs": [
    {
     "data": {
      "text/html": [
       "<div>\n",
       "<style scoped>\n",
       "    .dataframe tbody tr th:only-of-type {\n",
       "        vertical-align: middle;\n",
       "    }\n",
       "\n",
       "    .dataframe tbody tr th {\n",
       "        vertical-align: top;\n",
       "    }\n",
       "\n",
       "    .dataframe thead th {\n",
       "        text-align: right;\n",
       "    }\n",
       "</style>\n",
       "<table border=\"1\" class=\"dataframe\">\n",
       "  <thead>\n",
       "    <tr style=\"text-align: right;\">\n",
       "      <th></th>\n",
       "      <th>user_id</th>\n",
       "      <th>distance</th>\n",
       "      <th>duration</th>\n",
       "      <th>date</th>\n",
       "      <th>month</th>\n",
       "      <th>dist_per_min</th>\n",
       "    </tr>\n",
       "  </thead>\n",
       "  <tbody>\n",
       "    <tr>\n",
       "      <th>6531</th>\n",
       "      <td>701</td>\n",
       "      <td>4196.445201</td>\n",
       "      <td>0.5</td>\n",
       "      <td>2021-08-31</td>\n",
       "      <td>8</td>\n",
       "      <td>8392.890401</td>\n",
       "    </tr>\n",
       "    <tr>\n",
       "      <th>6570</th>\n",
       "      <td>704</td>\n",
       "      <td>4830.824371</td>\n",
       "      <td>0.5</td>\n",
       "      <td>2021-10-14</td>\n",
       "      <td>10</td>\n",
       "      <td>9661.648742</td>\n",
       "    </tr>\n",
       "    <tr>\n",
       "      <th>6680</th>\n",
       "      <td>712</td>\n",
       "      <td>4684.004397</td>\n",
       "      <td>0.5</td>\n",
       "      <td>2021-03-04</td>\n",
       "      <td>3</td>\n",
       "      <td>9368.008793</td>\n",
       "    </tr>\n",
       "    <tr>\n",
       "      <th>6695</th>\n",
       "      <td>713</td>\n",
       "      <td>5215.642710</td>\n",
       "      <td>0.5</td>\n",
       "      <td>2021-02-25</td>\n",
       "      <td>2</td>\n",
       "      <td>10431.285420</td>\n",
       "    </tr>\n",
       "    <tr>\n",
       "      <th>6768</th>\n",
       "      <td>718</td>\n",
       "      <td>5197.436649</td>\n",
       "      <td>0.5</td>\n",
       "      <td>2021-02-11</td>\n",
       "      <td>2</td>\n",
       "      <td>10394.873299</td>\n",
       "    </tr>\n",
       "    <tr>\n",
       "      <th>...</th>\n",
       "      <td>...</td>\n",
       "      <td>...</td>\n",
       "      <td>...</td>\n",
       "      <td>...</td>\n",
       "      <td>...</td>\n",
       "      <td>...</td>\n",
       "    </tr>\n",
       "    <tr>\n",
       "      <th>16817</th>\n",
       "      <td>1444</td>\n",
       "      <td>5830.705170</td>\n",
       "      <td>0.5</td>\n",
       "      <td>2021-08-29</td>\n",
       "      <td>8</td>\n",
       "      <td>11661.410340</td>\n",
       "    </tr>\n",
       "    <tr>\n",
       "      <th>17004</th>\n",
       "      <td>1460</td>\n",
       "      <td>5531.335845</td>\n",
       "      <td>0.5</td>\n",
       "      <td>2021-01-19</td>\n",
       "      <td>1</td>\n",
       "      <td>11062.671691</td>\n",
       "    </tr>\n",
       "    <tr>\n",
       "      <th>17314</th>\n",
       "      <td>1483</td>\n",
       "      <td>4445.481070</td>\n",
       "      <td>0.5</td>\n",
       "      <td>2021-03-06</td>\n",
       "      <td>3</td>\n",
       "      <td>8890.962140</td>\n",
       "    </tr>\n",
       "    <tr>\n",
       "      <th>17505</th>\n",
       "      <td>1496</td>\n",
       "      <td>5722.551787</td>\n",
       "      <td>0.5</td>\n",
       "      <td>2021-02-14</td>\n",
       "      <td>2</td>\n",
       "      <td>11445.103574</td>\n",
       "    </tr>\n",
       "    <tr>\n",
       "      <th>17909</th>\n",
       "      <td>1524</td>\n",
       "      <td>4103.998874</td>\n",
       "      <td>0.5</td>\n",
       "      <td>2021-06-18</td>\n",
       "      <td>6</td>\n",
       "      <td>8207.997748</td>\n",
       "    </tr>\n",
       "  </tbody>\n",
       "</table>\n",
       "<p>85 rows × 6 columns</p>\n",
       "</div>"
      ],
      "text/plain": [
       "       user_id     distance  duration       date  month  dist_per_min\n",
       "6531       701  4196.445201       0.5 2021-08-31      8   8392.890401\n",
       "6570       704  4830.824371       0.5 2021-10-14     10   9661.648742\n",
       "6680       712  4684.004397       0.5 2021-03-04      3   9368.008793\n",
       "6695       713  5215.642710       0.5 2021-02-25      2  10431.285420\n",
       "6768       718  5197.436649       0.5 2021-02-11      2  10394.873299\n",
       "...        ...          ...       ...        ...    ...           ...\n",
       "16817     1444  5830.705170       0.5 2021-08-29      8  11661.410340\n",
       "17004     1460  5531.335845       0.5 2021-01-19      1  11062.671691\n",
       "17314     1483  4445.481070       0.5 2021-03-06      3   8890.962140\n",
       "17505     1496  5722.551787       0.5 2021-02-14      2  11445.103574\n",
       "17909     1524  4103.998874       0.5 2021-06-18      6   8207.997748\n",
       "\n",
       "[85 rows x 6 columns]"
      ]
     },
     "execution_count": 33,
     "metadata": {},
     "output_type": "execute_result"
    }
   ],
   "source": [
    "# на графике видны аномальные значения на значениях близких к 10000, изучим эти данные\n",
    "data_dist_per_min.query('8000 < dist_per_min < 12000')"
   ]
  },
  {
   "cell_type": "code",
   "execution_count": 34,
   "id": "f3f1e185",
   "metadata": {},
   "outputs": [
    {
     "data": {
      "text/plain": [
       "count    85.0\n",
       "mean      0.5\n",
       "std       0.0\n",
       "min       0.5\n",
       "25%       0.5\n",
       "50%       0.5\n",
       "75%       0.5\n",
       "max       0.5\n",
       "Name: duration, dtype: float64"
      ]
     },
     "execution_count": 34,
     "metadata": {},
     "output_type": "execute_result"
    }
   ],
   "source": [
    "data_dist_per_min.query('8000 < dist_per_min < 12000')['duration'].describe()"
   ]
  },
  {
   "cell_type": "markdown",
   "id": "754cd025",
   "metadata": {},
   "source": [
    "Аномальные значения соотношения расстояния поездки ко времени выявлены в наблюдениях со значением 0,5. Заменим аномалию на значение равное частному от деления расстояния на среднее значение параметра проезжаемых метров в минуту."
   ]
  },
  {
   "cell_type": "code",
   "execution_count": 35,
   "id": "34f9db8a",
   "metadata": {},
   "outputs": [
    {
     "data": {
      "text/plain": [
       "176.91526708769788"
      ]
     },
     "execution_count": 35,
     "metadata": {},
     "output_type": "execute_result"
    }
   ],
   "source": [
    "# рассчитаем значение без учёта аномалий\n",
    "mean_dist_per_min = data_dist_per_min.query('duration != 0.5')['dist_per_min'].mean()\n",
    "mean_dist_per_min"
   ]
  },
  {
   "cell_type": "code",
   "execution_count": 36,
   "id": "53600bab",
   "metadata": {},
   "outputs": [],
   "source": [
    "# Напишем функцию для работы с аномалиями\n",
    "def remove_anom(row):\n",
    "    duration = row['duration']\n",
    "    distance = row['distance']\n",
    "    if duration == 0.5:\n",
    "        return distance/mean_dist_per_min\n",
    "    return duration"
   ]
  },
  {
   "cell_type": "code",
   "execution_count": 37,
   "id": "32d7e6f6",
   "metadata": {},
   "outputs": [],
   "source": [
    "# применим функцию к столбцу с продолжительностью поездки\n",
    "data_rides['duration'] = data_rides.apply(remove_anom, axis=1)"
   ]
  },
  {
   "cell_type": "code",
   "execution_count": 38,
   "id": "8c34873a",
   "metadata": {},
   "outputs": [
    {
     "data": {
      "text/html": [
       "<div>\n",
       "<style scoped>\n",
       "    .dataframe tbody tr th:only-of-type {\n",
       "        vertical-align: middle;\n",
       "    }\n",
       "\n",
       "    .dataframe tbody tr th {\n",
       "        vertical-align: top;\n",
       "    }\n",
       "\n",
       "    .dataframe thead th {\n",
       "        text-align: right;\n",
       "    }\n",
       "</style>\n",
       "<table border=\"1\" class=\"dataframe\">\n",
       "  <thead>\n",
       "    <tr style=\"text-align: right;\">\n",
       "      <th></th>\n",
       "      <th>user_id</th>\n",
       "      <th>distance</th>\n",
       "      <th>duration</th>\n",
       "      <th>month</th>\n",
       "    </tr>\n",
       "  </thead>\n",
       "  <tbody>\n",
       "    <tr>\n",
       "      <th>count</th>\n",
       "      <td>18068.000000</td>\n",
       "      <td>18068.000000</td>\n",
       "      <td>18068.000000</td>\n",
       "      <td>18068.000000</td>\n",
       "    </tr>\n",
       "    <tr>\n",
       "      <th>mean</th>\n",
       "      <td>842.869936</td>\n",
       "      <td>3070.659976</td>\n",
       "      <td>17.954346</td>\n",
       "      <td>6.486772</td>\n",
       "    </tr>\n",
       "    <tr>\n",
       "      <th>std</th>\n",
       "      <td>434.734317</td>\n",
       "      <td>1116.831209</td>\n",
       "      <td>6.018595</td>\n",
       "      <td>3.437410</td>\n",
       "    </tr>\n",
       "    <tr>\n",
       "      <th>min</th>\n",
       "      <td>1.000000</td>\n",
       "      <td>0.855683</td>\n",
       "      <td>2.035632</td>\n",
       "      <td>1.000000</td>\n",
       "    </tr>\n",
       "    <tr>\n",
       "      <th>25%</th>\n",
       "      <td>487.000000</td>\n",
       "      <td>2543.226360</td>\n",
       "      <td>13.697117</td>\n",
       "      <td>4.000000</td>\n",
       "    </tr>\n",
       "    <tr>\n",
       "      <th>50%</th>\n",
       "      <td>889.000000</td>\n",
       "      <td>3133.609994</td>\n",
       "      <td>17.750643</td>\n",
       "      <td>6.000000</td>\n",
       "    </tr>\n",
       "    <tr>\n",
       "      <th>75%</th>\n",
       "      <td>1213.250000</td>\n",
       "      <td>3776.222735</td>\n",
       "      <td>21.824361</td>\n",
       "      <td>9.000000</td>\n",
       "    </tr>\n",
       "    <tr>\n",
       "      <th>max</th>\n",
       "      <td>1534.000000</td>\n",
       "      <td>7211.007745</td>\n",
       "      <td>40.823963</td>\n",
       "      <td>12.000000</td>\n",
       "    </tr>\n",
       "  </tbody>\n",
       "</table>\n",
       "</div>"
      ],
      "text/plain": [
       "            user_id      distance      duration         month\n",
       "count  18068.000000  18068.000000  18068.000000  18068.000000\n",
       "mean     842.869936   3070.659976     17.954346      6.486772\n",
       "std      434.734317   1116.831209      6.018595      3.437410\n",
       "min        1.000000      0.855683      2.035632      1.000000\n",
       "25%      487.000000   2543.226360     13.697117      4.000000\n",
       "50%      889.000000   3133.609994     17.750643      6.000000\n",
       "75%     1213.250000   3776.222735     21.824361      9.000000\n",
       "max     1534.000000   7211.007745     40.823963     12.000000"
      ]
     },
     "execution_count": 38,
     "metadata": {},
     "output_type": "execute_result"
    }
   ],
   "source": [
    "data_rides.describe()"
   ]
  },
  {
   "cell_type": "code",
   "execution_count": 39,
   "id": "217cfcf9",
   "metadata": {},
   "outputs": [
    {
     "data": {
      "text/plain": [
       "176.91526708769788"
      ]
     },
     "execution_count": 39,
     "metadata": {},
     "output_type": "execute_result"
    }
   ],
   "source": [
    "# проверим получаемое среднее и построим гистограмму\n",
    "sample = data_rides['distance']/data_rides['duration']\n",
    "sample.mean()"
   ]
  },
  {
   "cell_type": "code",
   "execution_count": 40,
   "id": "e842f8f9",
   "metadata": {},
   "outputs": [
    {
     "data": {
      "image/png": "[encoded data removed]",
      "text/plain": [
       "<Figure size 432x288 with 1 Axes>"
      ]
     },
     "metadata": {
      "needs_background": "light"
     },
     "output_type": "display_data"
    }
   ],
   "source": [
    "sample.hist()\n",
    "plt.xlabel(\"Средняя скорость пользователей м/мин\")\n",
    "plt.ylabel(\"Частота\")\n",
    "plt.title('Распределение средней скорости пользователей')\n",
    "plt.show()"
   ]
  },
  {
   "cell_type": "code",
   "execution_count": 41,
   "id": "2d4560a8",
   "metadata": {},
   "outputs": [
    {
     "data": {
      "text/html": [
       "<div>\n",
       "<style scoped>\n",
       "    .dataframe tbody tr th:only-of-type {\n",
       "        vertical-align: middle;\n",
       "    }\n",
       "\n",
       "    .dataframe tbody tr th {\n",
       "        vertical-align: top;\n",
       "    }\n",
       "\n",
       "    .dataframe thead th {\n",
       "        text-align: right;\n",
       "    }\n",
       "</style>\n",
       "<table border=\"1\" class=\"dataframe\">\n",
       "  <thead>\n",
       "    <tr style=\"text-align: right;\">\n",
       "      <th></th>\n",
       "      <th>subscription_type</th>\n",
       "      <th>minute_price</th>\n",
       "      <th>start_ride_price</th>\n",
       "      <th>subscription_fee</th>\n",
       "    </tr>\n",
       "  </thead>\n",
       "  <tbody>\n",
       "    <tr>\n",
       "      <th>0</th>\n",
       "      <td>free</td>\n",
       "      <td>8</td>\n",
       "      <td>50</td>\n",
       "      <td>0</td>\n",
       "    </tr>\n",
       "    <tr>\n",
       "      <th>1</th>\n",
       "      <td>ultra</td>\n",
       "      <td>6</td>\n",
       "      <td>0</td>\n",
       "      <td>199</td>\n",
       "    </tr>\n",
       "  </tbody>\n",
       "</table>\n",
       "</div>"
      ],
      "text/plain": [
       "  subscription_type  minute_price  start_ride_price  subscription_fee\n",
       "0              free             8                50                 0\n",
       "1             ultra             6                 0               199"
      ]
     },
     "execution_count": 41,
     "metadata": {},
     "output_type": "execute_result"
    }
   ],
   "source": [
    "data_sub"
   ]
  },
  {
   "cell_type": "markdown",
   "id": "0b21c9ee",
   "metadata": {},
   "source": [
    "Дубликатов в data_rides и data_sub не выявлено"
   ]
  },
  {
   "cell_type": "markdown",
   "id": "212593c7",
   "metadata": {},
   "source": [
    "# Шаг 3. Исследовательский анализ данных"
   ]
  },
  {
   "cell_type": "markdown",
   "id": "96ef1edf",
   "metadata": {},
   "source": [
    "##### Описание и визуализация общей информации о пользователях и поездках"
   ]
  },
  {
   "cell_type": "markdown",
   "id": "5e8a3ef5",
   "metadata": {},
   "source": [
    "###### Частота встречаемости городов"
   ]
  },
  {
   "cell_type": "code",
   "execution_count": 42,
   "id": "c8b28621",
   "metadata": {},
   "outputs": [
    {
     "data": {
      "text/html": [
       "<div>\n",
       "<style scoped>\n",
       "    .dataframe tbody tr th:only-of-type {\n",
       "        vertical-align: middle;\n",
       "    }\n",
       "\n",
       "    .dataframe tbody tr th {\n",
       "        vertical-align: top;\n",
       "    }\n",
       "\n",
       "    .dataframe thead th {\n",
       "        text-align: right;\n",
       "    }\n",
       "</style>\n",
       "<table border=\"1\" class=\"dataframe\">\n",
       "  <thead>\n",
       "    <tr style=\"text-align: right;\">\n",
       "      <th></th>\n",
       "      <th>index</th>\n",
       "      <th>user_id</th>\n",
       "      <th>name</th>\n",
       "      <th>age</th>\n",
       "      <th>city</th>\n",
       "      <th>subscription_type</th>\n",
       "    </tr>\n",
       "  </thead>\n",
       "  <tbody>\n",
       "    <tr>\n",
       "      <th>0</th>\n",
       "      <td>0</td>\n",
       "      <td>1</td>\n",
       "      <td>Кира</td>\n",
       "      <td>22</td>\n",
       "      <td>Тюмень</td>\n",
       "      <td>ultra</td>\n",
       "    </tr>\n",
       "    <tr>\n",
       "      <th>1</th>\n",
       "      <td>1</td>\n",
       "      <td>2</td>\n",
       "      <td>Станислав</td>\n",
       "      <td>31</td>\n",
       "      <td>Омск</td>\n",
       "      <td>ultra</td>\n",
       "    </tr>\n",
       "    <tr>\n",
       "      <th>2</th>\n",
       "      <td>2</td>\n",
       "      <td>3</td>\n",
       "      <td>Алексей</td>\n",
       "      <td>20</td>\n",
       "      <td>Москва</td>\n",
       "      <td>ultra</td>\n",
       "    </tr>\n",
       "    <tr>\n",
       "      <th>3</th>\n",
       "      <td>3</td>\n",
       "      <td>4</td>\n",
       "      <td>Константин</td>\n",
       "      <td>26</td>\n",
       "      <td>Ростов-на-Дону</td>\n",
       "      <td>ultra</td>\n",
       "    </tr>\n",
       "    <tr>\n",
       "      <th>4</th>\n",
       "      <td>4</td>\n",
       "      <td>5</td>\n",
       "      <td>Адель</td>\n",
       "      <td>28</td>\n",
       "      <td>Омск</td>\n",
       "      <td>ultra</td>\n",
       "    </tr>\n",
       "    <tr>\n",
       "      <th>...</th>\n",
       "      <td>...</td>\n",
       "      <td>...</td>\n",
       "      <td>...</td>\n",
       "      <td>...</td>\n",
       "      <td>...</td>\n",
       "      <td>...</td>\n",
       "    </tr>\n",
       "    <tr>\n",
       "      <th>1529</th>\n",
       "      <td>1529</td>\n",
       "      <td>1530</td>\n",
       "      <td>Ростислав</td>\n",
       "      <td>29</td>\n",
       "      <td>Сочи</td>\n",
       "      <td>free</td>\n",
       "    </tr>\n",
       "    <tr>\n",
       "      <th>1530</th>\n",
       "      <td>1530</td>\n",
       "      <td>1531</td>\n",
       "      <td>Никита</td>\n",
       "      <td>25</td>\n",
       "      <td>Пятигорск</td>\n",
       "      <td>free</td>\n",
       "    </tr>\n",
       "    <tr>\n",
       "      <th>1531</th>\n",
       "      <td>1531</td>\n",
       "      <td>1532</td>\n",
       "      <td>Алексей</td>\n",
       "      <td>26</td>\n",
       "      <td>Тюмень</td>\n",
       "      <td>free</td>\n",
       "    </tr>\n",
       "    <tr>\n",
       "      <th>1532</th>\n",
       "      <td>1532</td>\n",
       "      <td>1533</td>\n",
       "      <td>Степан</td>\n",
       "      <td>22</td>\n",
       "      <td>Краснодар</td>\n",
       "      <td>free</td>\n",
       "    </tr>\n",
       "    <tr>\n",
       "      <th>1533</th>\n",
       "      <td>1533</td>\n",
       "      <td>1534</td>\n",
       "      <td>Альберт</td>\n",
       "      <td>25</td>\n",
       "      <td>Краснодар</td>\n",
       "      <td>free</td>\n",
       "    </tr>\n",
       "  </tbody>\n",
       "</table>\n",
       "<p>1534 rows × 6 columns</p>\n",
       "</div>"
      ],
      "text/plain": [
       "      index  user_id        name  age            city subscription_type\n",
       "0         0        1        Кира   22          Тюмень             ultra\n",
       "1         1        2   Станислав   31            Омск             ultra\n",
       "2         2        3     Алексей   20          Москва             ultra\n",
       "3         3        4  Константин   26  Ростов-на-Дону             ultra\n",
       "4         4        5       Адель   28            Омск             ultra\n",
       "...     ...      ...         ...  ...             ...               ...\n",
       "1529   1529     1530   Ростислав   29            Сочи              free\n",
       "1530   1530     1531      Никита   25       Пятигорск              free\n",
       "1531   1531     1532     Алексей   26          Тюмень              free\n",
       "1532   1532     1533      Степан   22       Краснодар              free\n",
       "1533   1533     1534     Альберт   25       Краснодар              free\n",
       "\n",
       "[1534 rows x 6 columns]"
      ]
     },
     "execution_count": 42,
     "metadata": {},
     "output_type": "execute_result"
    }
   ],
   "source": [
    "# Выведем датасет\n",
    "data_users"
   ]
  },
  {
   "cell_type": "code",
   "execution_count": 43,
   "id": "7fe35689",
   "metadata": {},
   "outputs": [
    {
     "data": {
      "text/plain": [
       "Пятигорск         219\n",
       "Екатеринбург      204\n",
       "Ростов-на-Дону    198\n",
       "Краснодар         193\n",
       "Сочи              189\n",
       "Омск              183\n",
       "Тюмень            180\n",
       "Москва            168\n",
       "Name: city, dtype: int64"
      ]
     },
     "execution_count": 43,
     "metadata": {},
     "output_type": "execute_result"
    }
   ],
   "source": [
    "# Построим таблицу частот по городам из data_users\n",
    "city_freq = data_users['city'].value_counts()\n",
    "city_freq"
   ]
  },
  {
   "cell_type": "code",
   "execution_count": 44,
   "id": "c38e755b",
   "metadata": {
    "scrolled": true
   },
   "outputs": [
    {
     "data": {
      "image/png": "[encoded data removed]",
      "text/plain": [
       "<Figure size 288x216 with 1 Axes>"
      ]
     },
     "metadata": {
      "needs_background": "light"
     },
     "output_type": "display_data"
    }
   ],
   "source": [
    "# Для отражения частот построим столбчатый график \n",
    "data_users['city'].value_counts().plot(\n",
    "    kind='bar', title='Частота встречаемости городов', xlabel='Название города', ylabel='Частота', figsize=(4,3)\n",
    ")\n",
    "plt.show()"
   ]
  },
  {
   "cell_type": "markdown",
   "id": "0eb4f421",
   "metadata": {},
   "source": [
    "Таким образом, наиболее часто встречающийся город - Пятигорск, наименее часто - Москва. Разброс знаяений примерно 30%."
   ]
  },
  {
   "cell_type": "markdown",
   "id": "7810f491",
   "metadata": {},
   "source": [
    "###### Соотношение пользователей с подпиской и без подписки"
   ]
  },
  {
   "cell_type": "code",
   "execution_count": 45,
   "id": "b2858bf7",
   "metadata": {},
   "outputs": [
    {
     "data": {
      "text/plain": [
       "subscription_type\n",
       "free     835\n",
       "ultra    699\n",
       "Name: user_id, dtype: int64"
      ]
     },
     "execution_count": 45,
     "metadata": {},
     "output_type": "execute_result"
    }
   ],
   "source": [
    "# применим сводную таблицу для вывода значений \n",
    "data_users.pivot_table(index='subscription_type', aggfunc='count')['user_id']"
   ]
  },
  {
   "cell_type": "code",
   "execution_count": 46,
   "id": "1aa39bab",
   "metadata": {},
   "outputs": [
    {
     "data": {
      "image/png": "[encoded data removed]",
      "text/plain": [
       "<Figure size 432x288 with 1 Axes>"
      ]
     },
     "metadata": {
      "needs_background": "light"
     },
     "output_type": "display_data"
    }
   ],
   "source": [
    "# построим соответствующий столбчатый график и piechart по соотношению пользователей с подпиской/без подписки \n",
    "pd.pivot_table(data=data_users, index='subscription_type', aggfunc='count').plot(\n",
    "    kind='bar', y='user_id', title='Соотношение пользователей с подпиской и без подписки', color='green', ylabel='Частота', xlabel='Наличие подписки'\n",
    ");"
   ]
  },
  {
   "cell_type": "code",
   "execution_count": 47,
   "id": "a60f378a",
   "metadata": {},
   "outputs": [
    {
     "data": {
      "image/png": "[encoded data removed]",
      "text/plain": [
       "<Figure size 720x720 with 1 Axes>"
      ]
     },
     "metadata": {},
     "output_type": "display_data"
    }
   ],
   "source": [
    "data_users['subscription_type'].value_counts().plot(\n",
    "    kind='pie', title='Соотношение пользователей с подпиской и без подписки', figsize = (10,10), autopct = '%1.0f%%', ylabel='Процентное соотношение'\n",
    ")\n",
    "plt.show()"
   ]
  },
  {
   "cell_type": "code",
   "execution_count": 48,
   "id": "1fc3ef7d",
   "metadata": {},
   "outputs": [
    {
     "name": "stdout",
     "output_type": "stream",
     "text": [
      "Пользователей без подписки больше на 19.0%\n"
     ]
    }
   ],
   "source": [
    "print(f'Пользователей без подписки больше на {round((835-699)/699, 2)*100}%')"
   ]
  },
  {
   "cell_type": "markdown",
   "id": "9b278719",
   "metadata": {},
   "source": [
    "Таким образом, пользователей без подписки примерно на 20% больше, чем пользователей с подпиской."
   ]
  },
  {
   "cell_type": "markdown",
   "id": "62a26d83",
   "metadata": {},
   "source": [
    "###### Возраст пользователей"
   ]
  },
  {
   "cell_type": "code",
   "execution_count": 49,
   "id": "d883d882",
   "metadata": {},
   "outputs": [
    {
     "data": {
      "text/plain": [
       "count    1534.000000\n",
       "mean       24.903520\n",
       "std         4.572367\n",
       "min        12.000000\n",
       "25%        22.000000\n",
       "50%        25.000000\n",
       "75%        28.000000\n",
       "max        43.000000\n",
       "Name: age, dtype: float64"
      ]
     },
     "execution_count": 49,
     "metadata": {},
     "output_type": "execute_result"
    }
   ],
   "source": [
    "# выведем описательную статистику для параметра возраста\n",
    "data_users['age'].describe()"
   ]
  },
  {
   "cell_type": "code",
   "execution_count": 50,
   "id": "add389c2",
   "metadata": {},
   "outputs": [
    {
     "data": {
      "text/plain": [
       "array([22, 31, 20, 26, 28, 25, 23, 21, 18, 27, 24, 29, 32, 14, 19, 30, 17,\n",
       "       12, 35, 33, 13, 15, 37, 16, 34, 38, 36, 39, 43])"
      ]
     },
     "execution_count": 50,
     "metadata": {},
     "output_type": "execute_result"
    }
   ],
   "source": [
    "data_users['age'].unique()"
   ]
  },
  {
   "cell_type": "code",
   "execution_count": 51,
   "id": "3d1bd675",
   "metadata": {},
   "outputs": [
    {
     "data": {
      "text/plain": [
       "25"
      ]
     },
     "execution_count": 51,
     "metadata": {},
     "output_type": "execute_result"
    }
   ],
   "source": [
    "# найдём наиболее часто встречающееся значение - моду\n",
    "data_users['age'].mode()[0]"
   ]
  },
  {
   "cell_type": "code",
   "execution_count": 52,
   "id": "b4dc01b7",
   "metadata": {},
   "outputs": [
    {
     "data": {
      "image/png": "[encoded data removed]",
      "text/plain": [
       "<Figure size 432x288 with 1 Axes>"
      ]
     },
     "metadata": {
      "needs_background": "light"
     },
     "output_type": "display_data"
    }
   ],
   "source": [
    "data_age = data_users['age']\n",
    "\n",
    "mean_value = data_users['age'].mean()\n",
    "median_value = data_users['age'].median()\n",
    "\n",
    "# построим гистограмму с вертикальными линиями медианы и среднего значения\n",
    "plt.hist(data_age, bins=30, alpha=0.7)\n",
    "plt.axvline(mean_value, color='red', linestyle='dashed', linewidth=1, label='Среднее')\n",
    "plt.axvline(median_value, color='green', linestyle='dashed', linewidth=1, label='Медиана')\n",
    "plt.legend()\n",
    "\n",
    "# Названия осей и заголовок\n",
    "plt.xlabel('Возраст')\n",
    "plt.ylabel('Частота')\n",
    "\n",
    "# Показать график\n",
    "plt.show()"
   ]
  },
  {
   "cell_type": "markdown",
   "id": "5908c5b0",
   "metadata": {},
   "source": [
    "Таким образом, в данных представлены пользователи возраста от 12 до 43 лет. Среднее и медиана практически совпадают, что свидетельствует об отсутствии выбросов. Наиболее часто встречающееся пользователи 25 лет."
   ]
  },
  {
   "cell_type": "markdown",
   "id": "414e7ae4",
   "metadata": {},
   "source": [
    "###### Расстояние, преодолеваемое пользователем за одну поездку"
   ]
  },
  {
   "cell_type": "code",
   "execution_count": 53,
   "id": "5e192603",
   "metadata": {},
   "outputs": [
    {
     "data": {
      "text/html": [
       "<div>\n",
       "<style scoped>\n",
       "    .dataframe tbody tr th:only-of-type {\n",
       "        vertical-align: middle;\n",
       "    }\n",
       "\n",
       "    .dataframe tbody tr th {\n",
       "        vertical-align: top;\n",
       "    }\n",
       "\n",
       "    .dataframe thead th {\n",
       "        text-align: right;\n",
       "    }\n",
       "</style>\n",
       "<table border=\"1\" class=\"dataframe\">\n",
       "  <thead>\n",
       "    <tr style=\"text-align: right;\">\n",
       "      <th></th>\n",
       "      <th>distance</th>\n",
       "    </tr>\n",
       "    <tr>\n",
       "      <th>user_id</th>\n",
       "      <th></th>\n",
       "    </tr>\n",
       "  </thead>\n",
       "  <tbody>\n",
       "    <tr>\n",
       "      <th>1</th>\n",
       "      <td>2839.181839</td>\n",
       "    </tr>\n",
       "    <tr>\n",
       "      <th>2</th>\n",
       "      <td>3087.641692</td>\n",
       "    </tr>\n",
       "    <tr>\n",
       "      <th>3</th>\n",
       "      <td>3075.633155</td>\n",
       "    </tr>\n",
       "    <tr>\n",
       "      <th>4</th>\n",
       "      <td>3202.656423</td>\n",
       "    </tr>\n",
       "    <tr>\n",
       "      <th>5</th>\n",
       "      <td>3232.449968</td>\n",
       "    </tr>\n",
       "    <tr>\n",
       "      <th>...</th>\n",
       "      <td>...</td>\n",
       "    </tr>\n",
       "    <tr>\n",
       "      <th>1530</th>\n",
       "      <td>2750.498225</td>\n",
       "    </tr>\n",
       "    <tr>\n",
       "      <th>1531</th>\n",
       "      <td>2915.425836</td>\n",
       "    </tr>\n",
       "    <tr>\n",
       "      <th>1532</th>\n",
       "      <td>2607.861784</td>\n",
       "    </tr>\n",
       "    <tr>\n",
       "      <th>1533</th>\n",
       "      <td>2837.707093</td>\n",
       "    </tr>\n",
       "    <tr>\n",
       "      <th>1534</th>\n",
       "      <td>3222.957142</td>\n",
       "    </tr>\n",
       "  </tbody>\n",
       "</table>\n",
       "<p>1534 rows × 1 columns</p>\n",
       "</div>"
      ],
      "text/plain": [
       "            distance\n",
       "user_id             \n",
       "1        2839.181839\n",
       "2        3087.641692\n",
       "3        3075.633155\n",
       "4        3202.656423\n",
       "5        3232.449968\n",
       "...              ...\n",
       "1530     2750.498225\n",
       "1531     2915.425836\n",
       "1532     2607.861784\n",
       "1533     2837.707093\n",
       "1534     3222.957142\n",
       "\n",
       "[1534 rows x 1 columns]"
      ]
     },
     "execution_count": 53,
     "metadata": {},
     "output_type": "execute_result"
    }
   ],
   "source": [
    "# построим сводную таблицу по среднему расстоянию, которое преодолел каждый пользователь\n",
    "pt_dist = data_rides.pivot_table(index='user_id', values='distance', aggfunc='mean')\n",
    "pt_dist"
   ]
  },
  {
   "cell_type": "code",
   "execution_count": 54,
   "id": "779220b7",
   "metadata": {},
   "outputs": [
    {
     "data": {
      "text/html": [
       "<div>\n",
       "<style scoped>\n",
       "    .dataframe tbody tr th:only-of-type {\n",
       "        vertical-align: middle;\n",
       "    }\n",
       "\n",
       "    .dataframe tbody tr th {\n",
       "        vertical-align: top;\n",
       "    }\n",
       "\n",
       "    .dataframe thead th {\n",
       "        text-align: right;\n",
       "    }\n",
       "</style>\n",
       "<table border=\"1\" class=\"dataframe\">\n",
       "  <thead>\n",
       "    <tr style=\"text-align: right;\">\n",
       "      <th></th>\n",
       "      <th>distance</th>\n",
       "    </tr>\n",
       "  </thead>\n",
       "  <tbody>\n",
       "    <tr>\n",
       "      <th>count</th>\n",
       "      <td>1534.000000</td>\n",
       "    </tr>\n",
       "    <tr>\n",
       "      <th>mean</th>\n",
       "      <td>3077.296650</td>\n",
       "    </tr>\n",
       "    <tr>\n",
       "      <th>std</th>\n",
       "      <td>327.624403</td>\n",
       "    </tr>\n",
       "    <tr>\n",
       "      <th>min</th>\n",
       "      <td>1630.788427</td>\n",
       "    </tr>\n",
       "    <tr>\n",
       "      <th>25%</th>\n",
       "      <td>2882.505704</td>\n",
       "    </tr>\n",
       "    <tr>\n",
       "      <th>50%</th>\n",
       "      <td>3090.864050</td>\n",
       "    </tr>\n",
       "    <tr>\n",
       "      <th>75%</th>\n",
       "      <td>3293.325678</td>\n",
       "    </tr>\n",
       "    <tr>\n",
       "      <th>max</th>\n",
       "      <td>4287.519387</td>\n",
       "    </tr>\n",
       "  </tbody>\n",
       "</table>\n",
       "</div>"
      ],
      "text/plain": [
       "          distance\n",
       "count  1534.000000\n",
       "mean   3077.296650\n",
       "std     327.624403\n",
       "min    1630.788427\n",
       "25%    2882.505704\n",
       "50%    3090.864050\n",
       "75%    3293.325678\n",
       "max    4287.519387"
      ]
     },
     "execution_count": 54,
     "metadata": {},
     "output_type": "execute_result"
    }
   ],
   "source": [
    "# выведем описательную статистику\n",
    "pt_dist.describe()"
   ]
  },
  {
   "cell_type": "code",
   "execution_count": 55,
   "id": "1fded9ad",
   "metadata": {},
   "outputs": [
    {
     "data": {
      "image/png": "[encoded data removed]",
      "text/plain": [
       "<Figure size 432x288 with 1 Axes>"
      ]
     },
     "metadata": {
      "needs_background": "light"
     },
     "output_type": "display_data"
    }
   ],
   "source": [
    "# построим гистограмму по полученным значениям\n",
    "pt_dist.plot(kind='hist', bins=30, title='Распределение расстояния поездки')\n",
    "plt.ylabel('Частота')\n",
    "plt.xlabel('Расстояние, преодолеваемое за поездку')\n",
    "plt.show()"
   ]
  },
  {
   "cell_type": "markdown",
   "id": "bbd03ca1",
   "metadata": {},
   "source": [
    "Таким образом, в среднем за поездку пользователи преодолевают около 3 км."
   ]
  },
  {
   "cell_type": "markdown",
   "id": "aa0bfa23",
   "metadata": {},
   "source": [
    "###### Продолжительность поездок"
   ]
  },
  {
   "cell_type": "code",
   "execution_count": 56,
   "id": "cf1b2b25",
   "metadata": {},
   "outputs": [
    {
     "data": {
      "text/plain": [
       "count    18068.000000\n",
       "mean        17.954346\n",
       "std          6.018595\n",
       "min          2.035632\n",
       "25%         13.697117\n",
       "50%         17.750643\n",
       "75%         21.824361\n",
       "max         40.823963\n",
       "Name: duration, dtype: float64"
      ]
     },
     "execution_count": 56,
     "metadata": {},
     "output_type": "execute_result"
    }
   ],
   "source": [
    "# выведем описательную статистику по продолжительности поездок\n",
    "data_rides['duration'].describe()"
   ]
  },
  {
   "cell_type": "code",
   "execution_count": 57,
   "id": "6b6b862d",
   "metadata": {},
   "outputs": [
    {
     "data": {
      "image/png": "[encoded data removed]",
      "text/plain": [
       "<Figure size 432x288 with 1 Axes>"
      ]
     },
     "metadata": {
      "needs_background": "light"
     },
     "output_type": "display_data"
    }
   ],
   "source": [
    "# построим гистограмму\n",
    "data_duration = data_rides['duration']\n",
    "\n",
    "dur_mean_value = data_rides['duration'].mean()\n",
    "dur_median_value = data_rides['duration'].median()\n",
    "\n",
    "# построим гистограмму с вертикальными линиями медианы и среднего значения\n",
    "plt.hist(data_duration, bins=30, alpha=0.7)\n",
    "plt.axvline(dur_mean_value, color='red', linestyle='dashed', linewidth=1, label='Среднее')\n",
    "plt.axvline(dur_median_value, color='green', linestyle='dashed', linewidth=1, label='Медиана')\n",
    "plt.legend()\n",
    "\n",
    "# Названия осей и заголовок\n",
    "plt.xlabel('Продолжительность поездки')\n",
    "plt.ylabel('Частота')\n",
    "plt.title('Распределение продолжительности поездки')\n",
    "\n",
    "# Показать график\n",
    "plt.show()"
   ]
  },
  {
   "cell_type": "markdown",
   "id": "dbdfb55e",
   "metadata": {},
   "source": [
    "Таким образом, в среднем на поездку тратят около 17-18 минут. Максимальное значение - 40 минут, минимальное - 2 минуты."
   ]
  },
  {
   "cell_type": "markdown",
   "id": "4ef51331",
   "metadata": {},
   "source": [
    "# Шаг 4. Объединение данных"
   ]
  },
  {
   "cell_type": "code",
   "execution_count": 58,
   "id": "61c72e39",
   "metadata": {},
   "outputs": [
    {
     "name": "stdout",
     "output_type": "stream",
     "text": [
      "Размерность data_users: (1534, 6)\n",
      "Размерность data_rides: (18068, 5)\n",
      "Размерность data_sub: (2, 4)\n"
     ]
    }
   ],
   "source": [
    "# рассмотрим размерность исходных датасетов\n",
    "print(f'Размерность data_users: {data_users.shape}')\n",
    "print(f'Размерность data_rides: {data_rides.shape}')\n",
    "print(f'Размерность data_sub: {data_sub.shape}')"
   ]
  },
  {
   "cell_type": "markdown",
   "id": "50cbcbdd",
   "metadata": {},
   "source": [
    "Объединим data_users и data_rides по столбцу user_id, затем полученную таблицу объединим с data_sub по столбцу subscription_type. После объединений размерность таблицы, к которой присоединяем должна совпадать с исходной. "
   ]
  },
  {
   "cell_type": "code",
   "execution_count": 59,
   "id": "6bf288b5",
   "metadata": {
    "scrolled": true
   },
   "outputs": [
    {
     "data": {
      "text/html": [
       "<div>\n",
       "<style scoped>\n",
       "    .dataframe tbody tr th:only-of-type {\n",
       "        vertical-align: middle;\n",
       "    }\n",
       "\n",
       "    .dataframe tbody tr th {\n",
       "        vertical-align: top;\n",
       "    }\n",
       "\n",
       "    .dataframe thead th {\n",
       "        text-align: right;\n",
       "    }\n",
       "</style>\n",
       "<table border=\"1\" class=\"dataframe\">\n",
       "  <thead>\n",
       "    <tr style=\"text-align: right;\">\n",
       "      <th></th>\n",
       "      <th>user_id</th>\n",
       "      <th>distance</th>\n",
       "      <th>duration</th>\n",
       "      <th>date</th>\n",
       "      <th>month</th>\n",
       "      <th>index</th>\n",
       "      <th>name</th>\n",
       "      <th>age</th>\n",
       "      <th>city</th>\n",
       "      <th>subscription_type</th>\n",
       "      <th>minute_price</th>\n",
       "      <th>start_ride_price</th>\n",
       "      <th>subscription_fee</th>\n",
       "    </tr>\n",
       "  </thead>\n",
       "  <tbody>\n",
       "    <tr>\n",
       "      <th>0</th>\n",
       "      <td>1</td>\n",
       "      <td>4409.919140</td>\n",
       "      <td>25.599769</td>\n",
       "      <td>2021-01-01</td>\n",
       "      <td>1</td>\n",
       "      <td>0</td>\n",
       "      <td>Кира</td>\n",
       "      <td>22</td>\n",
       "      <td>Тюмень</td>\n",
       "      <td>ultra</td>\n",
       "      <td>6</td>\n",
       "      <td>0</td>\n",
       "      <td>199</td>\n",
       "    </tr>\n",
       "    <tr>\n",
       "      <th>1</th>\n",
       "      <td>1</td>\n",
       "      <td>2617.592153</td>\n",
       "      <td>15.816871</td>\n",
       "      <td>2021-01-18</td>\n",
       "      <td>1</td>\n",
       "      <td>0</td>\n",
       "      <td>Кира</td>\n",
       "      <td>22</td>\n",
       "      <td>Тюмень</td>\n",
       "      <td>ultra</td>\n",
       "      <td>6</td>\n",
       "      <td>0</td>\n",
       "      <td>199</td>\n",
       "    </tr>\n",
       "    <tr>\n",
       "      <th>2</th>\n",
       "      <td>1</td>\n",
       "      <td>754.159807</td>\n",
       "      <td>6.232113</td>\n",
       "      <td>2021-04-20</td>\n",
       "      <td>4</td>\n",
       "      <td>0</td>\n",
       "      <td>Кира</td>\n",
       "      <td>22</td>\n",
       "      <td>Тюмень</td>\n",
       "      <td>ultra</td>\n",
       "      <td>6</td>\n",
       "      <td>0</td>\n",
       "      <td>199</td>\n",
       "    </tr>\n",
       "    <tr>\n",
       "      <th>3</th>\n",
       "      <td>1</td>\n",
       "      <td>2694.783254</td>\n",
       "      <td>18.511000</td>\n",
       "      <td>2021-08-11</td>\n",
       "      <td>8</td>\n",
       "      <td>0</td>\n",
       "      <td>Кира</td>\n",
       "      <td>22</td>\n",
       "      <td>Тюмень</td>\n",
       "      <td>ultra</td>\n",
       "      <td>6</td>\n",
       "      <td>0</td>\n",
       "      <td>199</td>\n",
       "    </tr>\n",
       "    <tr>\n",
       "      <th>4</th>\n",
       "      <td>1</td>\n",
       "      <td>4028.687306</td>\n",
       "      <td>26.265803</td>\n",
       "      <td>2021-08-28</td>\n",
       "      <td>8</td>\n",
       "      <td>0</td>\n",
       "      <td>Кира</td>\n",
       "      <td>22</td>\n",
       "      <td>Тюмень</td>\n",
       "      <td>ultra</td>\n",
       "      <td>6</td>\n",
       "      <td>0</td>\n",
       "      <td>199</td>\n",
       "    </tr>\n",
       "    <tr>\n",
       "      <th>...</th>\n",
       "      <td>...</td>\n",
       "      <td>...</td>\n",
       "      <td>...</td>\n",
       "      <td>...</td>\n",
       "      <td>...</td>\n",
       "      <td>...</td>\n",
       "      <td>...</td>\n",
       "      <td>...</td>\n",
       "      <td>...</td>\n",
       "      <td>...</td>\n",
       "      <td>...</td>\n",
       "      <td>...</td>\n",
       "      <td>...</td>\n",
       "    </tr>\n",
       "    <tr>\n",
       "      <th>18063</th>\n",
       "      <td>1534</td>\n",
       "      <td>3781.098080</td>\n",
       "      <td>19.822962</td>\n",
       "      <td>2021-11-04</td>\n",
       "      <td>11</td>\n",
       "      <td>1533</td>\n",
       "      <td>Альберт</td>\n",
       "      <td>25</td>\n",
       "      <td>Краснодар</td>\n",
       "      <td>free</td>\n",
       "      <td>8</td>\n",
       "      <td>50</td>\n",
       "      <td>0</td>\n",
       "    </tr>\n",
       "    <tr>\n",
       "      <th>18064</th>\n",
       "      <td>1534</td>\n",
       "      <td>2840.423057</td>\n",
       "      <td>21.409799</td>\n",
       "      <td>2021-11-16</td>\n",
       "      <td>11</td>\n",
       "      <td>1533</td>\n",
       "      <td>Альберт</td>\n",
       "      <td>25</td>\n",
       "      <td>Краснодар</td>\n",
       "      <td>free</td>\n",
       "      <td>8</td>\n",
       "      <td>50</td>\n",
       "      <td>0</td>\n",
       "    </tr>\n",
       "    <tr>\n",
       "      <th>18065</th>\n",
       "      <td>1534</td>\n",
       "      <td>3826.185507</td>\n",
       "      <td>18.435051</td>\n",
       "      <td>2021-11-18</td>\n",
       "      <td>11</td>\n",
       "      <td>1533</td>\n",
       "      <td>Альберт</td>\n",
       "      <td>25</td>\n",
       "      <td>Краснодар</td>\n",
       "      <td>free</td>\n",
       "      <td>8</td>\n",
       "      <td>50</td>\n",
       "      <td>0</td>\n",
       "    </tr>\n",
       "    <tr>\n",
       "      <th>18066</th>\n",
       "      <td>1534</td>\n",
       "      <td>2902.308661</td>\n",
       "      <td>16.674362</td>\n",
       "      <td>2021-11-27</td>\n",
       "      <td>11</td>\n",
       "      <td>1533</td>\n",
       "      <td>Альберт</td>\n",
       "      <td>25</td>\n",
       "      <td>Краснодар</td>\n",
       "      <td>free</td>\n",
       "      <td>8</td>\n",
       "      <td>50</td>\n",
       "      <td>0</td>\n",
       "    </tr>\n",
       "    <tr>\n",
       "      <th>18067</th>\n",
       "      <td>1534</td>\n",
       "      <td>2371.711192</td>\n",
       "      <td>15.893917</td>\n",
       "      <td>2021-12-29</td>\n",
       "      <td>12</td>\n",
       "      <td>1533</td>\n",
       "      <td>Альберт</td>\n",
       "      <td>25</td>\n",
       "      <td>Краснодар</td>\n",
       "      <td>free</td>\n",
       "      <td>8</td>\n",
       "      <td>50</td>\n",
       "      <td>0</td>\n",
       "    </tr>\n",
       "  </tbody>\n",
       "</table>\n",
       "<p>18068 rows × 13 columns</p>\n",
       "</div>"
      ],
      "text/plain": [
       "       user_id     distance   duration       date  month  index     name  age  \\\n",
       "0            1  4409.919140  25.599769 2021-01-01      1      0     Кира   22   \n",
       "1            1  2617.592153  15.816871 2021-01-18      1      0     Кира   22   \n",
       "2            1   754.159807   6.232113 2021-04-20      4      0     Кира   22   \n",
       "3            1  2694.783254  18.511000 2021-08-11      8      0     Кира   22   \n",
       "4            1  4028.687306  26.265803 2021-08-28      8      0     Кира   22   \n",
       "...        ...          ...        ...        ...    ...    ...      ...  ...   \n",
       "18063     1534  3781.098080  19.822962 2021-11-04     11   1533  Альберт   25   \n",
       "18064     1534  2840.423057  21.409799 2021-11-16     11   1533  Альберт   25   \n",
       "18065     1534  3826.185507  18.435051 2021-11-18     11   1533  Альберт   25   \n",
       "18066     1534  2902.308661  16.674362 2021-11-27     11   1533  Альберт   25   \n",
       "18067     1534  2371.711192  15.893917 2021-12-29     12   1533  Альберт   25   \n",
       "\n",
       "            city subscription_type  minute_price  start_ride_price  \\\n",
       "0         Тюмень             ultra             6                 0   \n",
       "1         Тюмень             ultra             6                 0   \n",
       "2         Тюмень             ultra             6                 0   \n",
       "3         Тюмень             ultra             6                 0   \n",
       "4         Тюмень             ultra             6                 0   \n",
       "...          ...               ...           ...               ...   \n",
       "18063  Краснодар              free             8                50   \n",
       "18064  Краснодар              free             8                50   \n",
       "18065  Краснодар              free             8                50   \n",
       "18066  Краснодар              free             8                50   \n",
       "18067  Краснодар              free             8                50   \n",
       "\n",
       "       subscription_fee  \n",
       "0                   199  \n",
       "1                   199  \n",
       "2                   199  \n",
       "3                   199  \n",
       "4                   199  \n",
       "...                 ...  \n",
       "18063                 0  \n",
       "18064                 0  \n",
       "18065                 0  \n",
       "18066                 0  \n",
       "18067                 0  \n",
       "\n",
       "[18068 rows x 13 columns]"
      ]
     },
     "execution_count": 59,
     "metadata": {},
     "output_type": "execute_result"
    }
   ],
   "source": [
    "# Объединим данные о пользователях, поездках и подписках в один датафрейм.\n",
    "data_users_rides = data_rides.merge(data_users, on='user_id', how='left')\n",
    "data = data_users_rides.merge(data_sub, on='subscription_type', how='left')\n",
    "data"
   ]
  },
  {
   "cell_type": "code",
   "execution_count": 60,
   "id": "12e51e4e",
   "metadata": {},
   "outputs": [
    {
     "name": "stdout",
     "output_type": "stream",
     "text": [
      "<class 'pandas.core.frame.DataFrame'>\n",
      "Int64Index: 18068 entries, 0 to 18067\n",
      "Data columns (total 13 columns):\n",
      " #   Column             Non-Null Count  Dtype         \n",
      "---  ------             --------------  -----         \n",
      " 0   user_id            18068 non-null  int64         \n",
      " 1   distance           18068 non-null  float64       \n",
      " 2   duration           18068 non-null  float64       \n",
      " 3   date               18068 non-null  datetime64[ns]\n",
      " 4   month              18068 non-null  int64         \n",
      " 5   index              18068 non-null  int64         \n",
      " 6   name               18068 non-null  object        \n",
      " 7   age                18068 non-null  int64         \n",
      " 8   city               18068 non-null  object        \n",
      " 9   subscription_type  18068 non-null  object        \n",
      " 10  minute_price       18068 non-null  int64         \n",
      " 11  start_ride_price   18068 non-null  int64         \n",
      " 12  subscription_fee   18068 non-null  int64         \n",
      "dtypes: datetime64[ns](1), float64(2), int64(7), object(3)\n",
      "memory usage: 1.9+ MB\n"
     ]
    }
   ],
   "source": [
    "# проверим информацию о таблице на наличие пропусков и для выявления размерности\n",
    "data.info()"
   ]
  },
  {
   "cell_type": "markdown",
   "id": "4926851b",
   "metadata": {},
   "source": [
    "Таким образом, после объединений, размерность таблицы совпадает с той, к которой мы присоединяли. Пропусков не выявлено."
   ]
  },
  {
   "cell_type": "code",
   "execution_count": 61,
   "id": "b360d2e1",
   "metadata": {},
   "outputs": [
    {
     "data": {
      "text/html": [
       "<div>\n",
       "<style scoped>\n",
       "    .dataframe tbody tr th:only-of-type {\n",
       "        vertical-align: middle;\n",
       "    }\n",
       "\n",
       "    .dataframe tbody tr th {\n",
       "        vertical-align: top;\n",
       "    }\n",
       "\n",
       "    .dataframe thead th {\n",
       "        text-align: right;\n",
       "    }\n",
       "</style>\n",
       "<table border=\"1\" class=\"dataframe\">\n",
       "  <thead>\n",
       "    <tr style=\"text-align: right;\">\n",
       "      <th></th>\n",
       "      <th>user_id</th>\n",
       "      <th>distance</th>\n",
       "      <th>duration</th>\n",
       "      <th>date</th>\n",
       "      <th>month</th>\n",
       "      <th>index</th>\n",
       "      <th>name</th>\n",
       "      <th>age</th>\n",
       "      <th>city</th>\n",
       "      <th>subscription_type</th>\n",
       "      <th>minute_price</th>\n",
       "      <th>start_ride_price</th>\n",
       "      <th>subscription_fee</th>\n",
       "    </tr>\n",
       "  </thead>\n",
       "  <tbody>\n",
       "    <tr>\n",
       "      <th>6500</th>\n",
       "      <td>700</td>\n",
       "      <td>2515.690719</td>\n",
       "      <td>14.944286</td>\n",
       "      <td>2021-01-02</td>\n",
       "      <td>1</td>\n",
       "      <td>699</td>\n",
       "      <td>Айдар</td>\n",
       "      <td>22</td>\n",
       "      <td>Омск</td>\n",
       "      <td>free</td>\n",
       "      <td>8</td>\n",
       "      <td>50</td>\n",
       "      <td>0</td>\n",
       "    </tr>\n",
       "    <tr>\n",
       "      <th>6501</th>\n",
       "      <td>700</td>\n",
       "      <td>846.932642</td>\n",
       "      <td>16.234663</td>\n",
       "      <td>2021-02-01</td>\n",
       "      <td>2</td>\n",
       "      <td>699</td>\n",
       "      <td>Айдар</td>\n",
       "      <td>22</td>\n",
       "      <td>Омск</td>\n",
       "      <td>free</td>\n",
       "      <td>8</td>\n",
       "      <td>50</td>\n",
       "      <td>0</td>\n",
       "    </tr>\n",
       "    <tr>\n",
       "      <th>6502</th>\n",
       "      <td>700</td>\n",
       "      <td>4004.434142</td>\n",
       "      <td>20.016628</td>\n",
       "      <td>2021-02-04</td>\n",
       "      <td>2</td>\n",
       "      <td>699</td>\n",
       "      <td>Айдар</td>\n",
       "      <td>22</td>\n",
       "      <td>Омск</td>\n",
       "      <td>free</td>\n",
       "      <td>8</td>\n",
       "      <td>50</td>\n",
       "      <td>0</td>\n",
       "    </tr>\n",
       "    <tr>\n",
       "      <th>6503</th>\n",
       "      <td>700</td>\n",
       "      <td>1205.911290</td>\n",
       "      <td>9.782872</td>\n",
       "      <td>2021-02-10</td>\n",
       "      <td>2</td>\n",
       "      <td>699</td>\n",
       "      <td>Айдар</td>\n",
       "      <td>22</td>\n",
       "      <td>Омск</td>\n",
       "      <td>free</td>\n",
       "      <td>8</td>\n",
       "      <td>50</td>\n",
       "      <td>0</td>\n",
       "    </tr>\n",
       "    <tr>\n",
       "      <th>6504</th>\n",
       "      <td>700</td>\n",
       "      <td>3047.379435</td>\n",
       "      <td>17.427673</td>\n",
       "      <td>2021-02-14</td>\n",
       "      <td>2</td>\n",
       "      <td>699</td>\n",
       "      <td>Айдар</td>\n",
       "      <td>22</td>\n",
       "      <td>Омск</td>\n",
       "      <td>free</td>\n",
       "      <td>8</td>\n",
       "      <td>50</td>\n",
       "      <td>0</td>\n",
       "    </tr>\n",
       "    <tr>\n",
       "      <th>...</th>\n",
       "      <td>...</td>\n",
       "      <td>...</td>\n",
       "      <td>...</td>\n",
       "      <td>...</td>\n",
       "      <td>...</td>\n",
       "      <td>...</td>\n",
       "      <td>...</td>\n",
       "      <td>...</td>\n",
       "      <td>...</td>\n",
       "      <td>...</td>\n",
       "      <td>...</td>\n",
       "      <td>...</td>\n",
       "      <td>...</td>\n",
       "    </tr>\n",
       "    <tr>\n",
       "      <th>18063</th>\n",
       "      <td>1534</td>\n",
       "      <td>3781.098080</td>\n",
       "      <td>19.822962</td>\n",
       "      <td>2021-11-04</td>\n",
       "      <td>11</td>\n",
       "      <td>1533</td>\n",
       "      <td>Альберт</td>\n",
       "      <td>25</td>\n",
       "      <td>Краснодар</td>\n",
       "      <td>free</td>\n",
       "      <td>8</td>\n",
       "      <td>50</td>\n",
       "      <td>0</td>\n",
       "    </tr>\n",
       "    <tr>\n",
       "      <th>18064</th>\n",
       "      <td>1534</td>\n",
       "      <td>2840.423057</td>\n",
       "      <td>21.409799</td>\n",
       "      <td>2021-11-16</td>\n",
       "      <td>11</td>\n",
       "      <td>1533</td>\n",
       "      <td>Альберт</td>\n",
       "      <td>25</td>\n",
       "      <td>Краснодар</td>\n",
       "      <td>free</td>\n",
       "      <td>8</td>\n",
       "      <td>50</td>\n",
       "      <td>0</td>\n",
       "    </tr>\n",
       "    <tr>\n",
       "      <th>18065</th>\n",
       "      <td>1534</td>\n",
       "      <td>3826.185507</td>\n",
       "      <td>18.435051</td>\n",
       "      <td>2021-11-18</td>\n",
       "      <td>11</td>\n",
       "      <td>1533</td>\n",
       "      <td>Альберт</td>\n",
       "      <td>25</td>\n",
       "      <td>Краснодар</td>\n",
       "      <td>free</td>\n",
       "      <td>8</td>\n",
       "      <td>50</td>\n",
       "      <td>0</td>\n",
       "    </tr>\n",
       "    <tr>\n",
       "      <th>18066</th>\n",
       "      <td>1534</td>\n",
       "      <td>2902.308661</td>\n",
       "      <td>16.674362</td>\n",
       "      <td>2021-11-27</td>\n",
       "      <td>11</td>\n",
       "      <td>1533</td>\n",
       "      <td>Альберт</td>\n",
       "      <td>25</td>\n",
       "      <td>Краснодар</td>\n",
       "      <td>free</td>\n",
       "      <td>8</td>\n",
       "      <td>50</td>\n",
       "      <td>0</td>\n",
       "    </tr>\n",
       "    <tr>\n",
       "      <th>18067</th>\n",
       "      <td>1534</td>\n",
       "      <td>2371.711192</td>\n",
       "      <td>15.893917</td>\n",
       "      <td>2021-12-29</td>\n",
       "      <td>12</td>\n",
       "      <td>1533</td>\n",
       "      <td>Альберт</td>\n",
       "      <td>25</td>\n",
       "      <td>Краснодар</td>\n",
       "      <td>free</td>\n",
       "      <td>8</td>\n",
       "      <td>50</td>\n",
       "      <td>0</td>\n",
       "    </tr>\n",
       "  </tbody>\n",
       "</table>\n",
       "<p>11568 rows × 13 columns</p>\n",
       "</div>"
      ],
      "text/plain": [
       "       user_id     distance   duration       date  month  index     name  age  \\\n",
       "6500       700  2515.690719  14.944286 2021-01-02      1    699    Айдар   22   \n",
       "6501       700   846.932642  16.234663 2021-02-01      2    699    Айдар   22   \n",
       "6502       700  4004.434142  20.016628 2021-02-04      2    699    Айдар   22   \n",
       "6503       700  1205.911290   9.782872 2021-02-10      2    699    Айдар   22   \n",
       "6504       700  3047.379435  17.427673 2021-02-14      2    699    Айдар   22   \n",
       "...        ...          ...        ...        ...    ...    ...      ...  ...   \n",
       "18063     1534  3781.098080  19.822962 2021-11-04     11   1533  Альберт   25   \n",
       "18064     1534  2840.423057  21.409799 2021-11-16     11   1533  Альберт   25   \n",
       "18065     1534  3826.185507  18.435051 2021-11-18     11   1533  Альберт   25   \n",
       "18066     1534  2902.308661  16.674362 2021-11-27     11   1533  Альберт   25   \n",
       "18067     1534  2371.711192  15.893917 2021-12-29     12   1533  Альберт   25   \n",
       "\n",
       "            city subscription_type  minute_price  start_ride_price  \\\n",
       "6500        Омск              free             8                50   \n",
       "6501        Омск              free             8                50   \n",
       "6502        Омск              free             8                50   \n",
       "6503        Омск              free             8                50   \n",
       "6504        Омск              free             8                50   \n",
       "...          ...               ...           ...               ...   \n",
       "18063  Краснодар              free             8                50   \n",
       "18064  Краснодар              free             8                50   \n",
       "18065  Краснодар              free             8                50   \n",
       "18066  Краснодар              free             8                50   \n",
       "18067  Краснодар              free             8                50   \n",
       "\n",
       "       subscription_fee  \n",
       "6500                  0  \n",
       "6501                  0  \n",
       "6502                  0  \n",
       "6503                  0  \n",
       "6504                  0  \n",
       "...                 ...  \n",
       "18063                 0  \n",
       "18064                 0  \n",
       "18065                 0  \n",
       "18066                 0  \n",
       "18067                 0  \n",
       "\n",
       "[11568 rows x 13 columns]"
      ]
     },
     "execution_count": 61,
     "metadata": {},
     "output_type": "execute_result"
    }
   ],
   "source": [
    "# создадим датафрейм c данными о пользователях без подписки\n",
    "data_free = data.query('subscription_type == \"free\"')\n",
    "data_free"
   ]
  },
  {
   "cell_type": "code",
   "execution_count": 62,
   "id": "7780dbfb",
   "metadata": {},
   "outputs": [
    {
     "data": {
      "text/html": [
       "<div>\n",
       "<style scoped>\n",
       "    .dataframe tbody tr th:only-of-type {\n",
       "        vertical-align: middle;\n",
       "    }\n",
       "\n",
       "    .dataframe tbody tr th {\n",
       "        vertical-align: top;\n",
       "    }\n",
       "\n",
       "    .dataframe thead th {\n",
       "        text-align: right;\n",
       "    }\n",
       "</style>\n",
       "<table border=\"1\" class=\"dataframe\">\n",
       "  <thead>\n",
       "    <tr style=\"text-align: right;\">\n",
       "      <th></th>\n",
       "      <th>user_id</th>\n",
       "      <th>distance</th>\n",
       "      <th>duration</th>\n",
       "      <th>date</th>\n",
       "      <th>month</th>\n",
       "      <th>index</th>\n",
       "      <th>name</th>\n",
       "      <th>age</th>\n",
       "      <th>city</th>\n",
       "      <th>subscription_type</th>\n",
       "      <th>minute_price</th>\n",
       "      <th>start_ride_price</th>\n",
       "      <th>subscription_fee</th>\n",
       "    </tr>\n",
       "  </thead>\n",
       "  <tbody>\n",
       "    <tr>\n",
       "      <th>0</th>\n",
       "      <td>1</td>\n",
       "      <td>4409.919140</td>\n",
       "      <td>25.599769</td>\n",
       "      <td>2021-01-01</td>\n",
       "      <td>1</td>\n",
       "      <td>0</td>\n",
       "      <td>Кира</td>\n",
       "      <td>22</td>\n",
       "      <td>Тюмень</td>\n",
       "      <td>ultra</td>\n",
       "      <td>6</td>\n",
       "      <td>0</td>\n",
       "      <td>199</td>\n",
       "    </tr>\n",
       "    <tr>\n",
       "      <th>1</th>\n",
       "      <td>1</td>\n",
       "      <td>2617.592153</td>\n",
       "      <td>15.816871</td>\n",
       "      <td>2021-01-18</td>\n",
       "      <td>1</td>\n",
       "      <td>0</td>\n",
       "      <td>Кира</td>\n",
       "      <td>22</td>\n",
       "      <td>Тюмень</td>\n",
       "      <td>ultra</td>\n",
       "      <td>6</td>\n",
       "      <td>0</td>\n",
       "      <td>199</td>\n",
       "    </tr>\n",
       "    <tr>\n",
       "      <th>2</th>\n",
       "      <td>1</td>\n",
       "      <td>754.159807</td>\n",
       "      <td>6.232113</td>\n",
       "      <td>2021-04-20</td>\n",
       "      <td>4</td>\n",
       "      <td>0</td>\n",
       "      <td>Кира</td>\n",
       "      <td>22</td>\n",
       "      <td>Тюмень</td>\n",
       "      <td>ultra</td>\n",
       "      <td>6</td>\n",
       "      <td>0</td>\n",
       "      <td>199</td>\n",
       "    </tr>\n",
       "    <tr>\n",
       "      <th>3</th>\n",
       "      <td>1</td>\n",
       "      <td>2694.783254</td>\n",
       "      <td>18.511000</td>\n",
       "      <td>2021-08-11</td>\n",
       "      <td>8</td>\n",
       "      <td>0</td>\n",
       "      <td>Кира</td>\n",
       "      <td>22</td>\n",
       "      <td>Тюмень</td>\n",
       "      <td>ultra</td>\n",
       "      <td>6</td>\n",
       "      <td>0</td>\n",
       "      <td>199</td>\n",
       "    </tr>\n",
       "    <tr>\n",
       "      <th>4</th>\n",
       "      <td>1</td>\n",
       "      <td>4028.687306</td>\n",
       "      <td>26.265803</td>\n",
       "      <td>2021-08-28</td>\n",
       "      <td>8</td>\n",
       "      <td>0</td>\n",
       "      <td>Кира</td>\n",
       "      <td>22</td>\n",
       "      <td>Тюмень</td>\n",
       "      <td>ultra</td>\n",
       "      <td>6</td>\n",
       "      <td>0</td>\n",
       "      <td>199</td>\n",
       "    </tr>\n",
       "    <tr>\n",
       "      <th>...</th>\n",
       "      <td>...</td>\n",
       "      <td>...</td>\n",
       "      <td>...</td>\n",
       "      <td>...</td>\n",
       "      <td>...</td>\n",
       "      <td>...</td>\n",
       "      <td>...</td>\n",
       "      <td>...</td>\n",
       "      <td>...</td>\n",
       "      <td>...</td>\n",
       "      <td>...</td>\n",
       "      <td>...</td>\n",
       "      <td>...</td>\n",
       "    </tr>\n",
       "    <tr>\n",
       "      <th>6495</th>\n",
       "      <td>699</td>\n",
       "      <td>3973.046497</td>\n",
       "      <td>24.671163</td>\n",
       "      <td>2021-08-29</td>\n",
       "      <td>8</td>\n",
       "      <td>698</td>\n",
       "      <td>Оксана</td>\n",
       "      <td>22</td>\n",
       "      <td>Москва</td>\n",
       "      <td>ultra</td>\n",
       "      <td>6</td>\n",
       "      <td>0</td>\n",
       "      <td>199</td>\n",
       "    </tr>\n",
       "    <tr>\n",
       "      <th>6496</th>\n",
       "      <td>699</td>\n",
       "      <td>3288.702563</td>\n",
       "      <td>15.892886</td>\n",
       "      <td>2021-09-12</td>\n",
       "      <td>9</td>\n",
       "      <td>698</td>\n",
       "      <td>Оксана</td>\n",
       "      <td>22</td>\n",
       "      <td>Москва</td>\n",
       "      <td>ultra</td>\n",
       "      <td>6</td>\n",
       "      <td>0</td>\n",
       "      <td>199</td>\n",
       "    </tr>\n",
       "    <tr>\n",
       "      <th>6497</th>\n",
       "      <td>699</td>\n",
       "      <td>3076.159348</td>\n",
       "      <td>14.389525</td>\n",
       "      <td>2021-09-26</td>\n",
       "      <td>9</td>\n",
       "      <td>698</td>\n",
       "      <td>Оксана</td>\n",
       "      <td>22</td>\n",
       "      <td>Москва</td>\n",
       "      <td>ultra</td>\n",
       "      <td>6</td>\n",
       "      <td>0</td>\n",
       "      <td>199</td>\n",
       "    </tr>\n",
       "    <tr>\n",
       "      <th>6498</th>\n",
       "      <td>699</td>\n",
       "      <td>4707.845501</td>\n",
       "      <td>15.839579</td>\n",
       "      <td>2021-10-17</td>\n",
       "      <td>10</td>\n",
       "      <td>698</td>\n",
       "      <td>Оксана</td>\n",
       "      <td>22</td>\n",
       "      <td>Москва</td>\n",
       "      <td>ultra</td>\n",
       "      <td>6</td>\n",
       "      <td>0</td>\n",
       "      <td>199</td>\n",
       "    </tr>\n",
       "    <tr>\n",
       "      <th>6499</th>\n",
       "      <td>699</td>\n",
       "      <td>3202.890770</td>\n",
       "      <td>25.217345</td>\n",
       "      <td>2021-12-03</td>\n",
       "      <td>12</td>\n",
       "      <td>698</td>\n",
       "      <td>Оксана</td>\n",
       "      <td>22</td>\n",
       "      <td>Москва</td>\n",
       "      <td>ultra</td>\n",
       "      <td>6</td>\n",
       "      <td>0</td>\n",
       "      <td>199</td>\n",
       "    </tr>\n",
       "  </tbody>\n",
       "</table>\n",
       "<p>6500 rows × 13 columns</p>\n",
       "</div>"
      ],
      "text/plain": [
       "      user_id     distance   duration       date  month  index    name  age  \\\n",
       "0           1  4409.919140  25.599769 2021-01-01      1      0    Кира   22   \n",
       "1           1  2617.592153  15.816871 2021-01-18      1      0    Кира   22   \n",
       "2           1   754.159807   6.232113 2021-04-20      4      0    Кира   22   \n",
       "3           1  2694.783254  18.511000 2021-08-11      8      0    Кира   22   \n",
       "4           1  4028.687306  26.265803 2021-08-28      8      0    Кира   22   \n",
       "...       ...          ...        ...        ...    ...    ...     ...  ...   \n",
       "6495      699  3973.046497  24.671163 2021-08-29      8    698  Оксана   22   \n",
       "6496      699  3288.702563  15.892886 2021-09-12      9    698  Оксана   22   \n",
       "6497      699  3076.159348  14.389525 2021-09-26      9    698  Оксана   22   \n",
       "6498      699  4707.845501  15.839579 2021-10-17     10    698  Оксана   22   \n",
       "6499      699  3202.890770  25.217345 2021-12-03     12    698  Оксана   22   \n",
       "\n",
       "        city subscription_type  minute_price  start_ride_price  \\\n",
       "0     Тюмень             ultra             6                 0   \n",
       "1     Тюмень             ultra             6                 0   \n",
       "2     Тюмень             ultra             6                 0   \n",
       "3     Тюмень             ultra             6                 0   \n",
       "4     Тюмень             ultra             6                 0   \n",
       "...      ...               ...           ...               ...   \n",
       "6495  Москва             ultra             6                 0   \n",
       "6496  Москва             ultra             6                 0   \n",
       "6497  Москва             ultra             6                 0   \n",
       "6498  Москва             ultra             6                 0   \n",
       "6499  Москва             ultra             6                 0   \n",
       "\n",
       "      subscription_fee  \n",
       "0                  199  \n",
       "1                  199  \n",
       "2                  199  \n",
       "3                  199  \n",
       "4                  199  \n",
       "...                ...  \n",
       "6495               199  \n",
       "6496               199  \n",
       "6497               199  \n",
       "6498               199  \n",
       "6499               199  \n",
       "\n",
       "[6500 rows x 13 columns]"
      ]
     },
     "execution_count": 62,
     "metadata": {},
     "output_type": "execute_result"
    }
   ],
   "source": [
    "# создадим датафрейм c данными о пользователях c подпиской\n",
    "data_ultra = data.query('subscription_type == \"ultra\"')\n",
    "data_ultra"
   ]
  },
  {
   "cell_type": "code",
   "execution_count": 63,
   "id": "af2e2fed",
   "metadata": {},
   "outputs": [
    {
     "data": {
      "image/png": "[encoded data removed]",
      "text/plain": [
       "<Figure size 432x288 with 1 Axes>"
      ]
     },
     "metadata": {
      "needs_background": "light"
     },
     "output_type": "display_data"
    }
   ],
   "source": [
    "# Визуализируем информацию о расстоянии и времени поездок для пользователей обеих категорий\n",
    "dist_free = data_free.plot(\n",
    "kind='hist', y='distance', histtype='step', bins=50, linewidth=5, alpha=0.7, label='free'\n",
    ")\n",
    "data_ultra.plot(\n",
    "kind='hist', y='distance', histtype='step', bins=50, linewidth=5, alpha=0.7, label='ultra', ax=dist_free, grid=True, legend=True, title='Расстояние, преодолеваемое пользователями с подпиской и без подписки'\n",
    ");"
   ]
  },
  {
   "cell_type": "code",
   "execution_count": 64,
   "id": "5564d709",
   "metadata": {
    "scrolled": true
   },
   "outputs": [
    {
     "data": {
      "image/png": "[encoded data removed]",
      "text/plain": [
       "<Figure size 432x288 with 1 Axes>"
      ]
     },
     "metadata": {
      "needs_background": "light"
     },
     "output_type": "display_data"
    }
   ],
   "source": [
    "dur_free = data_free.plot(\n",
    "kind='hist', y='duration', histtype='step', bins=50, linewidth=5, alpha=0.7, label='free'\n",
    ")\n",
    "data_ultra.plot(\n",
    "kind='hist', y='duration', histtype='step', bins=50, linewidth=5, alpha=0.7, label='ultra', ax=dur_free, grid=True, legend=True, title='Время поездки пользователей с подпиской и без подписки'\n",
    ");"
   ]
  },
  {
   "cell_type": "markdown",
   "id": "c15200cc",
   "metadata": {},
   "source": [
    "Таким образом, у пользователей с подпиской и без выявлены одинаковые тенденции - графики похожи, при этом дисперсия (разброс вокруг среднего) расстояния у пользователей с подпиской меньше. На графике расстояния виден спад в частоте  - у пользователей с подпиской около 1500, у пользователей без подписки - около 2000. У пользователей с подпиской два пика на гистограмме расстояния - на значениях примерно 2500 и 3500. Среднее расстояние у обоих категорий около 3000 м. Среднее время поездки, согласно графикам, для двух категорий примерно 15-20 минут. Разброс вокруг среднего времени поездки примерно одинаковый."
   ]
  },
  {
   "cell_type": "markdown",
   "id": "402d620f",
   "metadata": {},
   "source": [
    "# Шаг 5. Подсчёт выручки"
   ]
  },
  {
   "cell_type": "code",
   "execution_count": 65,
   "id": "e7a5e112",
   "metadata": {},
   "outputs": [
    {
     "data": {
      "text/html": [
       "<div>\n",
       "<style scoped>\n",
       "    .dataframe tbody tr th:only-of-type {\n",
       "        vertical-align: middle;\n",
       "    }\n",
       "\n",
       "    .dataframe tbody tr th {\n",
       "        vertical-align: top;\n",
       "    }\n",
       "\n",
       "    .dataframe thead th {\n",
       "        text-align: right;\n",
       "    }\n",
       "</style>\n",
       "<table border=\"1\" class=\"dataframe\">\n",
       "  <thead>\n",
       "    <tr style=\"text-align: right;\">\n",
       "      <th></th>\n",
       "      <th></th>\n",
       "      <th>rides</th>\n",
       "      <th>distance</th>\n",
       "      <th>duration</th>\n",
       "      <th>minute_price</th>\n",
       "      <th>start_ride_price</th>\n",
       "      <th>subscription_fee</th>\n",
       "      <th>subscription_type</th>\n",
       "    </tr>\n",
       "    <tr>\n",
       "      <th>month</th>\n",
       "      <th>user_id</th>\n",
       "      <th></th>\n",
       "      <th></th>\n",
       "      <th></th>\n",
       "      <th></th>\n",
       "      <th></th>\n",
       "      <th></th>\n",
       "      <th></th>\n",
       "    </tr>\n",
       "  </thead>\n",
       "  <tbody>\n",
       "    <tr>\n",
       "      <th rowspan=\"5\" valign=\"top\">1</th>\n",
       "      <th>1</th>\n",
       "      <td>2</td>\n",
       "      <td>7027.511294</td>\n",
       "      <td>42.0</td>\n",
       "      <td>6</td>\n",
       "      <td>0</td>\n",
       "      <td>199</td>\n",
       "      <td>ultra</td>\n",
       "    </tr>\n",
       "    <tr>\n",
       "      <th>3</th>\n",
       "      <td>1</td>\n",
       "      <td>3061.777147</td>\n",
       "      <td>13.0</td>\n",
       "      <td>6</td>\n",
       "      <td>0</td>\n",
       "      <td>199</td>\n",
       "      <td>ultra</td>\n",
       "    </tr>\n",
       "    <tr>\n",
       "      <th>5</th>\n",
       "      <td>1</td>\n",
       "      <td>3914.646990</td>\n",
       "      <td>13.0</td>\n",
       "      <td>6</td>\n",
       "      <td>0</td>\n",
       "      <td>199</td>\n",
       "      <td>ultra</td>\n",
       "    </tr>\n",
       "    <tr>\n",
       "      <th>7</th>\n",
       "      <td>2</td>\n",
       "      <td>6478.080979</td>\n",
       "      <td>28.0</td>\n",
       "      <td>6</td>\n",
       "      <td>0</td>\n",
       "      <td>199</td>\n",
       "      <td>ultra</td>\n",
       "    </tr>\n",
       "    <tr>\n",
       "      <th>12</th>\n",
       "      <td>1</td>\n",
       "      <td>3577.151148</td>\n",
       "      <td>33.0</td>\n",
       "      <td>6</td>\n",
       "      <td>0</td>\n",
       "      <td>199</td>\n",
       "      <td>ultra</td>\n",
       "    </tr>\n",
       "    <tr>\n",
       "      <th>...</th>\n",
       "      <th>...</th>\n",
       "      <td>...</td>\n",
       "      <td>...</td>\n",
       "      <td>...</td>\n",
       "      <td>...</td>\n",
       "      <td>...</td>\n",
       "      <td>...</td>\n",
       "      <td>...</td>\n",
       "    </tr>\n",
       "    <tr>\n",
       "      <th rowspan=\"5\" valign=\"top\">12</th>\n",
       "      <th>1525</th>\n",
       "      <td>1</td>\n",
       "      <td>4597.854350</td>\n",
       "      <td>34.0</td>\n",
       "      <td>8</td>\n",
       "      <td>50</td>\n",
       "      <td>0</td>\n",
       "      <td>free</td>\n",
       "    </tr>\n",
       "    <tr>\n",
       "      <th>1526</th>\n",
       "      <td>1</td>\n",
       "      <td>3644.121544</td>\n",
       "      <td>23.0</td>\n",
       "      <td>8</td>\n",
       "      <td>50</td>\n",
       "      <td>0</td>\n",
       "      <td>free</td>\n",
       "    </tr>\n",
       "    <tr>\n",
       "      <th>1528</th>\n",
       "      <td>1</td>\n",
       "      <td>3998.569324</td>\n",
       "      <td>11.0</td>\n",
       "      <td>8</td>\n",
       "      <td>50</td>\n",
       "      <td>0</td>\n",
       "      <td>free</td>\n",
       "    </tr>\n",
       "    <tr>\n",
       "      <th>1532</th>\n",
       "      <td>2</td>\n",
       "      <td>6111.889853</td>\n",
       "      <td>41.0</td>\n",
       "      <td>8</td>\n",
       "      <td>50</td>\n",
       "      <td>0</td>\n",
       "      <td>free</td>\n",
       "    </tr>\n",
       "    <tr>\n",
       "      <th>1534</th>\n",
       "      <td>1</td>\n",
       "      <td>2371.711192</td>\n",
       "      <td>16.0</td>\n",
       "      <td>8</td>\n",
       "      <td>50</td>\n",
       "      <td>0</td>\n",
       "      <td>free</td>\n",
       "    </tr>\n",
       "  </tbody>\n",
       "</table>\n",
       "<p>11331 rows × 7 columns</p>\n",
       "</div>"
      ],
      "text/plain": [
       "               rides     distance  duration  minute_price  start_ride_price  \\\n",
       "month user_id                                                                 \n",
       "1     1            2  7027.511294      42.0             6                 0   \n",
       "      3            1  3061.777147      13.0             6                 0   \n",
       "      5            1  3914.646990      13.0             6                 0   \n",
       "      7            2  6478.080979      28.0             6                 0   \n",
       "      12           1  3577.151148      33.0             6                 0   \n",
       "...              ...          ...       ...           ...               ...   \n",
       "12    1525         1  4597.854350      34.0             8                50   \n",
       "      1526         1  3644.121544      23.0             8                50   \n",
       "      1528         1  3998.569324      11.0             8                50   \n",
       "      1532         2  6111.889853      41.0             8                50   \n",
       "      1534         1  2371.711192      16.0             8                50   \n",
       "\n",
       "               subscription_fee subscription_type  \n",
       "month user_id                                      \n",
       "1     1                     199             ultra  \n",
       "      3                     199             ultra  \n",
       "      5                     199             ultra  \n",
       "      7                     199             ultra  \n",
       "      12                    199             ultra  \n",
       "...                         ...               ...  \n",
       "12    1525                    0              free  \n",
       "      1526                    0              free  \n",
       "      1528                    0              free  \n",
       "      1532                    0              free  \n",
       "      1534                    0              free  \n",
       "\n",
       "[11331 rows x 7 columns]"
      ]
     },
     "execution_count": 65,
     "metadata": {},
     "output_type": "execute_result"
    }
   ],
   "source": [
    "# Создадим датафрейм с агрегированными данными о поездках на основе датафрейма с объединёнными данными\n",
    "data_agg = pd.pivot_table(data, index=['month', 'user_id'], values = ['distance', 'date', 'duration', 'name', 'start_ride_price', 'minute_price', 'subscription_fee', 'subscription_type'],\n",
    "                          aggfunc = {'distance': 'sum', 'date': 'count', 'duration': 'sum', 'start_ride_price': 'mean', 'minute_price': 'mean', 'subscription_fee': 'mean', 'subscription_type': 'min'}\n",
    ")\n",
    "data_agg.rename(columns = {'date' : 'rides'}, inplace = True)\n",
    "data_agg['duration'] = np.ceil(data_agg['duration'])\n",
    "data_agg"
   ]
  },
  {
   "cell_type": "code",
   "execution_count": 66,
   "id": "495f47ff",
   "metadata": {},
   "outputs": [
    {
     "data": {
      "text/html": [
       "<div>\n",
       "<style scoped>\n",
       "    .dataframe tbody tr th:only-of-type {\n",
       "        vertical-align: middle;\n",
       "    }\n",
       "\n",
       "    .dataframe tbody tr th {\n",
       "        vertical-align: top;\n",
       "    }\n",
       "\n",
       "    .dataframe thead th {\n",
       "        text-align: right;\n",
       "    }\n",
       "</style>\n",
       "<table border=\"1\" class=\"dataframe\">\n",
       "  <thead>\n",
       "    <tr style=\"text-align: right;\">\n",
       "      <th></th>\n",
       "      <th></th>\n",
       "      <th>rides</th>\n",
       "      <th>distance</th>\n",
       "      <th>duration</th>\n",
       "      <th>minute_price</th>\n",
       "      <th>start_ride_price</th>\n",
       "      <th>subscription_fee</th>\n",
       "      <th>subscription_type</th>\n",
       "      <th>profit</th>\n",
       "    </tr>\n",
       "    <tr>\n",
       "      <th>month</th>\n",
       "      <th>user_id</th>\n",
       "      <th></th>\n",
       "      <th></th>\n",
       "      <th></th>\n",
       "      <th></th>\n",
       "      <th></th>\n",
       "      <th></th>\n",
       "      <th></th>\n",
       "      <th></th>\n",
       "    </tr>\n",
       "  </thead>\n",
       "  <tbody>\n",
       "    <tr>\n",
       "      <th rowspan=\"5\" valign=\"top\">1</th>\n",
       "      <th>1</th>\n",
       "      <td>2</td>\n",
       "      <td>7027.511294</td>\n",
       "      <td>42.0</td>\n",
       "      <td>6</td>\n",
       "      <td>0</td>\n",
       "      <td>199</td>\n",
       "      <td>ultra</td>\n",
       "      <td>451.0</td>\n",
       "    </tr>\n",
       "    <tr>\n",
       "      <th>3</th>\n",
       "      <td>1</td>\n",
       "      <td>3061.777147</td>\n",
       "      <td>13.0</td>\n",
       "      <td>6</td>\n",
       "      <td>0</td>\n",
       "      <td>199</td>\n",
       "      <td>ultra</td>\n",
       "      <td>277.0</td>\n",
       "    </tr>\n",
       "    <tr>\n",
       "      <th>5</th>\n",
       "      <td>1</td>\n",
       "      <td>3914.646990</td>\n",
       "      <td>13.0</td>\n",
       "      <td>6</td>\n",
       "      <td>0</td>\n",
       "      <td>199</td>\n",
       "      <td>ultra</td>\n",
       "      <td>277.0</td>\n",
       "    </tr>\n",
       "    <tr>\n",
       "      <th>7</th>\n",
       "      <td>2</td>\n",
       "      <td>6478.080979</td>\n",
       "      <td>28.0</td>\n",
       "      <td>6</td>\n",
       "      <td>0</td>\n",
       "      <td>199</td>\n",
       "      <td>ultra</td>\n",
       "      <td>367.0</td>\n",
       "    </tr>\n",
       "    <tr>\n",
       "      <th>12</th>\n",
       "      <td>1</td>\n",
       "      <td>3577.151148</td>\n",
       "      <td>33.0</td>\n",
       "      <td>6</td>\n",
       "      <td>0</td>\n",
       "      <td>199</td>\n",
       "      <td>ultra</td>\n",
       "      <td>397.0</td>\n",
       "    </tr>\n",
       "    <tr>\n",
       "      <th>...</th>\n",
       "      <th>...</th>\n",
       "      <td>...</td>\n",
       "      <td>...</td>\n",
       "      <td>...</td>\n",
       "      <td>...</td>\n",
       "      <td>...</td>\n",
       "      <td>...</td>\n",
       "      <td>...</td>\n",
       "      <td>...</td>\n",
       "    </tr>\n",
       "    <tr>\n",
       "      <th rowspan=\"5\" valign=\"top\">12</th>\n",
       "      <th>1525</th>\n",
       "      <td>1</td>\n",
       "      <td>4597.854350</td>\n",
       "      <td>34.0</td>\n",
       "      <td>8</td>\n",
       "      <td>50</td>\n",
       "      <td>0</td>\n",
       "      <td>free</td>\n",
       "      <td>322.0</td>\n",
       "    </tr>\n",
       "    <tr>\n",
       "      <th>1526</th>\n",
       "      <td>1</td>\n",
       "      <td>3644.121544</td>\n",
       "      <td>23.0</td>\n",
       "      <td>8</td>\n",
       "      <td>50</td>\n",
       "      <td>0</td>\n",
       "      <td>free</td>\n",
       "      <td>234.0</td>\n",
       "    </tr>\n",
       "    <tr>\n",
       "      <th>1528</th>\n",
       "      <td>1</td>\n",
       "      <td>3998.569324</td>\n",
       "      <td>11.0</td>\n",
       "      <td>8</td>\n",
       "      <td>50</td>\n",
       "      <td>0</td>\n",
       "      <td>free</td>\n",
       "      <td>138.0</td>\n",
       "    </tr>\n",
       "    <tr>\n",
       "      <th>1532</th>\n",
       "      <td>2</td>\n",
       "      <td>6111.889853</td>\n",
       "      <td>41.0</td>\n",
       "      <td>8</td>\n",
       "      <td>50</td>\n",
       "      <td>0</td>\n",
       "      <td>free</td>\n",
       "      <td>428.0</td>\n",
       "    </tr>\n",
       "    <tr>\n",
       "      <th>1534</th>\n",
       "      <td>1</td>\n",
       "      <td>2371.711192</td>\n",
       "      <td>16.0</td>\n",
       "      <td>8</td>\n",
       "      <td>50</td>\n",
       "      <td>0</td>\n",
       "      <td>free</td>\n",
       "      <td>178.0</td>\n",
       "    </tr>\n",
       "  </tbody>\n",
       "</table>\n",
       "<p>11331 rows × 8 columns</p>\n",
       "</div>"
      ],
      "text/plain": [
       "               rides     distance  duration  minute_price  start_ride_price  \\\n",
       "month user_id                                                                 \n",
       "1     1            2  7027.511294      42.0             6                 0   \n",
       "      3            1  3061.777147      13.0             6                 0   \n",
       "      5            1  3914.646990      13.0             6                 0   \n",
       "      7            2  6478.080979      28.0             6                 0   \n",
       "      12           1  3577.151148      33.0             6                 0   \n",
       "...              ...          ...       ...           ...               ...   \n",
       "12    1525         1  4597.854350      34.0             8                50   \n",
       "      1526         1  3644.121544      23.0             8                50   \n",
       "      1528         1  3998.569324      11.0             8                50   \n",
       "      1532         2  6111.889853      41.0             8                50   \n",
       "      1534         1  2371.711192      16.0             8                50   \n",
       "\n",
       "               subscription_fee subscription_type  profit  \n",
       "month user_id                                              \n",
       "1     1                     199             ultra   451.0  \n",
       "      3                     199             ultra   277.0  \n",
       "      5                     199             ultra   277.0  \n",
       "      7                     199             ultra   367.0  \n",
       "      12                    199             ultra   397.0  \n",
       "...                         ...               ...     ...  \n",
       "12    1525                    0              free   322.0  \n",
       "      1526                    0              free   234.0  \n",
       "      1528                    0              free   138.0  \n",
       "      1532                    0              free   428.0  \n",
       "      1534                    0              free   178.0  \n",
       "\n",
       "[11331 rows x 8 columns]"
      ]
     },
     "execution_count": 66,
     "metadata": {},
     "output_type": "execute_result"
    }
   ],
   "source": [
    "# добавим столбец с помесячной выручкой\n",
    "data_agg['profit'] = data_agg['start_ride_price']*data_agg['rides']+data_agg['minute_price']*data_agg['duration']+data_agg['subscription_fee']\n",
    "\n",
    "data_agg"
   ]
  },
  {
   "cell_type": "markdown",
   "id": "41545ac0",
   "metadata": {},
   "source": [
    "# Шаг 6. Проверка гипотез"
   ]
  },
  {
   "cell_type": "code",
   "execution_count": 67,
   "id": "23ea867b",
   "metadata": {},
   "outputs": [
    {
     "name": "stdout",
     "output_type": "stream",
     "text": [
      "p-значение: 1.5076387977030259e-24\n",
      "Отвергаем нулевую гипотезу: пользователи с подпиской тратят больше времени на поездки\n"
     ]
    }
   ],
   "source": [
    "# Гипотеза 1: пользователи с подпиской тратят больше времени на поездки\n",
    "# H0: средние равны\n",
    "# H1: среднее пользователей с подпиской больше \n",
    "\n",
    "alpha = 0.05 # уровень статистической значимости\n",
    "# если p-value окажется меньше него, отвергнем гипотезу\n",
    "\n",
    "results = st.ttest_ind(data_ultra['duration'], data_free['duration'], alternative='greater', equal_var=False)\n",
    "\n",
    "print('p-значение:', results.pvalue)\n",
    "\n",
    "if results.pvalue < alpha:\n",
    "    print('Отвергаем нулевую гипотезу: пользователи с подпиской тратят больше времени на поездки')\n",
    "else:\n",
    "    print('Не получилось отвергнуть нулевую гипотезу: пользователи с подпиской и без неё тратят одинаковое время на поездки') "
   ]
  },
  {
   "cell_type": "code",
   "execution_count": 68,
   "id": "424011e2",
   "metadata": {},
   "outputs": [
    {
     "name": "stdout",
     "output_type": "stream",
     "text": [
      "p-значение: 0.9195368847849785\n",
      "Не получилось отвергнуть нулевую гипотезу: подписчики в среднем проезжают расстояние больше оптимального\n"
     ]
    }
   ],
   "source": [
    "# Гипотеза 2: среднее расстояние, которое проезжают пользователи с подпиской за одну поездку, не превышает 3130 метров\n",
    "# H0: среднее равно 3130 м\n",
    "# H1: среднее больше 3130 м\n",
    "\n",
    "interested_value = 3130 \n",
    "\n",
    "alpha = 0.05 # уровень статистической значимости\n",
    "\n",
    "results2 = st.ttest_1samp(data_ultra['distance'], interested_value, alternative='greater') \n",
    "\n",
    "print('p-значение:', results2.pvalue) \n",
    "\n",
    "if results2.pvalue<alpha:\n",
    "    print('Отвергаем нулевую гипотезу: среднее расстояние значимо меньше 3130 метров')\n",
    "else:\n",
    "    print('Не получилось отвергнуть нулевую гипотезу: подписчики в среднем проезжают расстояние больше оптимального')"
   ]
  },
  {
   "cell_type": "markdown",
   "id": "ca69e40b",
   "metadata": {},
   "source": [
    "Таким образом, среднее расстояние, которое проезжают пользователи с подпиской за одну поездку, значимо больше 3130 метров. Опровергаем гипотезу 2."
   ]
  },
  {
   "cell_type": "code",
   "execution_count": 69,
   "id": "715702f3",
   "metadata": {},
   "outputs": [],
   "source": [
    "# Гипотеза 3: помесячная выручка от пользователей с подпиской по месяцам выше, чем выручка от пользователей без подписки"
   ]
  },
  {
   "cell_type": "code",
   "execution_count": 70,
   "id": "6f7565b1",
   "metadata": {},
   "outputs": [
    {
     "name": "stdout",
     "output_type": "stream",
     "text": [
      "p-значение: 3.886100938377994e-37\n",
      "Отвергаем нулевую гипотезу: помесячная выручка от пользователей с подпиской по месяцам выше\n"
     ]
    }
   ],
   "source": [
    "# H0: средние помесячные выручки равны\n",
    "# H1: средняя помесячная выручка пользователей с подпиской больше \n",
    "\n",
    "alpha = 0.05 # уровень статистической значимости\n",
    "# если p-value окажется меньше него, отвергнем гипотезу\n",
    "\n",
    "results = st.ttest_ind(data_agg.loc[data_agg.subscription_type == 'ultra', 'profit'], data_agg.loc[data_agg.subscription_type == 'free', 'profit'], alternative='greater', equal_var=False)\n",
    "\n",
    "print('p-значение:', results.pvalue)\n",
    "\n",
    "if results.pvalue < alpha:\n",
    "    print('Отвергаем нулевую гипотезу: помесячная выручка от пользователей с подпиской по месяцам выше')\n",
    "else:\n",
    "    print('Не получилось отвергнуть нулевую гипотезу: помесячная выручка для категорий равна')"
   ]
  },
  {
   "cell_type": "markdown",
   "id": "57bacdab",
   "metadata": {},
   "source": [
    "Представьте такую ситуацию: техническая команда сервиса обновила сервера, с которыми взаимодействует мобильное приложение. Она надеется, что из-за этого количество обращений в техподдержку значимо снизилось. Некоторый файл содержит для каждого пользователя данные о количестве обращений до обновления и после него. Какой тест вам понадобился бы для проверки этой гипотезы?"
   ]
  },
  {
   "cell_type": "markdown",
   "id": "f81e3173",
   "metadata": {},
   "source": [
    "Ответ: для данной ситуации подойдёт двухвыборочный t-тест для зависимых выборок, метод st.ttest_rel(). Проверяем одностороннюю гипотезу.\n",
    "\n",
    "Н0: средние значения выборок до и после обновления сервиса равны\n",
    "\n",
    "Н1: среднее значение выборки после обновления сервиса меньше среднего до обновления"
   ]
  },
  {
   "cell_type": "markdown",
   "id": "61213c5e",
   "metadata": {},
   "source": [
    "# Шаг 7. Распределения"
   ]
  },
  {
   "cell_type": "markdown",
   "id": "b63015f3",
   "metadata": {},
   "source": [
    "Отделу маркетинга GoFast поставили задачу: нужно провести акцию с раздачей промокодов на один бесплатный месяц подписки, в рамках которой как минимум  100 существующих клиентов должны продлить эту подписку. То есть по завершении периода действия подписки пользователь может либо отказаться от неё, либо продлить, совершив соответствующий платёж.  \n",
    "Эта акция уже проводилась ранее и по итогу выяснилось, что после бесплатного пробного периода подписку продлевают  10 % пользователей. Выясните, какое минимальное количество промокодов нужно разослать, чтобы вероятность не выполнить план была примерно  5 % Подберите параметры распределения, описывающего эту ситуацию, постройте график распределения и сформулируйте ответ на вопрос о количестве промокодов."
   ]
  },
  {
   "cell_type": "code",
   "execution_count": 71,
   "id": "51812395",
   "metadata": {
    "scrolled": true
   },
   "outputs": [
    {
     "name": "stdout",
     "output_type": "stream",
     "text": [
      "Минимальное количество промокодов, чтобы вероятность не выполнить план была 5%: 1161\n"
     ]
    },
    {
     "data": {
      "image/png": "[encoded data removed]",
      "text/plain": [
       "<Figure size 432x288 with 1 Axes>"
      ]
     },
     "metadata": {
      "needs_background": "light"
     },
     "output_type": "display_data"
    }
   ],
   "source": [
    "import numpy as np\n",
    "import matplotlib.pyplot as plt\n",
    "from scipy.stats import binom\n",
    "\n",
    "\n",
    "p = 0.1  # Вероятность продления подписки\n",
    "k = 100  # Минимальное количество пользователей, которые должны продлить подписку\n",
    "alpha = 0.05  # Уровень значимости\n",
    "\n",
    "# Функция для поиска минимального N\n",
    "\n",
    "N = k  # Начинаем с того, что N равно 100\n",
    "while True:        \n",
    "    prob = binom.cdf(k - 1, N, p)\n",
    "    if prob <= alpha:\n",
    "        break\n",
    "    N += 1\n",
    "\n",
    "print(f\"Минимальное количество промокодов, чтобы вероятность не выполнить план была 5%: {N}\")\n",
    "\n",
    "# Построим график распределения для найденного N_min\n",
    "x = np.arange(0, N + 1)\n",
    "pmf = binom.pmf(x, N, p)\n",
    "\n",
    "plt.bar(x, pmf)\n",
    "plt.xlim(0, 300)\n",
    "plt.axvline(k, color='red', linestyle='--', label=f'Цель: {k} подписок')\n",
    "plt.title(f'Биномиальное распределение (N = {N}, p = {p})')\n",
    "plt.xlabel('Кол-во подписок')\n",
    "plt.ylabel('Вероятность')\n",
    "plt.legend()\n",
    "plt.show()"
   ]
  },
  {
   "cell_type": "markdown",
   "id": "bff673d2-c3c9-49b3-9f85-871b1a214374",
   "metadata": {},
   "source": [
    "7.2 Отдел маркетинга рассылает клиентам push-уведомления в мобильном приложении. Клиенты могут открыть его или не открывать. Известно, что уведомления открывают около 40% получивших клиентов. Отдел планирует разослать 1 млн уведомлений. С помощью аппроксимации постройте примерный график распределения и оцените вероятность того, что уведомление откроют не более 399,5 тыс. пользователей."
   ]
  },
  {
   "cell_type": "code",
   "execution_count": 72,
   "id": "7e13a52e",
   "metadata": {},
   "outputs": [
    {
     "name": "stdout",
     "output_type": "stream",
     "text": [
      "Вероятность того, что уведомление откроют не более 399500 пользователей: 0.15\n"
     ]
    },
    {
     "data": {
      "image/png": "[encoded data removed]",
      "text/plain": [
       "<Figure size 432x288 with 1 Axes>"
      ]
     },
     "metadata": {
      "needs_background": "light"
     },
     "output_type": "display_data"
    }
   ],
   "source": [
    "# 7.2\n",
    "from scipy.stats import norm\n",
    "from math import sqrt\n",
    "\n",
    "N = 1000000  # количество уведомлений\n",
    "p = 0.4  # вероятность открытия уведомления\n",
    "k = 399500  # количество пользователей, которые откроют уведомление\n",
    "\n",
    "mu = N * p  # математическое ожидание\n",
    "sigma = sqrt(N * p * (1 - p))  # стандартное отклонение\n",
    "\n",
    "# Оценка вероятности с помощью нормальной аппроксимации\n",
    "distr = st.norm(mu, sigma)\n",
    "prob = distr.cdf(k)\n",
    "\n",
    "print(f\"Вероятность того, что уведомление откроют не более {k} пользователей: {round(prob, 2)}\")\n",
    "\n",
    "# Построение графика нормального распределения\n",
    "x = np.linspace(mu - 4*sigma, mu + 4*sigma, 1000)\n",
    "pdf = norm.pdf(x, mu, sigma)\n",
    "\n",
    "plt.plot(x, pdf)\n",
    "plt.axvline(k, color='red', linestyle='--', label=f'{k} пользователей')\n",
    "plt.xlabel('Количество пользователей, открывших уведомление')\n",
    "plt.ylabel('Плотность вероятности')\n",
    "plt.legend()\n",
    "plt.show()"
   ]
  },
  {
   "cell_type": "markdown",
   "id": "9db4316e",
   "metadata": {},
   "source": [
    "**Общий вывод**\n",
    "- Пропусков в данных не выявлено, полные дубликаты удалены, аномалии в столбце продолжительности поездок обработаны.\n",
    "- Частота всех городов практически равна (примерно 13%), при этом наиболее часто встречающийся город - Пятигорск, наименее часто - Москва.\n",
    "- Пользователей с подпиской 46%, без подписки 54%.\n",
    "- В данных представлены пользователи возраста от 12 до 43 лет. Среднее и медиана практически совпадают, что свидетельствует об отсутствии выбросов. Наиболее часто встречающееся пользователи 25 лет.\n",
    "- Среднее время в пути 17-18 минут.\n",
    "- Среднее расстояние 3 км.\n",
    "- У пользователей с подпиской и без выявлены одинаковые тенденции - графики похожи, при этом дисперсия (разброс вокруг среднего) расстояния у пользователей с подпиской меньше, а эксцесс времени поездки (мера вершиности графика) - меньше.\n",
    "- Гипотеза 1: пользователи с подпиской тратят больше времени на поездки - не отвергаем\n",
    "- Гипотеза 2: среднее расстояние, которое проезжают пользователи с подпиской за одну поездку, не превышает 3130 метров - опровергаем.\n",
    "- Гипотеза 3: помесячная выручка от пользователей с подпиской по месяцам выше, чем выручка от пользователей без подписки - не отвергаем."
   ]
  },
  {
   "cell_type": "markdown",
   "id": "8e0d0723",
   "metadata": {},
   "source": [
    "**Рекомендации:** отделу маркетинга следует продвигать подписку ultra - помесячная выручка пользователей данной категории выше, при этом их процентное соотношение меньше, чем пользователей без подписки."
   ]
  }
 ],
 "metadata": {
  "ExecuteTimeLog": [
   {
    "duration": 1356,
    "start_time": "2024-10-13T12:16:41.205Z"
   },
   {
    "duration": 3,
    "start_time": "2024-10-13T12:16:57.858Z"
   },
   {
    "duration": 122,
    "start_time": "2024-10-13T12:19:24.576Z"
   },
   {
    "duration": 112,
    "start_time": "2024-10-13T12:19:25.765Z"
   },
   {
    "duration": 12,
    "start_time": "2024-10-13T12:19:31.643Z"
   },
   {
    "duration": 34,
    "start_time": "2024-10-13T12:19:39.340Z"
   },
   {
    "duration": 35,
    "start_time": "2024-10-13T12:19:45.021Z"
   },
   {
    "duration": 12,
    "start_time": "2024-10-13T12:19:46.229Z"
   },
   {
    "duration": 10,
    "start_time": "2024-10-13T12:20:07.749Z"
   },
   {
    "duration": 12,
    "start_time": "2024-10-13T12:20:41.768Z"
   },
   {
    "duration": 9,
    "start_time": "2024-10-13T12:21:35.451Z"
   },
   {
    "duration": 40,
    "start_time": "2024-10-13T12:21:39.789Z"
   },
   {
    "duration": 9,
    "start_time": "2024-10-13T12:23:09.138Z"
   },
   {
    "duration": 292,
    "start_time": "2024-10-13T12:23:13.565Z"
   },
   {
    "duration": 182,
    "start_time": "2024-10-13T12:23:21.488Z"
   },
   {
    "duration": 149,
    "start_time": "2024-10-13T12:23:27.559Z"
   },
   {
    "duration": 13,
    "start_time": "2024-10-13T12:30:02.845Z"
   },
   {
    "duration": 206,
    "start_time": "2024-10-13T12:30:05.904Z"
   },
   {
    "duration": 9,
    "start_time": "2024-10-13T12:30:07.171Z"
   },
   {
    "duration": 11,
    "start_time": "2024-10-13T12:30:35.144Z"
   },
   {
    "duration": 25,
    "start_time": "2024-10-13T12:32:48.064Z"
   },
   {
    "duration": 5,
    "start_time": "2024-10-13T12:34:19.445Z"
   },
   {
    "duration": 8,
    "start_time": "2024-10-13T12:34:48.173Z"
   },
   {
    "duration": 12,
    "start_time": "2024-10-13T12:34:58.933Z"
   },
   {
    "duration": 10,
    "start_time": "2024-10-13T12:37:10.634Z"
   },
   {
    "duration": 10,
    "start_time": "2024-10-13T12:37:49.783Z"
   },
   {
    "duration": 12,
    "start_time": "2024-10-13T12:38:17.203Z"
   },
   {
    "duration": 12,
    "start_time": "2024-10-13T12:38:47.051Z"
   },
   {
    "duration": 13,
    "start_time": "2024-10-13T12:39:58.360Z"
   },
   {
    "duration": 15,
    "start_time": "2024-10-13T12:40:31.691Z"
   },
   {
    "duration": 15,
    "start_time": "2024-10-13T12:40:52.243Z"
   },
   {
    "duration": 8,
    "start_time": "2024-10-13T12:40:58.803Z"
   },
   {
    "duration": 5,
    "start_time": "2024-10-13T12:41:53.105Z"
   },
   {
    "duration": 5,
    "start_time": "2024-10-13T12:42:03.283Z"
   },
   {
    "duration": 11,
    "start_time": "2024-10-13T12:42:03.884Z"
   },
   {
    "duration": 16,
    "start_time": "2024-10-13T12:42:33.051Z"
   },
   {
    "duration": 22,
    "start_time": "2024-10-13T12:43:49.871Z"
   },
   {
    "duration": 20,
    "start_time": "2024-10-13T12:43:55.285Z"
   },
   {
    "duration": 17,
    "start_time": "2024-10-13T12:47:02.884Z"
   },
   {
    "duration": 197,
    "start_time": "2024-10-13T12:47:10.465Z"
   },
   {
    "duration": 209,
    "start_time": "2024-10-13T12:47:15.372Z"
   },
   {
    "duration": 223,
    "start_time": "2024-10-13T12:47:21.224Z"
   },
   {
    "duration": 51,
    "start_time": "2024-10-13T12:51:45.927Z"
   },
   {
    "duration": 101,
    "start_time": "2024-10-13T12:53:41.608Z"
   },
   {
    "duration": 8,
    "start_time": "2024-10-13T12:54:10.429Z"
   },
   {
    "duration": 8,
    "start_time": "2024-10-13T12:54:47.669Z"
   },
   {
    "duration": 6,
    "start_time": "2024-10-13T12:55:14.530Z"
   },
   {
    "duration": 11,
    "start_time": "2024-10-13T12:55:34.805Z"
   },
   {
    "duration": 17,
    "start_time": "2024-10-13T12:56:22.410Z"
   },
   {
    "duration": 3,
    "start_time": "2024-10-13T13:00:02.969Z"
   },
   {
    "duration": 3,
    "start_time": "2024-10-13T13:00:33.447Z"
   },
   {
    "duration": 12,
    "start_time": "2024-10-13T13:01:30.168Z"
   },
   {
    "duration": 7,
    "start_time": "2024-10-13T13:03:40.310Z"
   },
   {
    "duration": 8,
    "start_time": "2024-10-13T13:04:05.090Z"
   },
   {
    "duration": 10,
    "start_time": "2024-10-13T13:04:54.851Z"
   },
   {
    "duration": 9,
    "start_time": "2024-10-13T13:06:21.759Z"
   },
   {
    "duration": 9,
    "start_time": "2024-10-13T13:06:24.268Z"
   },
   {
    "duration": 8,
    "start_time": "2024-10-13T13:07:05.149Z"
   },
   {
    "duration": 5,
    "start_time": "2024-10-13T13:07:54.186Z"
   },
   {
    "duration": 9,
    "start_time": "2024-10-13T13:08:13.588Z"
   },
   {
    "duration": 5,
    "start_time": "2024-10-13T13:08:38.611Z"
   },
   {
    "duration": 9,
    "start_time": "2024-10-13T13:08:40.909Z"
   },
   {
    "duration": 12,
    "start_time": "2024-10-13T13:10:56.161Z"
   },
   {
    "duration": 81,
    "start_time": "2024-10-13T13:11:05.211Z"
   },
   {
    "duration": 9,
    "start_time": "2024-10-13T13:13:12.629Z"
   },
   {
    "duration": 8,
    "start_time": "2024-10-13T13:13:34.969Z"
   },
   {
    "duration": 5,
    "start_time": "2024-10-13T13:14:15.417Z"
   },
   {
    "duration": 5,
    "start_time": "2024-10-13T13:15:18.449Z"
   },
   {
    "duration": 9,
    "start_time": "2024-10-13T13:20:34.749Z"
   },
   {
    "duration": 6,
    "start_time": "2024-10-13T13:22:07.367Z"
   },
   {
    "duration": 7,
    "start_time": "2024-10-13T13:30:46.046Z"
   },
   {
    "duration": 31,
    "start_time": "2024-10-13T13:31:18.217Z"
   },
   {
    "duration": 31,
    "start_time": "2024-10-13T13:31:36.376Z"
   },
   {
    "duration": 10,
    "start_time": "2024-10-13T13:32:44.217Z"
   },
   {
    "duration": 10,
    "start_time": "2024-10-13T13:32:57.738Z"
   },
   {
    "duration": 9,
    "start_time": "2024-10-13T13:33:14.128Z"
   },
   {
    "duration": 13,
    "start_time": "2024-10-13T13:34:44.077Z"
   },
   {
    "duration": 15,
    "start_time": "2024-10-13T13:34:53.097Z"
   },
   {
    "duration": 15,
    "start_time": "2024-10-13T13:35:17.215Z"
   },
   {
    "duration": 11,
    "start_time": "2024-10-13T13:36:16.718Z"
   },
   {
    "duration": 7,
    "start_time": "2024-10-13T13:36:23.117Z"
   },
   {
    "duration": 9,
    "start_time": "2024-10-13T13:38:36.997Z"
   },
   {
    "duration": 6,
    "start_time": "2024-10-13T13:38:44.209Z"
   },
   {
    "duration": 12,
    "start_time": "2024-10-13T13:38:57.837Z"
   },
   {
    "duration": 7,
    "start_time": "2024-10-13T13:40:22.287Z"
   },
   {
    "duration": 8,
    "start_time": "2024-10-13T13:40:45.188Z"
   },
   {
    "duration": 11,
    "start_time": "2024-10-13T13:40:56.426Z"
   },
   {
    "duration": 10,
    "start_time": "2024-10-13T13:43:53.249Z"
   },
   {
    "duration": 3,
    "start_time": "2024-10-13T13:45:37.377Z"
   },
   {
    "duration": 936,
    "start_time": "2024-10-13T13:48:11.657Z"
   },
   {
    "duration": 902,
    "start_time": "2024-10-13T13:48:34.219Z"
   },
   {
    "duration": 15,
    "start_time": "2024-10-13T13:48:43.006Z"
   },
   {
    "duration": 6,
    "start_time": "2024-10-13T13:48:49.538Z"
   },
   {
    "duration": 7,
    "start_time": "2024-10-13T13:49:39.888Z"
   },
   {
    "duration": 18,
    "start_time": "2024-10-13T13:50:05.698Z"
   },
   {
    "duration": 8,
    "start_time": "2024-10-13T13:50:08.712Z"
   },
   {
    "duration": 139,
    "start_time": "2024-10-13T13:53:49.913Z"
   },
   {
    "duration": 6,
    "start_time": "2024-10-13T13:54:44.954Z"
   },
   {
    "duration": 5,
    "start_time": "2024-10-13T13:55:22.493Z"
   },
   {
    "duration": 13,
    "start_time": "2024-10-13T14:07:50.957Z"
   },
   {
    "duration": 14,
    "start_time": "2024-10-13T14:09:02.289Z"
   },
   {
    "duration": 10,
    "start_time": "2024-10-13T14:09:21.378Z"
   },
   {
    "duration": 12,
    "start_time": "2024-10-13T14:09:31.075Z"
   },
   {
    "duration": 17,
    "start_time": "2024-10-13T14:13:43.926Z"
   },
   {
    "duration": 147,
    "start_time": "2024-10-13T14:13:54.100Z"
   },
   {
    "duration": 153,
    "start_time": "2024-10-13T14:14:30.386Z"
   },
   {
    "duration": 131,
    "start_time": "2024-10-13T14:15:46.469Z"
   },
   {
    "duration": 138,
    "start_time": "2024-10-13T14:15:58.639Z"
   },
   {
    "duration": 140,
    "start_time": "2024-10-13T14:17:10.210Z"
   },
   {
    "duration": 3,
    "start_time": "2024-10-13T14:19:30.899Z"
   },
   {
    "duration": 3,
    "start_time": "2024-10-13T14:20:01.537Z"
   },
   {
    "duration": 11,
    "start_time": "2024-10-13T14:22:32.258Z"
   },
   {
    "duration": 9,
    "start_time": "2024-10-13T14:23:02.337Z"
   },
   {
    "duration": 9,
    "start_time": "2024-10-13T14:23:05.693Z"
   },
   {
    "duration": 17,
    "start_time": "2024-10-13T14:23:15.816Z"
   },
   {
    "duration": 128,
    "start_time": "2024-10-13T14:26:23.586Z"
   },
   {
    "duration": 466,
    "start_time": "2024-10-13T14:27:53.286Z"
   },
   {
    "duration": 17,
    "start_time": "2024-10-13T14:28:31.317Z"
   },
   {
    "duration": 4,
    "start_time": "2024-10-13T14:28:42.337Z"
   },
   {
    "duration": 334,
    "start_time": "2024-10-13T14:29:11.498Z"
   },
   {
    "duration": 284,
    "start_time": "2024-10-13T14:29:22.736Z"
   },
   {
    "duration": 414,
    "start_time": "2024-10-13T14:29:42.318Z"
   },
   {
    "duration": 293,
    "start_time": "2024-10-13T14:30:17.976Z"
   },
   {
    "duration": 303,
    "start_time": "2024-10-13T14:30:42.646Z"
   },
   {
    "duration": 302,
    "start_time": "2024-10-13T14:30:48.533Z"
   },
   {
    "duration": 5,
    "start_time": "2024-10-13T14:33:43.787Z"
   },
   {
    "duration": 4,
    "start_time": "2024-10-13T14:33:48.434Z"
   },
   {
    "duration": 5,
    "start_time": "2024-10-13T14:34:14.246Z"
   },
   {
    "duration": 20,
    "start_time": "2024-10-13T14:37:12.012Z"
   },
   {
    "duration": 19,
    "start_time": "2024-10-13T14:37:22.917Z"
   },
   {
    "duration": 11,
    "start_time": "2024-10-13T14:38:09.138Z"
   },
   {
    "duration": 19,
    "start_time": "2024-10-13T14:38:59.817Z"
   },
   {
    "duration": 23,
    "start_time": "2024-10-13T14:39:17.307Z"
   },
   {
    "duration": 14,
    "start_time": "2024-10-13T14:39:28.698Z"
   },
   {
    "duration": 13,
    "start_time": "2024-10-13T14:39:37.110Z"
   },
   {
    "duration": 11,
    "start_time": "2024-10-13T14:39:43.779Z"
   },
   {
    "duration": 12,
    "start_time": "2024-10-13T14:40:30.179Z"
   },
   {
    "duration": 306,
    "start_time": "2024-10-13T14:40:36.746Z"
   },
   {
    "duration": 18,
    "start_time": "2024-10-13T14:44:21.170Z"
   },
   {
    "duration": 13,
    "start_time": "2024-10-13T14:44:35.750Z"
   },
   {
    "duration": 1008,
    "start_time": "2024-10-13T14:44:50.400Z"
   },
   {
    "duration": 52,
    "start_time": "2024-10-13T14:45:15.200Z"
   },
   {
    "duration": 9,
    "start_time": "2024-10-13T14:45:22.010Z"
   },
   {
    "duration": 22,
    "start_time": "2024-10-13T14:45:26.451Z"
   },
   {
    "duration": 31,
    "start_time": "2024-10-13T14:46:02.118Z"
   },
   {
    "duration": 16,
    "start_time": "2024-10-13T14:46:10.612Z"
   },
   {
    "duration": 23,
    "start_time": "2024-10-13T14:46:16.290Z"
   },
   {
    "duration": 18,
    "start_time": "2024-10-13T14:46:27.591Z"
   },
   {
    "duration": 14,
    "start_time": "2024-10-13T14:46:37.553Z"
   },
   {
    "duration": 11,
    "start_time": "2024-10-13T14:46:39.801Z"
   },
   {
    "duration": 318,
    "start_time": "2024-10-13T14:48:15.972Z"
   },
   {
    "duration": 5,
    "start_time": "2024-10-13T14:49:03.593Z"
   },
   {
    "duration": 169,
    "start_time": "2024-10-13T14:49:25.979Z"
   },
   {
    "duration": 141,
    "start_time": "2024-10-13T14:50:07.132Z"
   },
   {
    "duration": 8,
    "start_time": "2024-10-13T14:51:10.934Z"
   },
   {
    "duration": 177,
    "start_time": "2024-10-13T14:52:22.940Z"
   },
   {
    "duration": 8,
    "start_time": "2024-10-13T14:59:32.555Z"
   },
   {
    "duration": 891,
    "start_time": "2024-10-13T15:01:49.176Z"
   },
   {
    "duration": 319,
    "start_time": "2024-10-13T15:02:39.914Z"
   },
   {
    "duration": 364,
    "start_time": "2024-10-13T15:03:24.288Z"
   },
   {
    "duration": 19,
    "start_time": "2024-10-13T15:04:51.773Z"
   },
   {
    "duration": 19,
    "start_time": "2024-10-13T15:06:07.650Z"
   },
   {
    "duration": 19,
    "start_time": "2024-10-13T15:06:44.458Z"
   },
   {
    "duration": 21,
    "start_time": "2024-10-13T15:07:00.181Z"
   },
   {
    "duration": 109,
    "start_time": "2024-10-13T15:07:17.761Z"
   },
   {
    "duration": 20,
    "start_time": "2024-10-13T15:07:24.663Z"
   },
   {
    "duration": 19,
    "start_time": "2024-10-13T15:07:29.082Z"
   },
   {
    "duration": 19,
    "start_time": "2024-10-13T15:07:33.343Z"
   },
   {
    "duration": 20,
    "start_time": "2024-10-13T15:07:49.089Z"
   },
   {
    "duration": 23,
    "start_time": "2024-10-13T16:11:32.642Z"
   },
   {
    "duration": 10,
    "start_time": "2024-10-13T16:12:55.398Z"
   },
   {
    "duration": 10,
    "start_time": "2024-10-13T16:13:22.497Z"
   },
   {
    "duration": 10,
    "start_time": "2024-10-13T16:13:52.700Z"
   },
   {
    "duration": 6,
    "start_time": "2024-10-13T16:14:36.861Z"
   },
   {
    "duration": 6,
    "start_time": "2024-10-13T16:15:07.742Z"
   },
   {
    "duration": 131,
    "start_time": "2024-10-13T16:15:39.569Z"
   },
   {
    "duration": 10,
    "start_time": "2024-10-13T16:16:28.361Z"
   },
   {
    "duration": 6,
    "start_time": "2024-10-13T16:17:25.071Z"
   },
   {
    "duration": 151,
    "start_time": "2024-10-13T16:17:27.172Z"
   },
   {
    "duration": 9,
    "start_time": "2024-10-13T16:17:30.391Z"
   },
   {
    "duration": 18,
    "start_time": "2024-10-13T16:17:44.201Z"
   },
   {
    "duration": 11,
    "start_time": "2024-10-13T16:20:19.791Z"
   },
   {
    "duration": 16,
    "start_time": "2024-10-13T16:23:58.399Z"
   },
   {
    "duration": 10,
    "start_time": "2024-10-13T16:24:44.706Z"
   },
   {
    "duration": 7,
    "start_time": "2024-10-13T16:26:14.560Z"
   },
   {
    "duration": 7,
    "start_time": "2024-10-13T16:29:14.370Z"
   },
   {
    "duration": 8,
    "start_time": "2024-10-13T16:37:36.682Z"
   },
   {
    "duration": 3,
    "start_time": "2024-10-13T16:38:03.333Z"
   },
   {
    "duration": 201,
    "start_time": "2024-10-13T16:39:07.372Z"
   },
   {
    "duration": 20,
    "start_time": "2024-10-13T16:39:52.123Z"
   },
   {
    "duration": 7,
    "start_time": "2024-10-13T16:40:32.121Z"
   },
   {
    "duration": 5,
    "start_time": "2024-10-13T16:41:00.706Z"
   },
   {
    "duration": 114,
    "start_time": "2024-10-13T16:41:49.841Z"
   },
   {
    "duration": 1126,
    "start_time": "2024-10-13T16:42:15.699Z"
   },
   {
    "duration": 3,
    "start_time": "2024-10-13T16:42:16.827Z"
   },
   {
    "duration": 40,
    "start_time": "2024-10-13T16:42:16.832Z"
   },
   {
    "duration": 11,
    "start_time": "2024-10-13T16:42:16.874Z"
   },
   {
    "duration": 31,
    "start_time": "2024-10-13T16:42:16.887Z"
   },
   {
    "duration": 23,
    "start_time": "2024-10-13T16:42:16.919Z"
   },
   {
    "duration": 139,
    "start_time": "2024-10-13T16:42:16.944Z"
   },
   {
    "duration": 30,
    "start_time": "2024-10-13T16:42:17.085Z"
   },
   {
    "duration": 9,
    "start_time": "2024-10-13T16:42:17.116Z"
   },
   {
    "duration": 10,
    "start_time": "2024-10-13T16:42:17.127Z"
   },
   {
    "duration": 18,
    "start_time": "2024-10-13T16:42:17.138Z"
   },
   {
    "duration": 282,
    "start_time": "2024-10-13T16:42:17.158Z"
   },
   {
    "duration": 18,
    "start_time": "2024-10-13T16:42:17.442Z"
   },
   {
    "duration": 7,
    "start_time": "2024-10-13T16:42:17.462Z"
   },
   {
    "duration": 95,
    "start_time": "2024-10-13T16:42:17.470Z"
   },
   {
    "duration": 16,
    "start_time": "2024-10-13T16:42:17.567Z"
   },
   {
    "duration": 62,
    "start_time": "2024-10-13T16:42:17.585Z"
   },
   {
    "duration": 7,
    "start_time": "2024-10-13T16:42:17.648Z"
   },
   {
    "duration": 8,
    "start_time": "2024-10-13T16:42:17.656Z"
   },
   {
    "duration": 19,
    "start_time": "2024-10-13T16:42:17.665Z"
   },
   {
    "duration": 16,
    "start_time": "2024-10-13T16:42:17.685Z"
   },
   {
    "duration": 10,
    "start_time": "2024-10-13T16:42:17.702Z"
   },
   {
    "duration": 16,
    "start_time": "2024-10-13T16:42:17.713Z"
   },
   {
    "duration": 7,
    "start_time": "2024-10-13T16:42:17.730Z"
   },
   {
    "duration": 5,
    "start_time": "2024-10-13T16:42:17.738Z"
   },
   {
    "duration": 14,
    "start_time": "2024-10-13T16:42:17.745Z"
   },
   {
    "duration": 8,
    "start_time": "2024-10-13T16:42:17.760Z"
   },
   {
    "duration": 5,
    "start_time": "2024-10-13T16:42:17.772Z"
   },
   {
    "duration": 11,
    "start_time": "2024-10-13T16:42:17.779Z"
   },
   {
    "duration": 34,
    "start_time": "2024-10-13T16:42:17.791Z"
   },
   {
    "duration": 5,
    "start_time": "2024-10-13T16:42:17.827Z"
   },
   {
    "duration": 22,
    "start_time": "2024-10-13T16:42:17.833Z"
   },
   {
    "duration": 5,
    "start_time": "2024-10-13T16:42:17.857Z"
   },
   {
    "duration": 15,
    "start_time": "2024-10-13T16:42:17.863Z"
   },
   {
    "duration": 15,
    "start_time": "2024-10-13T16:42:17.880Z"
   },
   {
    "duration": 27,
    "start_time": "2024-10-13T16:42:17.896Z"
   },
   {
    "duration": 7,
    "start_time": "2024-10-13T16:42:17.925Z"
   },
   {
    "duration": 34,
    "start_time": "2024-10-13T16:42:17.933Z"
   },
   {
    "duration": 9,
    "start_time": "2024-10-13T16:42:17.968Z"
   },
   {
    "duration": 10,
    "start_time": "2024-10-13T16:42:17.979Z"
   },
   {
    "duration": 10,
    "start_time": "2024-10-13T16:42:17.990Z"
   },
   {
    "duration": 112,
    "start_time": "2024-10-13T16:42:18.001Z"
   },
   {
    "duration": 0,
    "start_time": "2024-10-13T16:42:18.115Z"
   },
   {
    "duration": 0,
    "start_time": "2024-10-13T16:42:18.121Z"
   },
   {
    "duration": 0,
    "start_time": "2024-10-13T16:42:18.123Z"
   },
   {
    "duration": 0,
    "start_time": "2024-10-13T16:42:18.125Z"
   },
   {
    "duration": 0,
    "start_time": "2024-10-13T16:42:18.126Z"
   },
   {
    "duration": 0,
    "start_time": "2024-10-13T16:42:18.127Z"
   },
   {
    "duration": 0,
    "start_time": "2024-10-13T16:42:18.128Z"
   },
   {
    "duration": 0,
    "start_time": "2024-10-13T16:42:18.129Z"
   },
   {
    "duration": 0,
    "start_time": "2024-10-13T16:42:18.130Z"
   },
   {
    "duration": 0,
    "start_time": "2024-10-13T16:42:18.132Z"
   },
   {
    "duration": 0,
    "start_time": "2024-10-13T16:42:18.133Z"
   },
   {
    "duration": 0,
    "start_time": "2024-10-13T16:42:18.134Z"
   },
   {
    "duration": 0,
    "start_time": "2024-10-13T16:42:18.135Z"
   },
   {
    "duration": 0,
    "start_time": "2024-10-13T16:42:18.136Z"
   },
   {
    "duration": 0,
    "start_time": "2024-10-13T16:42:18.137Z"
   },
   {
    "duration": 0,
    "start_time": "2024-10-13T16:42:18.138Z"
   },
   {
    "duration": 0,
    "start_time": "2024-10-13T16:42:18.140Z"
   },
   {
    "duration": 0,
    "start_time": "2024-10-13T16:42:18.140Z"
   },
   {
    "duration": 0,
    "start_time": "2024-10-13T16:42:18.141Z"
   },
   {
    "duration": 0,
    "start_time": "2024-10-13T16:42:18.142Z"
   },
   {
    "duration": 0,
    "start_time": "2024-10-13T16:42:18.143Z"
   },
   {
    "duration": 0,
    "start_time": "2024-10-13T16:42:18.144Z"
   },
   {
    "duration": 0,
    "start_time": "2024-10-13T16:42:18.145Z"
   },
   {
    "duration": 0,
    "start_time": "2024-10-13T16:42:18.146Z"
   },
   {
    "duration": 0,
    "start_time": "2024-10-13T16:42:18.147Z"
   },
   {
    "duration": 0,
    "start_time": "2024-10-13T16:42:18.148Z"
   },
   {
    "duration": 0,
    "start_time": "2024-10-13T16:42:18.149Z"
   },
   {
    "duration": 0,
    "start_time": "2024-10-13T16:42:18.149Z"
   },
   {
    "duration": 137,
    "start_time": "2024-10-13T16:42:50.385Z"
   },
   {
    "duration": 1150,
    "start_time": "2024-10-13T16:42:56.771Z"
   },
   {
    "duration": 2,
    "start_time": "2024-10-13T16:42:57.925Z"
   },
   {
    "duration": 50,
    "start_time": "2024-10-13T16:42:57.928Z"
   },
   {
    "duration": 12,
    "start_time": "2024-10-13T16:42:57.980Z"
   },
   {
    "duration": 18,
    "start_time": "2024-10-13T16:42:57.994Z"
   },
   {
    "duration": 19,
    "start_time": "2024-10-13T16:42:58.014Z"
   },
   {
    "duration": 153,
    "start_time": "2024-10-13T16:42:58.035Z"
   },
   {
    "duration": 30,
    "start_time": "2024-10-13T16:42:58.189Z"
   },
   {
    "duration": 8,
    "start_time": "2024-10-13T16:42:58.221Z"
   },
   {
    "duration": 24,
    "start_time": "2024-10-13T16:42:58.231Z"
   },
   {
    "duration": 25,
    "start_time": "2024-10-13T16:42:58.256Z"
   },
   {
    "duration": 228,
    "start_time": "2024-10-13T16:42:58.283Z"
   },
   {
    "duration": 18,
    "start_time": "2024-10-13T16:42:58.513Z"
   },
   {
    "duration": 87,
    "start_time": "2024-10-13T16:42:58.533Z"
   },
   {
    "duration": 13,
    "start_time": "2024-10-13T16:42:58.622Z"
   },
   {
    "duration": 28,
    "start_time": "2024-10-13T16:42:58.637Z"
   },
   {
    "duration": 27,
    "start_time": "2024-10-13T16:42:58.666Z"
   },
   {
    "duration": 13,
    "start_time": "2024-10-13T16:42:58.695Z"
   },
   {
    "duration": 24,
    "start_time": "2024-10-13T16:42:58.710Z"
   },
   {
    "duration": 20,
    "start_time": "2024-10-13T16:42:58.736Z"
   },
   {
    "duration": 13,
    "start_time": "2024-10-13T16:42:58.757Z"
   },
   {
    "duration": 27,
    "start_time": "2024-10-13T16:42:58.772Z"
   },
   {
    "duration": 37,
    "start_time": "2024-10-13T16:42:58.800Z"
   },
   {
    "duration": 17,
    "start_time": "2024-10-13T16:42:58.838Z"
   },
   {
    "duration": 21,
    "start_time": "2024-10-13T16:42:58.856Z"
   },
   {
    "duration": 19,
    "start_time": "2024-10-13T16:42:58.878Z"
   },
   {
    "duration": 22,
    "start_time": "2024-10-13T16:42:58.899Z"
   },
   {
    "duration": 27,
    "start_time": "2024-10-13T16:42:58.924Z"
   },
   {
    "duration": 17,
    "start_time": "2024-10-13T16:42:58.952Z"
   },
   {
    "duration": 31,
    "start_time": "2024-10-13T16:42:58.971Z"
   },
   {
    "duration": 14,
    "start_time": "2024-10-13T16:42:59.004Z"
   },
   {
    "duration": 19,
    "start_time": "2024-10-13T16:42:59.019Z"
   },
   {
    "duration": 26,
    "start_time": "2024-10-13T16:42:59.040Z"
   },
   {
    "duration": 28,
    "start_time": "2024-10-13T16:42:59.067Z"
   },
   {
    "duration": 32,
    "start_time": "2024-10-13T16:42:59.096Z"
   },
   {
    "duration": 22,
    "start_time": "2024-10-13T16:42:59.129Z"
   },
   {
    "duration": 21,
    "start_time": "2024-10-13T16:42:59.153Z"
   },
   {
    "duration": 39,
    "start_time": "2024-10-13T16:42:59.176Z"
   },
   {
    "duration": 9,
    "start_time": "2024-10-13T16:42:59.217Z"
   },
   {
    "duration": 31,
    "start_time": "2024-10-13T16:42:59.228Z"
   },
   {
    "duration": 13,
    "start_time": "2024-10-13T16:42:59.261Z"
   },
   {
    "duration": 158,
    "start_time": "2024-10-13T16:42:59.275Z"
   },
   {
    "duration": 17,
    "start_time": "2024-10-13T16:42:59.434Z"
   },
   {
    "duration": 24,
    "start_time": "2024-10-13T16:42:59.452Z"
   },
   {
    "duration": 89,
    "start_time": "2024-10-13T16:42:59.477Z"
   },
   {
    "duration": 66,
    "start_time": "2024-10-13T16:42:59.567Z"
   },
   {
    "duration": 226,
    "start_time": "2024-10-13T16:42:59.634Z"
   },
   {
    "duration": 19,
    "start_time": "2024-10-13T16:42:59.861Z"
   },
   {
    "duration": 6,
    "start_time": "2024-10-13T16:42:59.882Z"
   },
   {
    "duration": 133,
    "start_time": "2024-10-13T16:42:59.889Z"
   },
   {
    "duration": 7,
    "start_time": "2024-10-13T16:43:00.024Z"
   },
   {
    "duration": 39,
    "start_time": "2024-10-13T16:43:00.032Z"
   },
   {
    "duration": 30,
    "start_time": "2024-10-13T16:43:00.073Z"
   },
   {
    "duration": 138,
    "start_time": "2024-10-13T16:43:00.104Z"
   },
   {
    "duration": 11,
    "start_time": "2024-10-13T16:43:00.244Z"
   },
   {
    "duration": 224,
    "start_time": "2024-10-13T16:43:00.256Z"
   },
   {
    "duration": 4,
    "start_time": "2024-10-13T16:43:00.481Z"
   },
   {
    "duration": 31,
    "start_time": "2024-10-13T16:43:00.486Z"
   },
   {
    "duration": 100,
    "start_time": "2024-10-13T16:43:00.519Z"
   },
   {
    "duration": 29,
    "start_time": "2024-10-13T16:43:00.621Z"
   },
   {
    "duration": 347,
    "start_time": "2024-10-13T16:43:00.652Z"
   },
   {
    "duration": 21,
    "start_time": "2024-10-13T16:43:01.001Z"
   },
   {
    "duration": 10,
    "start_time": "2024-10-13T16:43:01.024Z"
   },
   {
    "duration": 186,
    "start_time": "2024-10-13T16:43:01.036Z"
   },
   {
    "duration": 7,
    "start_time": "2024-10-13T16:43:01.224Z"
   },
   {
    "duration": 61,
    "start_time": "2024-10-13T16:43:01.233Z"
   },
   {
    "duration": 36,
    "start_time": "2024-10-13T16:43:01.296Z"
   },
   {
    "duration": 52,
    "start_time": "2024-10-13T16:43:01.333Z"
   },
   {
    "duration": 21,
    "start_time": "2024-10-13T16:43:01.386Z"
   },
   {
    "duration": 364,
    "start_time": "2024-10-13T16:43:01.408Z"
   },
   {
    "duration": 101,
    "start_time": "2024-10-13T16:50:34.090Z"
   },
   {
    "duration": 30,
    "start_time": "2024-10-13T16:50:43.346Z"
   },
   {
    "duration": 30,
    "start_time": "2024-10-13T16:54:10.846Z"
   },
   {
    "duration": 21,
    "start_time": "2024-10-13T16:54:43.329Z"
   },
   {
    "duration": 19,
    "start_time": "2024-10-13T16:55:25.378Z"
   },
   {
    "duration": 250,
    "start_time": "2024-10-13T17:00:25.061Z"
   },
   {
    "duration": 184,
    "start_time": "2024-10-13T17:00:48.730Z"
   },
   {
    "duration": 154,
    "start_time": "2024-10-13T17:01:07.540Z"
   },
   {
    "duration": 162,
    "start_time": "2024-10-13T17:01:17.051Z"
   },
   {
    "duration": 154,
    "start_time": "2024-10-13T17:01:24.688Z"
   },
   {
    "duration": 161,
    "start_time": "2024-10-13T17:02:21.341Z"
   },
   {
    "duration": 253,
    "start_time": "2024-10-13T17:02:54.469Z"
   },
   {
    "duration": 161,
    "start_time": "2024-10-13T17:04:35.438Z"
   },
   {
    "duration": 225,
    "start_time": "2024-10-13T17:18:07.141Z"
   },
   {
    "duration": 12,
    "start_time": "2024-10-13T17:18:20.160Z"
   },
   {
    "duration": 15,
    "start_time": "2024-10-13T17:18:35.132Z"
   },
   {
    "duration": 227,
    "start_time": "2024-10-13T17:18:57.470Z"
   },
   {
    "duration": 14,
    "start_time": "2024-10-13T17:19:06.204Z"
   },
   {
    "duration": 23,
    "start_time": "2024-10-13T17:29:00.012Z"
   },
   {
    "duration": 22,
    "start_time": "2024-10-13T17:29:13.812Z"
   },
   {
    "duration": 31,
    "start_time": "2024-10-13T17:29:49.799Z"
   },
   {
    "duration": 4,
    "start_time": "2024-10-13T17:39:46.922Z"
   },
   {
    "duration": 13654,
    "start_time": "2024-10-13T17:42:01.474Z"
   },
   {
    "duration": 61,
    "start_time": "2024-10-13T17:42:30.385Z"
   },
   {
    "duration": 13790,
    "start_time": "2024-10-13T17:42:37.933Z"
   },
   {
    "duration": 19,
    "start_time": "2024-10-13T17:45:55.334Z"
   },
   {
    "duration": 16,
    "start_time": "2024-10-13T17:48:12.069Z"
   },
   {
    "duration": 8,
    "start_time": "2024-10-13T17:49:11.648Z"
   },
   {
    "duration": 3,
    "start_time": "2024-10-13T17:49:29.272Z"
   },
   {
    "duration": 16,
    "start_time": "2024-10-13T17:49:44.333Z"
   },
   {
    "duration": 12,
    "start_time": "2024-10-13T17:50:15.792Z"
   },
   {
    "duration": 15,
    "start_time": "2024-10-13T17:50:41.148Z"
   },
   {
    "duration": 6,
    "start_time": "2024-10-13T18:06:53.431Z"
   },
   {
    "duration": 6,
    "start_time": "2024-10-13T18:14:16.061Z"
   },
   {
    "duration": 6,
    "start_time": "2024-10-13T18:18:24.021Z"
   },
   {
    "duration": 4,
    "start_time": "2024-10-13T18:19:18.505Z"
   },
   {
    "duration": 4,
    "start_time": "2024-10-13T18:19:27.639Z"
   },
   {
    "duration": 6,
    "start_time": "2024-10-13T18:20:09.975Z"
   },
   {
    "duration": 4,
    "start_time": "2024-10-13T18:20:51.777Z"
   },
   {
    "duration": 4,
    "start_time": "2024-10-13T18:21:01.153Z"
   },
   {
    "duration": 30,
    "start_time": "2024-10-13T18:30:54.853Z"
   },
   {
    "duration": 1074,
    "start_time": "2024-10-13T18:33:24.054Z"
   },
   {
    "duration": 3,
    "start_time": "2024-10-13T18:33:25.129Z"
   },
   {
    "duration": 40,
    "start_time": "2024-10-13T18:33:25.133Z"
   },
   {
    "duration": 11,
    "start_time": "2024-10-13T18:33:25.175Z"
   },
   {
    "duration": 11,
    "start_time": "2024-10-13T18:33:25.188Z"
   },
   {
    "duration": 15,
    "start_time": "2024-10-13T18:33:25.200Z"
   },
   {
    "duration": 138,
    "start_time": "2024-10-13T18:33:25.216Z"
   },
   {
    "duration": 28,
    "start_time": "2024-10-13T18:33:25.356Z"
   },
   {
    "duration": 8,
    "start_time": "2024-10-13T18:33:25.386Z"
   },
   {
    "duration": 12,
    "start_time": "2024-10-13T18:33:25.395Z"
   },
   {
    "duration": 22,
    "start_time": "2024-10-13T18:33:25.408Z"
   },
   {
    "duration": 236,
    "start_time": "2024-10-13T18:33:25.431Z"
   },
   {
    "duration": 18,
    "start_time": "2024-10-13T18:33:25.669Z"
   },
   {
    "duration": 7,
    "start_time": "2024-10-13T18:33:25.690Z"
   },
   {
    "duration": 13,
    "start_time": "2024-10-13T18:33:25.698Z"
   },
   {
    "duration": 20,
    "start_time": "2024-10-13T18:33:25.712Z"
   },
   {
    "duration": 9,
    "start_time": "2024-10-13T18:33:25.734Z"
   },
   {
    "duration": 11,
    "start_time": "2024-10-13T18:33:25.745Z"
   },
   {
    "duration": 9,
    "start_time": "2024-10-13T18:33:25.757Z"
   },
   {
    "duration": 10,
    "start_time": "2024-10-13T18:33:25.767Z"
   },
   {
    "duration": 5,
    "start_time": "2024-10-13T18:33:25.778Z"
   },
   {
    "duration": 38,
    "start_time": "2024-10-13T18:33:25.785Z"
   },
   {
    "duration": 10,
    "start_time": "2024-10-13T18:33:25.824Z"
   },
   {
    "duration": 9,
    "start_time": "2024-10-13T18:33:25.835Z"
   },
   {
    "duration": 4,
    "start_time": "2024-10-13T18:33:25.845Z"
   },
   {
    "duration": 12,
    "start_time": "2024-10-13T18:33:25.850Z"
   },
   {
    "duration": 7,
    "start_time": "2024-10-13T18:33:25.864Z"
   },
   {
    "duration": 11,
    "start_time": "2024-10-13T18:33:25.872Z"
   },
   {
    "duration": 38,
    "start_time": "2024-10-13T18:33:25.884Z"
   },
   {
    "duration": 12,
    "start_time": "2024-10-13T18:33:25.923Z"
   },
   {
    "duration": 4,
    "start_time": "2024-10-13T18:33:25.936Z"
   },
   {
    "duration": 16,
    "start_time": "2024-10-13T18:33:25.942Z"
   },
   {
    "duration": 5,
    "start_time": "2024-10-13T18:33:25.960Z"
   },
   {
    "duration": 10,
    "start_time": "2024-10-13T18:33:25.966Z"
   },
   {
    "duration": 65,
    "start_time": "2024-10-13T18:33:25.977Z"
   },
   {
    "duration": 9,
    "start_time": "2024-10-13T18:33:26.044Z"
   },
   {
    "duration": 7,
    "start_time": "2024-10-13T18:33:26.054Z"
   },
   {
    "duration": 20,
    "start_time": "2024-10-13T18:33:26.063Z"
   },
   {
    "duration": 9,
    "start_time": "2024-10-13T18:33:26.085Z"
   },
   {
    "duration": 27,
    "start_time": "2024-10-13T18:33:26.095Z"
   },
   {
    "duration": 6,
    "start_time": "2024-10-13T18:33:26.126Z"
   },
   {
    "duration": 196,
    "start_time": "2024-10-13T18:33:26.133Z"
   },
   {
    "duration": 17,
    "start_time": "2024-10-13T18:33:26.331Z"
   },
   {
    "duration": 9,
    "start_time": "2024-10-13T18:33:26.350Z"
   },
   {
    "duration": 21,
    "start_time": "2024-10-13T18:33:26.361Z"
   },
   {
    "duration": 3,
    "start_time": "2024-10-13T18:33:26.384Z"
   },
   {
    "duration": 204,
    "start_time": "2024-10-13T18:33:26.389Z"
   },
   {
    "duration": 29,
    "start_time": "2024-10-13T18:33:26.595Z"
   },
   {
    "duration": 5,
    "start_time": "2024-10-13T18:33:26.626Z"
   },
   {
    "duration": 122,
    "start_time": "2024-10-13T18:33:26.632Z"
   },
   {
    "duration": 6,
    "start_time": "2024-10-13T18:33:26.756Z"
   },
   {
    "duration": 13,
    "start_time": "2024-10-13T18:33:26.763Z"
   },
   {
    "duration": 5,
    "start_time": "2024-10-13T18:33:26.778Z"
   },
   {
    "duration": 141,
    "start_time": "2024-10-13T18:33:26.784Z"
   },
   {
    "duration": 10,
    "start_time": "2024-10-13T18:33:26.927Z"
   },
   {
    "duration": 296,
    "start_time": "2024-10-13T18:33:26.939Z"
   },
   {
    "duration": 4,
    "start_time": "2024-10-13T18:33:27.236Z"
   },
   {
    "duration": 40,
    "start_time": "2024-10-13T18:33:27.241Z"
   },
   {
    "duration": 28,
    "start_time": "2024-10-13T18:33:27.283Z"
   },
   {
    "duration": 7,
    "start_time": "2024-10-13T18:33:27.313Z"
   },
   {
    "duration": 291,
    "start_time": "2024-10-13T18:33:27.322Z"
   },
   {
    "duration": 13,
    "start_time": "2024-10-13T18:33:27.620Z"
   },
   {
    "duration": 10,
    "start_time": "2024-10-13T18:33:27.634Z"
   },
   {
    "duration": 193,
    "start_time": "2024-10-13T18:33:27.645Z"
   },
   {
    "duration": 8,
    "start_time": "2024-10-13T18:33:27.839Z"
   },
   {
    "duration": 292,
    "start_time": "2024-10-13T18:33:27.848Z"
   },
   {
    "duration": 29,
    "start_time": "2024-10-13T18:33:28.142Z"
   },
   {
    "duration": 39,
    "start_time": "2024-10-13T18:33:28.172Z"
   },
   {
    "duration": 20,
    "start_time": "2024-10-13T18:33:28.212Z"
   },
   {
    "duration": 180,
    "start_time": "2024-10-13T18:33:28.233Z"
   },
   {
    "duration": 162,
    "start_time": "2024-10-13T18:33:28.415Z"
   },
   {
    "duration": 20,
    "start_time": "2024-10-13T18:33:28.578Z"
   },
   {
    "duration": 30,
    "start_time": "2024-10-13T18:33:28.599Z"
   },
   {
    "duration": 16,
    "start_time": "2024-10-13T18:33:28.630Z"
   },
   {
    "duration": 7,
    "start_time": "2024-10-13T18:33:28.647Z"
   },
   {
    "duration": 2,
    "start_time": "2024-10-13T18:33:28.655Z"
   },
   {
    "duration": 75,
    "start_time": "2024-10-13T18:33:28.659Z"
   },
   {
    "duration": 112,
    "start_time": "2024-10-13T18:34:00.454Z"
   },
   {
    "duration": 36,
    "start_time": "2024-10-13T18:34:11.371Z"
   },
   {
    "duration": 1183,
    "start_time": "2024-10-13T18:35:29.152Z"
   },
   {
    "duration": 3,
    "start_time": "2024-10-13T18:35:30.337Z"
   },
   {
    "duration": 75,
    "start_time": "2024-10-13T18:35:30.341Z"
   },
   {
    "duration": 12,
    "start_time": "2024-10-13T18:35:30.417Z"
   },
   {
    "duration": 48,
    "start_time": "2024-10-13T18:35:30.431Z"
   },
   {
    "duration": 16,
    "start_time": "2024-10-13T18:35:30.481Z"
   },
   {
    "duration": 152,
    "start_time": "2024-10-13T18:35:30.498Z"
   },
   {
    "duration": 32,
    "start_time": "2024-10-13T18:35:30.651Z"
   },
   {
    "duration": 9,
    "start_time": "2024-10-13T18:35:30.684Z"
   },
   {
    "duration": 12,
    "start_time": "2024-10-13T18:35:30.694Z"
   },
   {
    "duration": 25,
    "start_time": "2024-10-13T18:35:30.708Z"
   },
   {
    "duration": 248,
    "start_time": "2024-10-13T18:35:30.735Z"
   },
   {
    "duration": 17,
    "start_time": "2024-10-13T18:35:30.985Z"
   },
   {
    "duration": 65,
    "start_time": "2024-10-13T18:35:31.006Z"
   },
   {
    "duration": 11,
    "start_time": "2024-10-13T18:35:31.072Z"
   },
   {
    "duration": 23,
    "start_time": "2024-10-13T18:35:31.085Z"
   },
   {
    "duration": 9,
    "start_time": "2024-10-13T18:35:31.110Z"
   },
   {
    "duration": 6,
    "start_time": "2024-10-13T18:35:31.121Z"
   },
   {
    "duration": 35,
    "start_time": "2024-10-13T18:35:31.128Z"
   },
   {
    "duration": 10,
    "start_time": "2024-10-13T18:35:31.164Z"
   },
   {
    "duration": 20,
    "start_time": "2024-10-13T18:35:31.175Z"
   },
   {
    "duration": 12,
    "start_time": "2024-10-13T18:35:31.196Z"
   },
   {
    "duration": 21,
    "start_time": "2024-10-13T18:35:31.209Z"
   },
   {
    "duration": 13,
    "start_time": "2024-10-13T18:35:31.231Z"
   },
   {
    "duration": 12,
    "start_time": "2024-10-13T18:35:31.245Z"
   },
   {
    "duration": 36,
    "start_time": "2024-10-13T18:35:31.259Z"
   },
   {
    "duration": 8,
    "start_time": "2024-10-13T18:35:31.297Z"
   },
   {
    "duration": 18,
    "start_time": "2024-10-13T18:35:31.307Z"
   },
   {
    "duration": 26,
    "start_time": "2024-10-13T18:35:31.326Z"
   },
   {
    "duration": 21,
    "start_time": "2024-10-13T18:35:31.354Z"
   },
   {
    "duration": 6,
    "start_time": "2024-10-13T18:35:31.377Z"
   },
   {
    "duration": 17,
    "start_time": "2024-10-13T18:35:31.384Z"
   },
   {
    "duration": 6,
    "start_time": "2024-10-13T18:35:31.403Z"
   },
   {
    "duration": 11,
    "start_time": "2024-10-13T18:35:31.410Z"
   },
   {
    "duration": 40,
    "start_time": "2024-10-13T18:35:31.423Z"
   },
   {
    "duration": 19,
    "start_time": "2024-10-13T18:35:31.465Z"
   },
   {
    "duration": 8,
    "start_time": "2024-10-13T18:35:31.485Z"
   },
   {
    "duration": 26,
    "start_time": "2024-10-13T18:35:31.494Z"
   },
   {
    "duration": 9,
    "start_time": "2024-10-13T18:35:31.521Z"
   },
   {
    "duration": 10,
    "start_time": "2024-10-13T18:35:31.531Z"
   },
   {
    "duration": 29,
    "start_time": "2024-10-13T18:35:31.545Z"
   },
   {
    "duration": 134,
    "start_time": "2024-10-13T18:35:31.576Z"
   },
   {
    "duration": 22,
    "start_time": "2024-10-13T18:35:31.711Z"
   },
   {
    "duration": 22,
    "start_time": "2024-10-13T18:35:31.734Z"
   },
   {
    "duration": 19,
    "start_time": "2024-10-13T18:35:31.757Z"
   },
   {
    "duration": 3,
    "start_time": "2024-10-13T18:35:31.777Z"
   },
   {
    "duration": 198,
    "start_time": "2024-10-13T18:35:31.781Z"
   },
   {
    "duration": 20,
    "start_time": "2024-10-13T18:35:31.980Z"
   },
   {
    "duration": 51,
    "start_time": "2024-10-13T18:35:32.001Z"
   },
   {
    "duration": 120,
    "start_time": "2024-10-13T18:35:32.053Z"
   },
   {
    "duration": 6,
    "start_time": "2024-10-13T18:35:32.174Z"
   },
   {
    "duration": 40,
    "start_time": "2024-10-13T18:35:32.181Z"
   },
   {
    "duration": 6,
    "start_time": "2024-10-13T18:35:32.222Z"
   },
   {
    "duration": 151,
    "start_time": "2024-10-13T18:35:32.229Z"
   },
   {
    "duration": 12,
    "start_time": "2024-10-13T18:35:32.383Z"
   },
   {
    "duration": 200,
    "start_time": "2024-10-13T18:35:32.397Z"
   },
   {
    "duration": 3,
    "start_time": "2024-10-13T18:35:32.599Z"
   },
   {
    "duration": 19,
    "start_time": "2024-10-13T18:35:32.603Z"
   },
   {
    "duration": 23,
    "start_time": "2024-10-13T18:35:32.623Z"
   },
   {
    "duration": 23,
    "start_time": "2024-10-13T18:35:32.647Z"
   },
   {
    "duration": 300,
    "start_time": "2024-10-13T18:35:32.672Z"
   },
   {
    "duration": 14,
    "start_time": "2024-10-13T18:35:32.973Z"
   },
   {
    "duration": 72,
    "start_time": "2024-10-13T18:35:32.988Z"
   },
   {
    "duration": 164,
    "start_time": "2024-10-13T18:35:33.062Z"
   },
   {
    "duration": 8,
    "start_time": "2024-10-13T18:35:33.228Z"
   },
   {
    "duration": 310,
    "start_time": "2024-10-13T18:35:33.237Z"
   },
   {
    "duration": 31,
    "start_time": "2024-10-13T18:35:33.549Z"
   },
   {
    "duration": 22,
    "start_time": "2024-10-13T18:35:33.581Z"
   },
   {
    "duration": 33,
    "start_time": "2024-10-13T18:35:33.604Z"
   },
   {
    "duration": 172,
    "start_time": "2024-10-13T18:35:33.639Z"
   },
   {
    "duration": 157,
    "start_time": "2024-10-13T18:35:33.820Z"
   },
   {
    "duration": 18,
    "start_time": "2024-10-13T18:35:33.979Z"
   },
   {
    "duration": 64,
    "start_time": "2024-10-13T18:35:33.998Z"
   },
   {
    "duration": 30,
    "start_time": "2024-10-13T18:35:34.063Z"
   },
   {
    "duration": 7,
    "start_time": "2024-10-13T18:35:34.094Z"
   },
   {
    "duration": 9,
    "start_time": "2024-10-13T18:35:34.103Z"
   },
   {
    "duration": 122,
    "start_time": "2024-10-13T18:35:34.113Z"
   },
   {
    "duration": 30,
    "start_time": "2024-10-13T18:37:02.104Z"
   },
   {
    "duration": 6,
    "start_time": "2024-10-13T18:41:27.185Z"
   },
   {
    "duration": 5,
    "start_time": "2024-10-13T18:41:34.562Z"
   },
   {
    "duration": 4,
    "start_time": "2024-10-13T18:42:32.810Z"
   },
   {
    "duration": 4,
    "start_time": "2024-10-13T18:42:46.773Z"
   },
   {
    "duration": 5,
    "start_time": "2024-10-13T18:43:07.803Z"
   },
   {
    "duration": 6,
    "start_time": "2024-10-13T18:43:18.784Z"
   },
   {
    "duration": 6,
    "start_time": "2024-10-13T18:47:41.639Z"
   },
   {
    "duration": 105,
    "start_time": "2024-10-13T18:49:58.072Z"
   },
   {
    "duration": 5,
    "start_time": "2024-10-13T18:50:17.471Z"
   },
   {
    "duration": 29,
    "start_time": "2024-10-13T18:50:45.521Z"
   },
   {
    "duration": 34,
    "start_time": "2024-10-13T18:51:04.202Z"
   },
   {
    "duration": 6,
    "start_time": "2024-10-13T18:51:37.366Z"
   },
   {
    "duration": 6,
    "start_time": "2024-10-13T18:52:01.063Z"
   },
   {
    "duration": 5,
    "start_time": "2024-10-13T18:52:06.603Z"
   },
   {
    "duration": 9,
    "start_time": "2024-10-13T18:52:38.984Z"
   },
   {
    "duration": 5,
    "start_time": "2024-10-13T18:52:44.123Z"
   },
   {
    "duration": 29,
    "start_time": "2024-10-13T18:53:19.934Z"
   },
   {
    "duration": 27,
    "start_time": "2024-10-13T18:53:31.480Z"
   },
   {
    "duration": 5,
    "start_time": "2024-10-13T18:53:44.333Z"
   },
   {
    "duration": 5,
    "start_time": "2024-10-13T18:53:48.874Z"
   },
   {
    "duration": 6,
    "start_time": "2024-10-13T18:53:53.513Z"
   },
   {
    "duration": 5,
    "start_time": "2024-10-13T18:54:09.714Z"
   },
   {
    "duration": 6,
    "start_time": "2024-10-13T18:54:17.221Z"
   },
   {
    "duration": 9,
    "start_time": "2024-10-13T18:54:31.713Z"
   },
   {
    "duration": 5,
    "start_time": "2024-10-13T18:54:37.585Z"
   },
   {
    "duration": 5,
    "start_time": "2024-10-13T18:54:47.735Z"
   },
   {
    "duration": 5,
    "start_time": "2024-10-13T18:55:07.943Z"
   },
   {
    "duration": 5,
    "start_time": "2024-10-13T18:55:29.488Z"
   },
   {
    "duration": 9,
    "start_time": "2024-10-13T18:56:07.389Z"
   },
   {
    "duration": 5,
    "start_time": "2024-10-13T18:56:15.212Z"
   },
   {
    "duration": 6,
    "start_time": "2024-10-13T18:56:27.681Z"
   },
   {
    "duration": 31,
    "start_time": "2024-10-13T18:58:00.162Z"
   },
   {
    "duration": 5,
    "start_time": "2024-10-13T18:58:10.859Z"
   },
   {
    "duration": 23,
    "start_time": "2024-10-13T19:04:29.379Z"
   },
   {
    "duration": 1199,
    "start_time": "2024-10-13T19:07:22.194Z"
   },
   {
    "duration": 2,
    "start_time": "2024-10-13T19:07:23.395Z"
   },
   {
    "duration": 88,
    "start_time": "2024-10-13T19:07:23.399Z"
   },
   {
    "duration": 11,
    "start_time": "2024-10-13T19:07:23.489Z"
   },
   {
    "duration": 12,
    "start_time": "2024-10-13T19:07:23.502Z"
   },
   {
    "duration": 17,
    "start_time": "2024-10-13T19:07:23.515Z"
   },
   {
    "duration": 149,
    "start_time": "2024-10-13T19:07:23.534Z"
   },
   {
    "duration": 30,
    "start_time": "2024-10-13T19:07:23.685Z"
   },
   {
    "duration": 9,
    "start_time": "2024-10-13T19:07:23.716Z"
   },
   {
    "duration": 10,
    "start_time": "2024-10-13T19:07:23.729Z"
   },
   {
    "duration": 18,
    "start_time": "2024-10-13T19:07:23.741Z"
   },
   {
    "duration": 245,
    "start_time": "2024-10-13T19:07:23.761Z"
   },
   {
    "duration": 18,
    "start_time": "2024-10-13T19:07:24.007Z"
   },
   {
    "duration": 17,
    "start_time": "2024-10-13T19:07:24.026Z"
   },
   {
    "duration": 24,
    "start_time": "2024-10-13T19:07:24.045Z"
   },
   {
    "duration": 34,
    "start_time": "2024-10-13T19:07:24.070Z"
   },
   {
    "duration": 70,
    "start_time": "2024-10-13T19:07:24.105Z"
   },
   {
    "duration": 9,
    "start_time": "2024-10-13T19:07:24.176Z"
   },
   {
    "duration": 13,
    "start_time": "2024-10-13T19:07:24.186Z"
   },
   {
    "duration": 22,
    "start_time": "2024-10-13T19:07:24.201Z"
   },
   {
    "duration": 5,
    "start_time": "2024-10-13T19:07:24.225Z"
   },
   {
    "duration": 17,
    "start_time": "2024-10-13T19:07:24.232Z"
   },
   {
    "duration": 10,
    "start_time": "2024-10-13T19:07:24.250Z"
   },
   {
    "duration": 15,
    "start_time": "2024-10-13T19:07:24.262Z"
   },
   {
    "duration": 8,
    "start_time": "2024-10-13T19:07:24.278Z"
   },
   {
    "duration": 52,
    "start_time": "2024-10-13T19:07:24.288Z"
   },
   {
    "duration": 54,
    "start_time": "2024-10-13T19:07:24.342Z"
   },
   {
    "duration": 20,
    "start_time": "2024-10-13T19:07:24.401Z"
   },
   {
    "duration": 30,
    "start_time": "2024-10-13T19:07:24.423Z"
   },
   {
    "duration": 29,
    "start_time": "2024-10-13T19:07:24.455Z"
   },
   {
    "duration": 4,
    "start_time": "2024-10-13T19:07:24.486Z"
   },
   {
    "duration": 28,
    "start_time": "2024-10-13T19:07:24.491Z"
   },
   {
    "duration": 10,
    "start_time": "2024-10-13T19:07:24.521Z"
   },
   {
    "duration": 36,
    "start_time": "2024-10-13T19:07:24.533Z"
   },
   {
    "duration": 32,
    "start_time": "2024-10-13T19:07:24.571Z"
   },
   {
    "duration": 13,
    "start_time": "2024-10-13T19:07:24.604Z"
   },
   {
    "duration": 7,
    "start_time": "2024-10-13T19:07:24.618Z"
   },
   {
    "duration": 19,
    "start_time": "2024-10-13T19:07:24.626Z"
   },
   {
    "duration": 9,
    "start_time": "2024-10-13T19:07:24.646Z"
   },
   {
    "duration": 19,
    "start_time": "2024-10-13T19:07:24.656Z"
   },
   {
    "duration": 5,
    "start_time": "2024-10-13T19:07:24.676Z"
   },
   {
    "duration": 151,
    "start_time": "2024-10-13T19:07:24.683Z"
   },
   {
    "duration": 16,
    "start_time": "2024-10-13T19:07:24.836Z"
   },
   {
    "duration": 9,
    "start_time": "2024-10-13T19:07:24.854Z"
   },
   {
    "duration": 7,
    "start_time": "2024-10-13T19:07:24.865Z"
   },
   {
    "duration": 11,
    "start_time": "2024-10-13T19:07:24.873Z"
   },
   {
    "duration": 216,
    "start_time": "2024-10-13T19:07:24.885Z"
   },
   {
    "duration": 32,
    "start_time": "2024-10-13T19:07:25.103Z"
   },
   {
    "duration": 15,
    "start_time": "2024-10-13T19:07:25.137Z"
   },
   {
    "duration": 158,
    "start_time": "2024-10-13T19:07:25.153Z"
   },
   {
    "duration": 13,
    "start_time": "2024-10-13T19:07:25.313Z"
   },
   {
    "duration": 54,
    "start_time": "2024-10-13T19:07:25.328Z"
   },
   {
    "duration": 5,
    "start_time": "2024-10-13T19:07:25.384Z"
   },
   {
    "duration": 125,
    "start_time": "2024-10-13T19:07:25.390Z"
   },
   {
    "duration": 11,
    "start_time": "2024-10-13T19:07:25.517Z"
   },
   {
    "duration": 210,
    "start_time": "2024-10-13T19:07:25.530Z"
   },
   {
    "duration": 3,
    "start_time": "2024-10-13T19:07:25.741Z"
   },
   {
    "duration": 9,
    "start_time": "2024-10-13T19:07:25.746Z"
   },
   {
    "duration": 8,
    "start_time": "2024-10-13T19:07:25.756Z"
   },
   {
    "duration": 4,
    "start_time": "2024-10-13T19:07:25.765Z"
   },
   {
    "duration": 316,
    "start_time": "2024-10-13T19:07:25.770Z"
   },
   {
    "duration": 13,
    "start_time": "2024-10-13T19:07:26.088Z"
   },
   {
    "duration": 72,
    "start_time": "2024-10-13T19:07:26.103Z"
   },
   {
    "duration": 168,
    "start_time": "2024-10-13T19:07:26.177Z"
   },
   {
    "duration": 8,
    "start_time": "2024-10-13T19:07:26.346Z"
   },
   {
    "duration": 286,
    "start_time": "2024-10-13T19:07:26.355Z"
   },
   {
    "duration": 30,
    "start_time": "2024-10-13T19:07:26.643Z"
   },
   {
    "duration": 20,
    "start_time": "2024-10-13T19:07:26.674Z"
   },
   {
    "duration": 37,
    "start_time": "2024-10-13T19:07:26.695Z"
   },
   {
    "duration": 165,
    "start_time": "2024-10-13T19:07:26.734Z"
   },
   {
    "duration": 159,
    "start_time": "2024-10-13T19:07:26.901Z"
   },
   {
    "duration": 17,
    "start_time": "2024-10-13T19:07:27.062Z"
   },
   {
    "duration": 121,
    "start_time": "2024-10-13T19:07:27.081Z"
   },
   {
    "duration": 59,
    "start_time": "2024-10-13T19:07:27.203Z"
   },
   {
    "duration": 5,
    "start_time": "2024-10-13T19:07:27.264Z"
   },
   {
    "duration": 17,
    "start_time": "2024-10-13T19:07:27.270Z"
   },
   {
    "duration": 20,
    "start_time": "2024-10-13T19:07:27.290Z"
   },
   {
    "duration": 71,
    "start_time": "2024-10-13T19:07:27.312Z"
   },
   {
    "duration": 30,
    "start_time": "2024-10-13T19:07:27.384Z"
   },
   {
    "duration": 109,
    "start_time": "2024-10-13T19:07:27.415Z"
   },
   {
    "duration": 0,
    "start_time": "2024-10-13T19:07:27.526Z"
   },
   {
    "duration": 0,
    "start_time": "2024-10-13T19:07:27.527Z"
   },
   {
    "duration": 7,
    "start_time": "2024-10-13T19:07:54.350Z"
   },
   {
    "duration": 1145,
    "start_time": "2024-10-13T19:18:02.863Z"
   },
   {
    "duration": 3,
    "start_time": "2024-10-13T19:18:04.010Z"
   },
   {
    "duration": 53,
    "start_time": "2024-10-13T19:18:04.014Z"
   },
   {
    "duration": 12,
    "start_time": "2024-10-13T19:18:04.069Z"
   },
   {
    "duration": 11,
    "start_time": "2024-10-13T19:18:04.083Z"
   },
   {
    "duration": 16,
    "start_time": "2024-10-13T19:18:04.096Z"
   },
   {
    "duration": 148,
    "start_time": "2024-10-13T19:18:04.113Z"
   },
   {
    "duration": 31,
    "start_time": "2024-10-13T19:18:04.263Z"
   },
   {
    "duration": 8,
    "start_time": "2024-10-13T19:18:04.296Z"
   },
   {
    "duration": 14,
    "start_time": "2024-10-13T19:18:04.307Z"
   },
   {
    "duration": 22,
    "start_time": "2024-10-13T19:18:04.323Z"
   },
   {
    "duration": 226,
    "start_time": "2024-10-13T19:18:04.347Z"
   },
   {
    "duration": 18,
    "start_time": "2024-10-13T19:18:04.575Z"
   },
   {
    "duration": 6,
    "start_time": "2024-10-13T19:18:04.594Z"
   },
   {
    "duration": 10,
    "start_time": "2024-10-13T19:18:04.602Z"
   },
   {
    "duration": 21,
    "start_time": "2024-10-13T19:18:04.613Z"
   },
   {
    "duration": 31,
    "start_time": "2024-10-13T19:18:04.635Z"
   },
   {
    "duration": 12,
    "start_time": "2024-10-13T19:18:04.668Z"
   },
   {
    "duration": 9,
    "start_time": "2024-10-13T19:18:04.681Z"
   },
   {
    "duration": 12,
    "start_time": "2024-10-13T19:18:04.692Z"
   },
   {
    "duration": 5,
    "start_time": "2024-10-13T19:18:04.705Z"
   },
   {
    "duration": 12,
    "start_time": "2024-10-13T19:18:04.712Z"
   },
   {
    "duration": 41,
    "start_time": "2024-10-13T19:18:04.726Z"
   },
   {
    "duration": 19,
    "start_time": "2024-10-13T19:18:04.768Z"
   },
   {
    "duration": 4,
    "start_time": "2024-10-13T19:18:04.788Z"
   },
   {
    "duration": 8,
    "start_time": "2024-10-13T19:18:04.793Z"
   },
   {
    "duration": 7,
    "start_time": "2024-10-13T19:18:04.803Z"
   },
   {
    "duration": 5,
    "start_time": "2024-10-13T19:18:04.814Z"
   },
   {
    "duration": 40,
    "start_time": "2024-10-13T19:18:04.820Z"
   },
   {
    "duration": 12,
    "start_time": "2024-10-13T19:18:04.862Z"
   },
   {
    "duration": 5,
    "start_time": "2024-10-13T19:18:04.875Z"
   },
   {
    "duration": 16,
    "start_time": "2024-10-13T19:18:04.882Z"
   },
   {
    "duration": 5,
    "start_time": "2024-10-13T19:18:04.900Z"
   },
   {
    "duration": 13,
    "start_time": "2024-10-13T19:18:04.907Z"
   },
   {
    "duration": 15,
    "start_time": "2024-10-13T19:18:04.922Z"
   },
   {
    "duration": 37,
    "start_time": "2024-10-13T19:18:04.938Z"
   },
   {
    "duration": 13,
    "start_time": "2024-10-13T19:18:04.977Z"
   },
   {
    "duration": 18,
    "start_time": "2024-10-13T19:18:04.991Z"
   },
   {
    "duration": 8,
    "start_time": "2024-10-13T19:18:05.010Z"
   },
   {
    "duration": 8,
    "start_time": "2024-10-13T19:18:05.019Z"
   },
   {
    "duration": 23,
    "start_time": "2024-10-13T19:18:05.028Z"
   },
   {
    "duration": 142,
    "start_time": "2024-10-13T19:18:05.052Z"
   },
   {
    "duration": 16,
    "start_time": "2024-10-13T19:18:05.196Z"
   },
   {
    "duration": 55,
    "start_time": "2024-10-13T19:18:05.214Z"
   },
   {
    "duration": 17,
    "start_time": "2024-10-13T19:18:05.271Z"
   },
   {
    "duration": 3,
    "start_time": "2024-10-13T19:18:05.290Z"
   },
   {
    "duration": 205,
    "start_time": "2024-10-13T19:18:05.294Z"
   },
   {
    "duration": 23,
    "start_time": "2024-10-13T19:18:05.501Z"
   },
   {
    "duration": 9,
    "start_time": "2024-10-13T19:18:05.525Z"
   },
   {
    "duration": 141,
    "start_time": "2024-10-13T19:18:05.536Z"
   },
   {
    "duration": 6,
    "start_time": "2024-10-13T19:18:05.678Z"
   },
   {
    "duration": 15,
    "start_time": "2024-10-13T19:18:05.686Z"
   },
   {
    "duration": 29,
    "start_time": "2024-10-13T19:18:05.702Z"
   },
   {
    "duration": 161,
    "start_time": "2024-10-13T19:18:05.732Z"
   },
   {
    "duration": 11,
    "start_time": "2024-10-13T19:18:05.894Z"
   },
   {
    "duration": 190,
    "start_time": "2024-10-13T19:18:05.906Z"
   },
   {
    "duration": 3,
    "start_time": "2024-10-13T19:18:06.098Z"
   },
   {
    "duration": 20,
    "start_time": "2024-10-13T19:18:06.102Z"
   },
   {
    "duration": 26,
    "start_time": "2024-10-13T19:18:06.123Z"
   },
   {
    "duration": 77,
    "start_time": "2024-10-13T19:18:06.150Z"
   },
   {
    "duration": 281,
    "start_time": "2024-10-13T19:18:06.228Z"
   },
   {
    "duration": 20,
    "start_time": "2024-10-13T19:18:06.510Z"
   },
   {
    "duration": 12,
    "start_time": "2024-10-13T19:18:06.531Z"
   },
   {
    "duration": 174,
    "start_time": "2024-10-13T19:18:06.544Z"
   },
   {
    "duration": 8,
    "start_time": "2024-10-13T19:18:06.720Z"
   },
   {
    "duration": 299,
    "start_time": "2024-10-13T19:18:06.729Z"
   },
   {
    "duration": 31,
    "start_time": "2024-10-13T19:18:07.029Z"
   },
   {
    "duration": 22,
    "start_time": "2024-10-13T19:18:07.062Z"
   },
   {
    "duration": 35,
    "start_time": "2024-10-13T19:18:07.086Z"
   },
   {
    "duration": 180,
    "start_time": "2024-10-13T19:18:07.123Z"
   },
   {
    "duration": 174,
    "start_time": "2024-10-13T19:18:07.305Z"
   },
   {
    "duration": 19,
    "start_time": "2024-10-13T19:18:07.481Z"
   },
   {
    "duration": 33,
    "start_time": "2024-10-13T19:18:07.502Z"
   },
   {
    "duration": 9,
    "start_time": "2024-10-13T19:18:07.537Z"
   },
   {
    "duration": 5,
    "start_time": "2024-10-13T19:18:07.548Z"
   },
   {
    "duration": 7,
    "start_time": "2024-10-13T19:18:07.555Z"
   },
   {
    "duration": 58,
    "start_time": "2024-10-13T19:18:07.564Z"
   },
   {
    "duration": 30,
    "start_time": "2024-10-13T19:18:07.623Z"
   },
   {
    "duration": 5,
    "start_time": "2024-10-13T19:18:07.654Z"
   },
   {
    "duration": 53,
    "start_time": "2024-10-13T19:18:07.661Z"
   },
   {
    "duration": 110,
    "start_time": "2024-10-13T19:21:32.040Z"
   },
   {
    "duration": 126,
    "start_time": "2024-10-13T19:21:55.990Z"
   },
   {
    "duration": 5,
    "start_time": "2024-10-13T19:34:15.438Z"
   },
   {
    "duration": 5,
    "start_time": "2024-10-13T19:34:21.757Z"
   },
   {
    "duration": 101,
    "start_time": "2024-10-13T19:39:55.737Z"
   },
   {
    "duration": 128,
    "start_time": "2024-10-13T19:40:10.229Z"
   },
   {
    "duration": 102,
    "start_time": "2024-10-13T19:40:35.791Z"
   },
   {
    "duration": 214,
    "start_time": "2024-10-13T19:40:50.739Z"
   },
   {
    "duration": 153,
    "start_time": "2024-10-13T19:41:23.863Z"
   },
   {
    "duration": 102,
    "start_time": "2024-10-13T19:42:26.772Z"
   },
   {
    "duration": 839,
    "start_time": "2024-10-13T19:48:31.309Z"
   },
   {
    "duration": 102,
    "start_time": "2024-10-13T19:52:38.920Z"
   },
   {
    "duration": 791,
    "start_time": "2024-10-13T19:53:53.802Z"
   },
   {
    "duration": 798,
    "start_time": "2024-10-13T19:54:39.988Z"
   },
   {
    "duration": 18,
    "start_time": "2024-10-13T19:56:28.746Z"
   },
   {
    "duration": 767,
    "start_time": "2024-10-13T19:56:55.146Z"
   },
   {
    "duration": 767,
    "start_time": "2024-10-13T19:58:37.664Z"
   },
   {
    "duration": 23,
    "start_time": "2024-10-13T19:58:46.745Z"
   },
   {
    "duration": 19,
    "start_time": "2024-10-13T19:59:10.952Z"
   },
   {
    "duration": 15,
    "start_time": "2024-10-13T20:00:56.056Z"
   },
   {
    "duration": 21,
    "start_time": "2024-10-13T20:02:08.737Z"
   },
   {
    "duration": 9,
    "start_time": "2024-10-13T20:04:13.954Z"
   },
   {
    "duration": 8,
    "start_time": "2024-10-13T20:04:39.658Z"
   },
   {
    "duration": 7,
    "start_time": "2024-10-13T20:04:45.266Z"
   },
   {
    "duration": 8,
    "start_time": "2024-10-13T20:04:49.743Z"
   },
   {
    "duration": 9,
    "start_time": "2024-10-13T20:06:16.494Z"
   },
   {
    "duration": 8,
    "start_time": "2024-10-13T20:06:40.941Z"
   },
   {
    "duration": 15,
    "start_time": "2024-10-13T20:08:23.624Z"
   },
   {
    "duration": 3,
    "start_time": "2024-10-13T20:09:46.743Z"
   },
   {
    "duration": 8,
    "start_time": "2024-10-13T20:09:47.361Z"
   },
   {
    "duration": 8,
    "start_time": "2024-10-13T20:09:57.258Z"
   },
   {
    "duration": 1180,
    "start_time": "2024-10-13T20:10:07.617Z"
   },
   {
    "duration": 3,
    "start_time": "2024-10-13T20:10:22.497Z"
   },
   {
    "duration": 143,
    "start_time": "2024-10-13T20:10:33.336Z"
   },
   {
    "duration": 19,
    "start_time": "2024-10-13T20:10:43.615Z"
   },
   {
    "duration": 791,
    "start_time": "2024-10-13T20:12:57.865Z"
   },
   {
    "duration": 1108,
    "start_time": "2024-10-13T20:13:13.922Z"
   },
   {
    "duration": 2,
    "start_time": "2024-10-13T20:13:15.032Z"
   },
   {
    "duration": 61,
    "start_time": "2024-10-13T20:13:15.036Z"
   },
   {
    "duration": 11,
    "start_time": "2024-10-13T20:13:15.099Z"
   },
   {
    "duration": 18,
    "start_time": "2024-10-13T20:13:15.112Z"
   },
   {
    "duration": 42,
    "start_time": "2024-10-13T20:13:15.132Z"
   },
   {
    "duration": 246,
    "start_time": "2024-10-13T20:13:15.175Z"
   },
   {
    "duration": 30,
    "start_time": "2024-10-13T20:13:15.423Z"
   },
   {
    "duration": 13,
    "start_time": "2024-10-13T20:13:15.454Z"
   },
   {
    "duration": 12,
    "start_time": "2024-10-13T20:13:15.469Z"
   },
   {
    "duration": 20,
    "start_time": "2024-10-13T20:13:15.482Z"
   },
   {
    "duration": 224,
    "start_time": "2024-10-13T20:13:15.504Z"
   },
   {
    "duration": 18,
    "start_time": "2024-10-13T20:13:15.729Z"
   },
   {
    "duration": 6,
    "start_time": "2024-10-13T20:13:15.749Z"
   },
   {
    "duration": 9,
    "start_time": "2024-10-13T20:13:15.756Z"
   },
   {
    "duration": 14,
    "start_time": "2024-10-13T20:13:15.766Z"
   },
   {
    "duration": 10,
    "start_time": "2024-10-13T20:13:15.781Z"
   },
   {
    "duration": 7,
    "start_time": "2024-10-13T20:13:15.792Z"
   },
   {
    "duration": 24,
    "start_time": "2024-10-13T20:13:15.800Z"
   },
   {
    "duration": 9,
    "start_time": "2024-10-13T20:13:15.825Z"
   },
   {
    "duration": 4,
    "start_time": "2024-10-13T20:13:15.835Z"
   },
   {
    "duration": 8,
    "start_time": "2024-10-13T20:13:15.840Z"
   },
   {
    "duration": 9,
    "start_time": "2024-10-13T20:13:15.850Z"
   },
   {
    "duration": 5,
    "start_time": "2024-10-13T20:13:15.861Z"
   },
   {
    "duration": 3,
    "start_time": "2024-10-13T20:13:15.868Z"
   },
   {
    "duration": 53,
    "start_time": "2024-10-13T20:13:15.872Z"
   },
   {
    "duration": 8,
    "start_time": "2024-10-13T20:13:15.926Z"
   },
   {
    "duration": 6,
    "start_time": "2024-10-13T20:13:15.935Z"
   },
   {
    "duration": 5,
    "start_time": "2024-10-13T20:13:15.942Z"
   },
   {
    "duration": 12,
    "start_time": "2024-10-13T20:13:15.948Z"
   },
   {
    "duration": 4,
    "start_time": "2024-10-13T20:13:15.961Z"
   },
   {
    "duration": 13,
    "start_time": "2024-10-13T20:13:15.967Z"
   },
   {
    "duration": 42,
    "start_time": "2024-10-13T20:13:15.981Z"
   },
   {
    "duration": 14,
    "start_time": "2024-10-13T20:13:16.024Z"
   },
   {
    "duration": 16,
    "start_time": "2024-10-13T20:13:16.039Z"
   },
   {
    "duration": 13,
    "start_time": "2024-10-13T20:13:16.057Z"
   },
   {
    "duration": 7,
    "start_time": "2024-10-13T20:13:16.071Z"
   },
   {
    "duration": 18,
    "start_time": "2024-10-13T20:13:16.079Z"
   },
   {
    "duration": 27,
    "start_time": "2024-10-13T20:13:16.098Z"
   },
   {
    "duration": 9,
    "start_time": "2024-10-13T20:13:16.126Z"
   },
   {
    "duration": 9,
    "start_time": "2024-10-13T20:13:16.139Z"
   },
   {
    "duration": 149,
    "start_time": "2024-10-13T20:13:16.149Z"
   },
   {
    "duration": 29,
    "start_time": "2024-10-13T20:13:16.300Z"
   },
   {
    "duration": 49,
    "start_time": "2024-10-13T20:13:16.331Z"
   },
   {
    "duration": 6,
    "start_time": "2024-10-13T20:13:16.381Z"
   },
   {
    "duration": 2,
    "start_time": "2024-10-13T20:13:16.389Z"
   },
   {
    "duration": 191,
    "start_time": "2024-10-13T20:13:16.393Z"
   },
   {
    "duration": 21,
    "start_time": "2024-10-13T20:13:16.586Z"
   },
   {
    "duration": 15,
    "start_time": "2024-10-13T20:13:16.608Z"
   },
   {
    "duration": 183,
    "start_time": "2024-10-13T20:13:16.624Z"
   },
   {
    "duration": 12,
    "start_time": "2024-10-13T20:13:16.809Z"
   },
   {
    "duration": 11,
    "start_time": "2024-10-13T20:13:16.823Z"
   },
   {
    "duration": 5,
    "start_time": "2024-10-13T20:13:16.836Z"
   },
   {
    "duration": 137,
    "start_time": "2024-10-13T20:13:16.842Z"
   },
   {
    "duration": 224,
    "start_time": "2024-10-13T20:13:16.980Z"
   },
   {
    "duration": 20,
    "start_time": "2024-10-13T20:13:17.205Z"
   },
   {
    "duration": 163,
    "start_time": "2024-10-13T20:13:17.227Z"
   },
   {
    "duration": 107,
    "start_time": "2024-10-13T20:13:17.392Z"
   },
   {
    "duration": 2,
    "start_time": "2024-10-13T20:13:17.501Z"
   },
   {
    "duration": 17,
    "start_time": "2024-10-13T20:13:17.504Z"
   },
   {
    "duration": 4,
    "start_time": "2024-10-13T20:13:17.522Z"
   },
   {
    "duration": 4,
    "start_time": "2024-10-13T20:13:17.527Z"
   },
   {
    "duration": 277,
    "start_time": "2024-10-13T20:13:17.533Z"
   },
   {
    "duration": 20,
    "start_time": "2024-10-13T20:13:17.811Z"
   },
   {
    "duration": 10,
    "start_time": "2024-10-13T20:13:17.832Z"
   },
   {
    "duration": 185,
    "start_time": "2024-10-13T20:13:17.844Z"
   },
   {
    "duration": 8,
    "start_time": "2024-10-13T20:13:18.030Z"
   },
   {
    "duration": 287,
    "start_time": "2024-10-13T20:13:18.039Z"
   },
   {
    "duration": 29,
    "start_time": "2024-10-13T20:13:18.328Z"
   },
   {
    "duration": 53,
    "start_time": "2024-10-13T20:13:18.358Z"
   },
   {
    "duration": 20,
    "start_time": "2024-10-13T20:13:18.412Z"
   },
   {
    "duration": 173,
    "start_time": "2024-10-13T20:13:18.433Z"
   },
   {
    "duration": 157,
    "start_time": "2024-10-13T20:13:18.607Z"
   },
   {
    "duration": 756,
    "start_time": "2024-10-13T20:13:18.765Z"
   },
   {
    "duration": 3,
    "start_time": "2024-10-13T20:13:19.523Z"
   },
   {
    "duration": 143,
    "start_time": "2024-10-13T20:13:19.528Z"
   },
   {
    "duration": 19,
    "start_time": "2024-10-13T20:13:19.673Z"
   },
   {
    "duration": 34,
    "start_time": "2024-10-13T20:13:19.693Z"
   },
   {
    "duration": 5,
    "start_time": "2024-10-13T20:13:19.729Z"
   },
   {
    "duration": 5,
    "start_time": "2024-10-13T20:13:19.736Z"
   },
   {
    "duration": 2,
    "start_time": "2024-10-13T20:13:19.743Z"
   },
   {
    "duration": 12,
    "start_time": "2024-10-13T20:13:19.747Z"
   },
   {
    "duration": 219,
    "start_time": "2024-10-13T20:16:49.986Z"
   },
   {
    "duration": 285,
    "start_time": "2024-10-13T20:17:06.059Z"
   },
   {
    "duration": 2042,
    "start_time": "2024-10-13T20:30:18.456Z"
   },
   {
    "duration": 2262,
    "start_time": "2024-10-13T20:34:03.095Z"
   },
   {
    "duration": 2229,
    "start_time": "2024-10-13T20:34:54.823Z"
   },
   {
    "duration": 2166,
    "start_time": "2024-10-13T20:35:12.016Z"
   },
   {
    "duration": 402,
    "start_time": "2024-10-13T20:40:52.161Z"
   },
   {
    "duration": 310,
    "start_time": "2024-10-13T20:41:11.011Z"
   },
   {
    "duration": 1120,
    "start_time": "2024-10-13T20:42:43.089Z"
   },
   {
    "duration": 10,
    "start_time": "2024-10-13T20:42:44.211Z"
   },
   {
    "duration": 35,
    "start_time": "2024-10-13T20:42:44.222Z"
   },
   {
    "duration": 11,
    "start_time": "2024-10-13T20:42:44.258Z"
   },
   {
    "duration": 20,
    "start_time": "2024-10-13T20:42:44.270Z"
   },
   {
    "duration": 49,
    "start_time": "2024-10-13T20:42:44.292Z"
   },
   {
    "duration": 154,
    "start_time": "2024-10-13T20:42:44.342Z"
   },
   {
    "duration": 29,
    "start_time": "2024-10-13T20:42:44.498Z"
   },
   {
    "duration": 10,
    "start_time": "2024-10-13T20:42:44.528Z"
   },
   {
    "duration": 27,
    "start_time": "2024-10-13T20:42:44.541Z"
   },
   {
    "duration": 46,
    "start_time": "2024-10-13T20:42:44.570Z"
   },
   {
    "duration": 217,
    "start_time": "2024-10-13T20:42:44.618Z"
   },
   {
    "duration": 18,
    "start_time": "2024-10-13T20:42:44.836Z"
   },
   {
    "duration": 6,
    "start_time": "2024-10-13T20:42:44.855Z"
   },
   {
    "duration": 19,
    "start_time": "2024-10-13T20:42:44.863Z"
   },
   {
    "duration": 36,
    "start_time": "2024-10-13T20:42:44.883Z"
   },
   {
    "duration": 10,
    "start_time": "2024-10-13T20:42:44.920Z"
   },
   {
    "duration": 16,
    "start_time": "2024-10-13T20:42:44.931Z"
   },
   {
    "duration": 44,
    "start_time": "2024-10-13T20:42:44.948Z"
   },
   {
    "duration": 46,
    "start_time": "2024-10-13T20:42:44.993Z"
   },
   {
    "duration": 27,
    "start_time": "2024-10-13T20:42:45.040Z"
   },
   {
    "duration": 26,
    "start_time": "2024-10-13T20:42:45.068Z"
   },
   {
    "duration": 23,
    "start_time": "2024-10-13T20:42:45.095Z"
   },
   {
    "duration": 8,
    "start_time": "2024-10-13T20:42:45.119Z"
   },
   {
    "duration": 28,
    "start_time": "2024-10-13T20:42:45.128Z"
   },
   {
    "duration": 29,
    "start_time": "2024-10-13T20:42:45.157Z"
   },
   {
    "duration": 13,
    "start_time": "2024-10-13T20:42:45.187Z"
   },
   {
    "duration": 12,
    "start_time": "2024-10-13T20:42:45.204Z"
   },
   {
    "duration": 36,
    "start_time": "2024-10-13T20:42:45.217Z"
   },
   {
    "duration": 23,
    "start_time": "2024-10-13T20:42:45.254Z"
   },
   {
    "duration": 24,
    "start_time": "2024-10-13T20:42:45.278Z"
   },
   {
    "duration": 45,
    "start_time": "2024-10-13T20:42:45.304Z"
   },
   {
    "duration": 23,
    "start_time": "2024-10-13T20:42:45.351Z"
   },
   {
    "duration": 36,
    "start_time": "2024-10-13T20:42:45.376Z"
   },
   {
    "duration": 27,
    "start_time": "2024-10-13T20:42:45.414Z"
   },
   {
    "duration": 25,
    "start_time": "2024-10-13T20:42:45.443Z"
   },
   {
    "duration": 80,
    "start_time": "2024-10-13T20:42:45.469Z"
   },
   {
    "duration": 21,
    "start_time": "2024-10-13T20:42:45.550Z"
   },
   {
    "duration": 9,
    "start_time": "2024-10-13T20:42:45.573Z"
   },
   {
    "duration": 13,
    "start_time": "2024-10-13T20:42:45.584Z"
   },
   {
    "duration": 16,
    "start_time": "2024-10-13T20:42:45.598Z"
   },
   {
    "duration": 136,
    "start_time": "2024-10-13T20:42:45.616Z"
   },
   {
    "duration": 16,
    "start_time": "2024-10-13T20:42:45.754Z"
   },
   {
    "duration": 8,
    "start_time": "2024-10-13T20:42:45.771Z"
   },
   {
    "duration": 6,
    "start_time": "2024-10-13T20:42:45.781Z"
   },
   {
    "duration": 8,
    "start_time": "2024-10-13T20:42:45.788Z"
   },
   {
    "duration": 206,
    "start_time": "2024-10-13T20:42:45.797Z"
   },
   {
    "duration": 24,
    "start_time": "2024-10-13T20:42:46.004Z"
   },
   {
    "duration": 4,
    "start_time": "2024-10-13T20:42:46.029Z"
   },
   {
    "duration": 113,
    "start_time": "2024-10-13T20:42:46.035Z"
   },
   {
    "duration": 6,
    "start_time": "2024-10-13T20:42:46.149Z"
   },
   {
    "duration": 12,
    "start_time": "2024-10-13T20:42:46.156Z"
   },
   {
    "duration": 10,
    "start_time": "2024-10-13T20:42:46.169Z"
   },
   {
    "duration": 128,
    "start_time": "2024-10-13T20:42:46.180Z"
   },
   {
    "duration": 213,
    "start_time": "2024-10-13T20:42:46.310Z"
   },
   {
    "duration": 11,
    "start_time": "2024-10-13T20:42:46.524Z"
   },
   {
    "duration": 138,
    "start_time": "2024-10-13T20:42:46.537Z"
   },
   {
    "duration": 112,
    "start_time": "2024-10-13T20:42:46.676Z"
   },
   {
    "duration": 2,
    "start_time": "2024-10-13T20:42:46.790Z"
   },
   {
    "duration": 46,
    "start_time": "2024-10-13T20:42:46.794Z"
   },
   {
    "duration": 4,
    "start_time": "2024-10-13T20:42:46.841Z"
   },
   {
    "duration": 4,
    "start_time": "2024-10-13T20:42:46.846Z"
   },
   {
    "duration": 259,
    "start_time": "2024-10-13T20:42:46.852Z"
   },
   {
    "duration": 17,
    "start_time": "2024-10-13T20:42:47.113Z"
   },
   {
    "duration": 9,
    "start_time": "2024-10-13T20:42:47.132Z"
   },
   {
    "duration": 192,
    "start_time": "2024-10-13T20:42:47.142Z"
   },
   {
    "duration": 8,
    "start_time": "2024-10-13T20:42:47.336Z"
   },
   {
    "duration": 286,
    "start_time": "2024-10-13T20:42:47.345Z"
   },
   {
    "duration": 30,
    "start_time": "2024-10-13T20:42:47.632Z"
   },
   {
    "duration": 21,
    "start_time": "2024-10-13T20:42:47.664Z"
   },
   {
    "duration": 42,
    "start_time": "2024-10-13T20:42:47.686Z"
   },
   {
    "duration": 168,
    "start_time": "2024-10-13T20:42:47.730Z"
   },
   {
    "duration": 159,
    "start_time": "2024-10-13T20:42:47.900Z"
   },
   {
    "duration": 752,
    "start_time": "2024-10-13T20:42:48.060Z"
   },
   {
    "duration": 20,
    "start_time": "2024-10-13T20:42:48.813Z"
   },
   {
    "duration": 40,
    "start_time": "2024-10-13T20:42:48.834Z"
   },
   {
    "duration": 14,
    "start_time": "2024-10-13T20:42:48.875Z"
   },
   {
    "duration": 34,
    "start_time": "2024-10-13T20:42:48.890Z"
   },
   {
    "duration": 21,
    "start_time": "2024-10-13T20:42:48.925Z"
   },
   {
    "duration": 32,
    "start_time": "2024-10-13T20:42:48.947Z"
   },
   {
    "duration": 220,
    "start_time": "2024-10-13T20:42:48.980Z"
   },
   {
    "duration": 0,
    "start_time": "2024-10-13T20:42:49.201Z"
   },
   {
    "duration": 126,
    "start_time": "2024-10-13T20:43:06.929Z"
   },
   {
    "duration": 122,
    "start_time": "2024-10-13T20:43:25.419Z"
   },
   {
    "duration": 2114,
    "start_time": "2024-10-13T20:43:35.173Z"
   },
   {
    "duration": 312,
    "start_time": "2024-10-13T20:44:02.392Z"
   },
   {
    "duration": 322,
    "start_time": "2024-10-13T20:44:14.606Z"
   },
   {
    "duration": 236,
    "start_time": "2024-10-13T20:44:45.565Z"
   },
   {
    "duration": 253,
    "start_time": "2024-10-13T20:48:51.451Z"
   },
   {
    "duration": 11,
    "start_time": "2024-10-13T20:49:14.280Z"
   },
   {
    "duration": 280,
    "start_time": "2024-10-13T20:49:21.393Z"
   },
   {
    "duration": 273,
    "start_time": "2024-10-13T20:49:41.529Z"
   },
   {
    "duration": 276,
    "start_time": "2024-10-13T20:49:53.134Z"
   },
   {
    "duration": 265,
    "start_time": "2024-10-13T20:50:05.135Z"
   },
   {
    "duration": 1111,
    "start_time": "2024-10-13T20:59:40.927Z"
   },
   {
    "duration": 2,
    "start_time": "2024-10-13T20:59:42.040Z"
   },
   {
    "duration": 49,
    "start_time": "2024-10-13T20:59:42.043Z"
   },
   {
    "duration": 11,
    "start_time": "2024-10-13T20:59:42.094Z"
   },
   {
    "duration": 10,
    "start_time": "2024-10-13T20:59:42.107Z"
   },
   {
    "duration": 26,
    "start_time": "2024-10-13T20:59:42.118Z"
   },
   {
    "duration": 140,
    "start_time": "2024-10-13T20:59:42.145Z"
   },
   {
    "duration": 29,
    "start_time": "2024-10-13T20:59:42.287Z"
   },
   {
    "duration": 8,
    "start_time": "2024-10-13T20:59:42.317Z"
   },
   {
    "duration": 10,
    "start_time": "2024-10-13T20:59:42.327Z"
   },
   {
    "duration": 16,
    "start_time": "2024-10-13T20:59:42.338Z"
   },
   {
    "duration": 239,
    "start_time": "2024-10-13T20:59:42.355Z"
   },
   {
    "duration": 18,
    "start_time": "2024-10-13T20:59:42.596Z"
   },
   {
    "duration": 5,
    "start_time": "2024-10-13T20:59:42.616Z"
   },
   {
    "duration": 8,
    "start_time": "2024-10-13T20:59:42.623Z"
   },
   {
    "duration": 14,
    "start_time": "2024-10-13T20:59:42.633Z"
   },
   {
    "duration": 16,
    "start_time": "2024-10-13T20:59:42.648Z"
   },
   {
    "duration": 6,
    "start_time": "2024-10-13T20:59:42.665Z"
   },
   {
    "duration": 8,
    "start_time": "2024-10-13T20:59:42.672Z"
   },
   {
    "duration": 9,
    "start_time": "2024-10-13T20:59:42.681Z"
   },
   {
    "duration": 29,
    "start_time": "2024-10-13T20:59:42.692Z"
   },
   {
    "duration": 8,
    "start_time": "2024-10-13T20:59:42.722Z"
   },
   {
    "duration": 15,
    "start_time": "2024-10-13T20:59:42.731Z"
   },
   {
    "duration": 7,
    "start_time": "2024-10-13T20:59:42.747Z"
   },
   {
    "duration": 3,
    "start_time": "2024-10-13T20:59:42.756Z"
   },
   {
    "duration": 9,
    "start_time": "2024-10-13T20:59:42.760Z"
   },
   {
    "duration": 7,
    "start_time": "2024-10-13T20:59:42.770Z"
   },
   {
    "duration": 5,
    "start_time": "2024-10-13T20:59:42.781Z"
   },
   {
    "duration": 37,
    "start_time": "2024-10-13T20:59:42.787Z"
   },
   {
    "duration": 15,
    "start_time": "2024-10-13T20:59:42.826Z"
   },
   {
    "duration": 5,
    "start_time": "2024-10-13T20:59:42.843Z"
   },
   {
    "duration": 99,
    "start_time": "2024-10-13T20:59:42.850Z"
   },
   {
    "duration": 5,
    "start_time": "2024-10-13T20:59:42.951Z"
   },
   {
    "duration": 11,
    "start_time": "2024-10-13T20:59:42.957Z"
   },
   {
    "duration": 13,
    "start_time": "2024-10-13T20:59:42.969Z"
   },
   {
    "duration": 10,
    "start_time": "2024-10-13T20:59:42.984Z"
   },
   {
    "duration": 8,
    "start_time": "2024-10-13T20:59:42.995Z"
   },
   {
    "duration": 34,
    "start_time": "2024-10-13T20:59:43.004Z"
   },
   {
    "duration": 10,
    "start_time": "2024-10-13T20:59:43.039Z"
   },
   {
    "duration": 9,
    "start_time": "2024-10-13T20:59:43.050Z"
   },
   {
    "duration": 6,
    "start_time": "2024-10-13T20:59:43.061Z"
   },
   {
    "duration": 158,
    "start_time": "2024-10-13T20:59:43.068Z"
   },
   {
    "duration": 16,
    "start_time": "2024-10-13T20:59:43.228Z"
   },
   {
    "duration": 10,
    "start_time": "2024-10-13T20:59:43.246Z"
   },
   {
    "duration": 8,
    "start_time": "2024-10-13T20:59:43.257Z"
   },
   {
    "duration": 4,
    "start_time": "2024-10-13T20:59:43.266Z"
   },
   {
    "duration": 225,
    "start_time": "2024-10-13T20:59:43.271Z"
   },
   {
    "duration": 30,
    "start_time": "2024-10-13T20:59:43.497Z"
   },
   {
    "duration": 5,
    "start_time": "2024-10-13T20:59:43.529Z"
   },
   {
    "duration": 189,
    "start_time": "2024-10-13T20:59:43.536Z"
   },
   {
    "duration": 7,
    "start_time": "2024-10-13T20:59:43.727Z"
   },
   {
    "duration": 12,
    "start_time": "2024-10-13T20:59:43.735Z"
   },
   {
    "duration": 14,
    "start_time": "2024-10-13T20:59:43.749Z"
   },
   {
    "duration": 140,
    "start_time": "2024-10-13T20:59:43.765Z"
   },
   {
    "duration": 225,
    "start_time": "2024-10-13T20:59:43.906Z"
   },
   {
    "duration": 10,
    "start_time": "2024-10-13T20:59:44.133Z"
   },
   {
    "duration": 140,
    "start_time": "2024-10-13T20:59:44.145Z"
   },
   {
    "duration": 112,
    "start_time": "2024-10-13T20:59:44.287Z"
   },
   {
    "duration": 3,
    "start_time": "2024-10-13T20:59:44.401Z"
   },
   {
    "duration": 22,
    "start_time": "2024-10-13T20:59:44.406Z"
   },
   {
    "duration": 14,
    "start_time": "2024-10-13T20:59:44.430Z"
   },
   {
    "duration": 4,
    "start_time": "2024-10-13T20:59:44.446Z"
   },
   {
    "duration": 352,
    "start_time": "2024-10-13T20:59:44.452Z"
   },
   {
    "duration": 21,
    "start_time": "2024-10-13T20:59:44.806Z"
   },
   {
    "duration": 11,
    "start_time": "2024-10-13T20:59:44.828Z"
   },
   {
    "duration": 186,
    "start_time": "2024-10-13T20:59:44.841Z"
   },
   {
    "duration": 9,
    "start_time": "2024-10-13T20:59:45.028Z"
   },
   {
    "duration": 297,
    "start_time": "2024-10-13T20:59:45.038Z"
   },
   {
    "duration": 31,
    "start_time": "2024-10-13T20:59:45.336Z"
   },
   {
    "duration": 22,
    "start_time": "2024-10-13T20:59:45.369Z"
   },
   {
    "duration": 40,
    "start_time": "2024-10-13T20:59:45.393Z"
   },
   {
    "duration": 171,
    "start_time": "2024-10-13T20:59:45.434Z"
   },
   {
    "duration": 180,
    "start_time": "2024-10-13T20:59:45.606Z"
   },
   {
    "duration": 745,
    "start_time": "2024-10-13T20:59:45.787Z"
   },
   {
    "duration": 14,
    "start_time": "2024-10-13T20:59:46.534Z"
   },
   {
    "duration": 20,
    "start_time": "2024-10-13T20:59:46.550Z"
   },
   {
    "duration": 5,
    "start_time": "2024-10-13T20:59:46.571Z"
   },
   {
    "duration": 7,
    "start_time": "2024-10-13T20:59:46.577Z"
   },
   {
    "duration": 4,
    "start_time": "2024-10-13T20:59:46.586Z"
   },
   {
    "duration": 39,
    "start_time": "2024-10-13T20:59:46.591Z"
   },
   {
    "duration": 2199,
    "start_time": "2024-10-13T20:59:46.631Z"
   },
   {
    "duration": 275,
    "start_time": "2024-10-13T20:59:48.835Z"
   },
   {
    "duration": 1116,
    "start_time": "2024-10-13T21:01:03.198Z"
   },
   {
    "duration": 5,
    "start_time": "2024-10-13T21:01:04.316Z"
   },
   {
    "duration": 34,
    "start_time": "2024-10-13T21:01:04.322Z"
   },
   {
    "duration": 10,
    "start_time": "2024-10-13T21:01:04.358Z"
   },
   {
    "duration": 14,
    "start_time": "2024-10-13T21:01:04.370Z"
   },
   {
    "duration": 27,
    "start_time": "2024-10-13T21:01:04.385Z"
   },
   {
    "duration": 137,
    "start_time": "2024-10-13T21:01:04.413Z"
   },
   {
    "duration": 29,
    "start_time": "2024-10-13T21:01:04.551Z"
   },
   {
    "duration": 9,
    "start_time": "2024-10-13T21:01:04.582Z"
   },
   {
    "duration": 25,
    "start_time": "2024-10-13T21:01:04.593Z"
   },
   {
    "duration": 18,
    "start_time": "2024-10-13T21:01:04.619Z"
   },
   {
    "duration": 255,
    "start_time": "2024-10-13T21:01:04.639Z"
   },
   {
    "duration": 18,
    "start_time": "2024-10-13T21:01:04.896Z"
   },
   {
    "duration": 51,
    "start_time": "2024-10-13T21:01:04.916Z"
   },
   {
    "duration": 25,
    "start_time": "2024-10-13T21:01:04.968Z"
   },
   {
    "duration": 17,
    "start_time": "2024-10-13T21:01:04.995Z"
   },
   {
    "duration": 10,
    "start_time": "2024-10-13T21:01:05.013Z"
   },
   {
    "duration": 26,
    "start_time": "2024-10-13T21:01:05.024Z"
   },
   {
    "duration": 15,
    "start_time": "2024-10-13T21:01:05.052Z"
   },
   {
    "duration": 15,
    "start_time": "2024-10-13T21:01:05.069Z"
   },
   {
    "duration": 5,
    "start_time": "2024-10-13T21:01:05.086Z"
   },
   {
    "duration": 14,
    "start_time": "2024-10-13T21:01:05.092Z"
   },
   {
    "duration": 13,
    "start_time": "2024-10-13T21:01:05.107Z"
   },
   {
    "duration": 12,
    "start_time": "2024-10-13T21:01:05.122Z"
   },
   {
    "duration": 27,
    "start_time": "2024-10-13T21:01:05.135Z"
   },
   {
    "duration": 19,
    "start_time": "2024-10-13T21:01:05.163Z"
   },
   {
    "duration": 14,
    "start_time": "2024-10-13T21:01:05.183Z"
   },
   {
    "duration": 5,
    "start_time": "2024-10-13T21:01:05.201Z"
   },
   {
    "duration": 17,
    "start_time": "2024-10-13T21:01:05.207Z"
   },
   {
    "duration": 48,
    "start_time": "2024-10-13T21:01:05.226Z"
   },
   {
    "duration": 16,
    "start_time": "2024-10-13T21:01:05.275Z"
   },
   {
    "duration": 26,
    "start_time": "2024-10-13T21:01:05.292Z"
   },
   {
    "duration": 15,
    "start_time": "2024-10-13T21:01:05.320Z"
   },
   {
    "duration": 53,
    "start_time": "2024-10-13T21:01:05.336Z"
   },
   {
    "duration": 19,
    "start_time": "2024-10-13T21:01:05.391Z"
   },
   {
    "duration": 25,
    "start_time": "2024-10-13T21:01:05.412Z"
   },
   {
    "duration": 28,
    "start_time": "2024-10-13T21:01:05.439Z"
   },
   {
    "duration": 30,
    "start_time": "2024-10-13T21:01:05.468Z"
   },
   {
    "duration": 11,
    "start_time": "2024-10-13T21:01:05.500Z"
   },
   {
    "duration": 34,
    "start_time": "2024-10-13T21:01:05.512Z"
   },
   {
    "duration": 122,
    "start_time": "2024-10-13T21:01:05.548Z"
   },
   {
    "duration": 155,
    "start_time": "2024-10-13T21:01:05.671Z"
   },
   {
    "duration": 15,
    "start_time": "2024-10-13T21:01:05.827Z"
   },
   {
    "duration": 46,
    "start_time": "2024-10-13T21:01:05.844Z"
   },
   {
    "duration": 8,
    "start_time": "2024-10-13T21:01:05.891Z"
   },
   {
    "duration": 7,
    "start_time": "2024-10-13T21:01:05.900Z"
   },
   {
    "duration": 240,
    "start_time": "2024-10-13T21:01:05.909Z"
   },
   {
    "duration": 19,
    "start_time": "2024-10-13T21:01:06.151Z"
   },
   {
    "duration": 8,
    "start_time": "2024-10-13T21:01:06.171Z"
   },
   {
    "duration": 119,
    "start_time": "2024-10-13T21:01:06.181Z"
   },
   {
    "duration": 6,
    "start_time": "2024-10-13T21:01:06.301Z"
   },
   {
    "duration": 13,
    "start_time": "2024-10-13T21:01:06.321Z"
   },
   {
    "duration": 23,
    "start_time": "2024-10-13T21:01:06.336Z"
   },
   {
    "duration": 123,
    "start_time": "2024-10-13T21:01:06.361Z"
   },
   {
    "duration": 228,
    "start_time": "2024-10-13T21:01:06.486Z"
   },
   {
    "duration": 13,
    "start_time": "2024-10-13T21:01:06.716Z"
   },
   {
    "duration": 160,
    "start_time": "2024-10-13T21:01:06.731Z"
   },
   {
    "duration": 114,
    "start_time": "2024-10-13T21:01:06.893Z"
   },
   {
    "duration": 3,
    "start_time": "2024-10-13T21:01:07.009Z"
   },
   {
    "duration": 8,
    "start_time": "2024-10-13T21:01:07.020Z"
   },
   {
    "duration": 30,
    "start_time": "2024-10-13T21:01:07.030Z"
   },
   {
    "duration": 21,
    "start_time": "2024-10-13T21:01:07.062Z"
   },
   {
    "duration": 328,
    "start_time": "2024-10-13T21:01:07.085Z"
   },
   {
    "duration": 14,
    "start_time": "2024-10-13T21:01:07.420Z"
   },
   {
    "duration": 10,
    "start_time": "2024-10-13T21:01:07.435Z"
   },
   {
    "duration": 179,
    "start_time": "2024-10-13T21:01:07.446Z"
   },
   {
    "duration": 7,
    "start_time": "2024-10-13T21:01:07.626Z"
   },
   {
    "duration": 335,
    "start_time": "2024-10-13T21:01:07.635Z"
   },
   {
    "duration": 29,
    "start_time": "2024-10-13T21:01:07.972Z"
   },
   {
    "duration": 34,
    "start_time": "2024-10-13T21:01:08.002Z"
   },
   {
    "duration": 19,
    "start_time": "2024-10-13T21:01:08.037Z"
   },
   {
    "duration": 171,
    "start_time": "2024-10-13T21:01:08.057Z"
   },
   {
    "duration": 160,
    "start_time": "2024-10-13T21:01:08.230Z"
   },
   {
    "duration": 772,
    "start_time": "2024-10-13T21:01:08.391Z"
   },
   {
    "duration": 19,
    "start_time": "2024-10-13T21:01:09.164Z"
   },
   {
    "duration": 5,
    "start_time": "2024-10-13T21:01:09.185Z"
   },
   {
    "duration": 13,
    "start_time": "2024-10-13T21:01:09.191Z"
   },
   {
    "duration": 16,
    "start_time": "2024-10-13T21:01:09.205Z"
   },
   {
    "duration": 12,
    "start_time": "2024-10-13T21:01:09.222Z"
   },
   {
    "duration": 2186,
    "start_time": "2024-10-13T21:01:09.236Z"
   },
   {
    "duration": 300,
    "start_time": "2024-10-13T21:01:11.424Z"
   },
   {
    "duration": 1159,
    "start_time": "2024-10-14T05:19:41.213Z"
   },
   {
    "duration": 2,
    "start_time": "2024-10-14T05:19:42.374Z"
   },
   {
    "duration": 72,
    "start_time": "2024-10-14T05:19:42.377Z"
   },
   {
    "duration": 13,
    "start_time": "2024-10-14T05:19:42.450Z"
   },
   {
    "duration": 10,
    "start_time": "2024-10-14T05:19:42.465Z"
   },
   {
    "duration": 11,
    "start_time": "2024-10-14T05:19:42.476Z"
   },
   {
    "duration": 125,
    "start_time": "2024-10-14T05:19:42.489Z"
   },
   {
    "duration": 138,
    "start_time": "2024-10-14T05:19:42.616Z"
   },
   {
    "duration": 8,
    "start_time": "2024-10-14T05:19:42.755Z"
   },
   {
    "duration": 10,
    "start_time": "2024-10-14T05:19:42.764Z"
   },
   {
    "duration": 15,
    "start_time": "2024-10-14T05:19:42.775Z"
   },
   {
    "duration": 186,
    "start_time": "2024-10-14T05:19:42.791Z"
   },
   {
    "duration": 65,
    "start_time": "2024-10-14T05:19:42.978Z"
   },
   {
    "duration": 6,
    "start_time": "2024-10-14T05:19:43.045Z"
   },
   {
    "duration": 50,
    "start_time": "2024-10-14T05:19:43.052Z"
   },
   {
    "duration": 15,
    "start_time": "2024-10-14T05:19:43.104Z"
   },
   {
    "duration": 19,
    "start_time": "2024-10-14T05:19:43.121Z"
   },
   {
    "duration": 17,
    "start_time": "2024-10-14T05:19:43.141Z"
   },
   {
    "duration": 13,
    "start_time": "2024-10-14T05:19:43.160Z"
   },
   {
    "duration": 18,
    "start_time": "2024-10-14T05:19:43.174Z"
   },
   {
    "duration": 6,
    "start_time": "2024-10-14T05:19:43.193Z"
   },
   {
    "duration": 6,
    "start_time": "2024-10-14T05:19:43.201Z"
   },
   {
    "duration": 8,
    "start_time": "2024-10-14T05:19:43.209Z"
   },
   {
    "duration": 6,
    "start_time": "2024-10-14T05:19:43.218Z"
   },
   {
    "duration": 4,
    "start_time": "2024-10-14T05:19:43.226Z"
   },
   {
    "duration": 9,
    "start_time": "2024-10-14T05:19:43.232Z"
   },
   {
    "duration": 14,
    "start_time": "2024-10-14T05:19:43.243Z"
   },
   {
    "duration": 6,
    "start_time": "2024-10-14T05:19:43.258Z"
   },
   {
    "duration": 8,
    "start_time": "2024-10-14T05:19:43.265Z"
   },
   {
    "duration": 16,
    "start_time": "2024-10-14T05:19:43.274Z"
   },
   {
    "duration": 4,
    "start_time": "2024-10-14T05:19:43.312Z"
   },
   {
    "duration": 12,
    "start_time": "2024-10-14T05:19:43.317Z"
   },
   {
    "duration": 4,
    "start_time": "2024-10-14T05:19:43.330Z"
   },
   {
    "duration": 9,
    "start_time": "2024-10-14T05:19:43.335Z"
   },
   {
    "duration": 18,
    "start_time": "2024-10-14T05:19:43.345Z"
   },
   {
    "duration": 7,
    "start_time": "2024-10-14T05:19:43.365Z"
   },
   {
    "duration": 6,
    "start_time": "2024-10-14T05:19:43.373Z"
   },
   {
    "duration": 45,
    "start_time": "2024-10-14T05:19:43.380Z"
   },
   {
    "duration": 12,
    "start_time": "2024-10-14T05:19:43.427Z"
   },
   {
    "duration": 9,
    "start_time": "2024-10-14T05:19:43.440Z"
   },
   {
    "duration": 13,
    "start_time": "2024-10-14T05:19:43.453Z"
   },
   {
    "duration": 118,
    "start_time": "2024-10-14T05:19:43.467Z"
   },
   {
    "duration": 15,
    "start_time": "2024-10-14T05:19:43.586Z"
   },
   {
    "duration": 16,
    "start_time": "2024-10-14T05:19:43.602Z"
   },
   {
    "duration": 12,
    "start_time": "2024-10-14T05:19:43.619Z"
   },
   {
    "duration": 4,
    "start_time": "2024-10-14T05:19:43.632Z"
   },
   {
    "duration": 199,
    "start_time": "2024-10-14T05:19:43.637Z"
   },
   {
    "duration": 18,
    "start_time": "2024-10-14T05:19:43.837Z"
   },
   {
    "duration": 4,
    "start_time": "2024-10-14T05:19:43.856Z"
   },
   {
    "duration": 111,
    "start_time": "2024-10-14T05:19:43.861Z"
   },
   {
    "duration": 6,
    "start_time": "2024-10-14T05:19:43.973Z"
   },
   {
    "duration": 58,
    "start_time": "2024-10-14T05:19:43.981Z"
   },
   {
    "duration": 6,
    "start_time": "2024-10-14T05:19:44.040Z"
   },
   {
    "duration": 109,
    "start_time": "2024-10-14T05:19:44.047Z"
   },
   {
    "duration": 186,
    "start_time": "2024-10-14T05:19:44.157Z"
   },
   {
    "duration": 10,
    "start_time": "2024-10-14T05:19:44.345Z"
   },
   {
    "duration": 124,
    "start_time": "2024-10-14T05:19:44.356Z"
   },
   {
    "duration": 105,
    "start_time": "2024-10-14T05:19:44.481Z"
   },
   {
    "duration": 3,
    "start_time": "2024-10-14T05:19:44.587Z"
   },
   {
    "duration": 8,
    "start_time": "2024-10-14T05:19:44.591Z"
   },
   {
    "duration": 13,
    "start_time": "2024-10-14T05:19:44.600Z"
   },
   {
    "duration": 6,
    "start_time": "2024-10-14T05:19:44.615Z"
   },
   {
    "duration": 294,
    "start_time": "2024-10-14T05:19:44.622Z"
   },
   {
    "duration": 13,
    "start_time": "2024-10-14T05:19:44.919Z"
   },
   {
    "duration": 10,
    "start_time": "2024-10-14T05:19:44.934Z"
   },
   {
    "duration": 178,
    "start_time": "2024-10-14T05:19:44.945Z"
   },
   {
    "duration": 7,
    "start_time": "2024-10-14T05:19:45.124Z"
   },
   {
    "duration": 274,
    "start_time": "2024-10-14T05:19:45.132Z"
   },
   {
    "duration": 28,
    "start_time": "2024-10-14T05:19:45.412Z"
   },
   {
    "duration": 20,
    "start_time": "2024-10-14T05:19:45.441Z"
   },
   {
    "duration": 19,
    "start_time": "2024-10-14T05:19:45.462Z"
   },
   {
    "duration": 170,
    "start_time": "2024-10-14T05:19:45.482Z"
   },
   {
    "duration": 145,
    "start_time": "2024-10-14T05:19:45.654Z"
   },
   {
    "duration": 895,
    "start_time": "2024-10-14T05:19:45.801Z"
   },
   {
    "duration": 27,
    "start_time": "2024-10-14T05:19:46.698Z"
   },
   {
    "duration": 5,
    "start_time": "2024-10-14T05:19:46.726Z"
   },
   {
    "duration": 9,
    "start_time": "2024-10-14T05:19:46.732Z"
   },
   {
    "duration": 10,
    "start_time": "2024-10-14T05:19:46.742Z"
   },
   {
    "duration": 16,
    "start_time": "2024-10-14T05:19:46.753Z"
   },
   {
    "duration": 1846,
    "start_time": "2024-10-14T05:19:46.770Z"
   },
   {
    "duration": 264,
    "start_time": "2024-10-14T05:19:48.618Z"
   },
   {
    "duration": 11,
    "start_time": "2024-10-14T05:25:02.351Z"
   },
   {
    "duration": 53,
    "start_time": "2024-10-14T11:26:03.034Z"
   },
   {
    "duration": 1447,
    "start_time": "2024-10-14T11:26:15.243Z"
   },
   {
    "duration": 3,
    "start_time": "2024-10-14T11:26:16.692Z"
   },
   {
    "duration": 121,
    "start_time": "2024-10-14T11:26:16.696Z"
   },
   {
    "duration": 13,
    "start_time": "2024-10-14T11:26:16.819Z"
   },
   {
    "duration": 53,
    "start_time": "2024-10-14T11:26:16.834Z"
   },
   {
    "duration": 14,
    "start_time": "2024-10-14T11:26:16.889Z"
   },
   {
    "duration": 149,
    "start_time": "2024-10-14T11:26:16.905Z"
   },
   {
    "duration": 180,
    "start_time": "2024-10-14T11:26:17.056Z"
   },
   {
    "duration": 8,
    "start_time": "2024-10-14T11:26:17.238Z"
   },
   {
    "duration": 9,
    "start_time": "2024-10-14T11:26:17.249Z"
   },
   {
    "duration": 16,
    "start_time": "2024-10-14T11:26:17.260Z"
   },
   {
    "duration": 230,
    "start_time": "2024-10-14T11:26:17.278Z"
   },
   {
    "duration": 72,
    "start_time": "2024-10-14T11:26:17.509Z"
   },
   {
    "duration": 6,
    "start_time": "2024-10-14T11:26:17.583Z"
   },
   {
    "duration": 83,
    "start_time": "2024-10-14T11:26:17.591Z"
   },
   {
    "duration": 19,
    "start_time": "2024-10-14T11:26:17.676Z"
   },
   {
    "duration": 11,
    "start_time": "2024-10-14T11:26:17.697Z"
   },
   {
    "duration": 12,
    "start_time": "2024-10-14T11:26:17.710Z"
   },
   {
    "duration": 82,
    "start_time": "2024-10-14T11:26:17.723Z"
   },
   {
    "duration": 35,
    "start_time": "2024-10-14T11:26:17.807Z"
   },
   {
    "duration": 5,
    "start_time": "2024-10-14T11:26:17.843Z"
   },
   {
    "duration": 13,
    "start_time": "2024-10-14T11:26:17.850Z"
   },
   {
    "duration": 90,
    "start_time": "2024-10-14T11:26:17.865Z"
   },
   {
    "duration": 6,
    "start_time": "2024-10-14T11:26:17.957Z"
   },
   {
    "duration": 4,
    "start_time": "2024-10-14T11:26:17.964Z"
   },
   {
    "duration": 11,
    "start_time": "2024-10-14T11:26:17.970Z"
   },
   {
    "duration": 8,
    "start_time": "2024-10-14T11:26:17.983Z"
   },
   {
    "duration": 7,
    "start_time": "2024-10-14T11:26:17.995Z"
   },
   {
    "duration": 6,
    "start_time": "2024-10-14T11:26:18.004Z"
   },
   {
    "duration": 52,
    "start_time": "2024-10-14T11:26:18.011Z"
   },
   {
    "duration": 10,
    "start_time": "2024-10-14T11:26:18.065Z"
   },
   {
    "duration": 17,
    "start_time": "2024-10-14T11:26:18.077Z"
   },
   {
    "duration": 5,
    "start_time": "2024-10-14T11:26:18.095Z"
   },
   {
    "duration": 14,
    "start_time": "2024-10-14T11:26:18.102Z"
   },
   {
    "duration": 35,
    "start_time": "2024-10-14T11:26:18.118Z"
   },
   {
    "duration": 9,
    "start_time": "2024-10-14T11:26:18.155Z"
   },
   {
    "duration": 9,
    "start_time": "2024-10-14T11:26:18.166Z"
   },
   {
    "duration": 25,
    "start_time": "2024-10-14T11:26:18.178Z"
   },
   {
    "duration": 10,
    "start_time": "2024-10-14T11:26:18.204Z"
   },
   {
    "duration": 43,
    "start_time": "2024-10-14T11:26:18.216Z"
   },
   {
    "duration": 7,
    "start_time": "2024-10-14T11:26:18.261Z"
   },
   {
    "duration": 161,
    "start_time": "2024-10-14T11:26:18.269Z"
   },
   {
    "duration": 27,
    "start_time": "2024-10-14T11:26:18.431Z"
   },
   {
    "duration": 11,
    "start_time": "2024-10-14T11:26:18.459Z"
   },
   {
    "duration": 8,
    "start_time": "2024-10-14T11:26:18.471Z"
   },
   {
    "duration": 3,
    "start_time": "2024-10-14T11:26:18.480Z"
   },
   {
    "duration": 289,
    "start_time": "2024-10-14T11:26:18.485Z"
   },
   {
    "duration": 21,
    "start_time": "2024-10-14T11:26:18.776Z"
   },
   {
    "duration": 6,
    "start_time": "2024-10-14T11:26:18.798Z"
   },
   {
    "duration": 168,
    "start_time": "2024-10-14T11:26:18.806Z"
   },
   {
    "duration": 7,
    "start_time": "2024-10-14T11:26:18.977Z"
   },
   {
    "duration": 15,
    "start_time": "2024-10-14T11:26:18.986Z"
   },
   {
    "duration": 6,
    "start_time": "2024-10-14T11:26:19.003Z"
   },
   {
    "duration": 157,
    "start_time": "2024-10-14T11:26:19.011Z"
   },
   {
    "duration": 169,
    "start_time": "2024-10-14T11:26:19.170Z"
   },
   {
    "duration": 17,
    "start_time": "2024-10-14T11:26:19.341Z"
   },
   {
    "duration": 150,
    "start_time": "2024-10-14T11:26:19.360Z"
   },
   {
    "duration": 122,
    "start_time": "2024-10-14T11:26:19.512Z"
   },
   {
    "duration": 3,
    "start_time": "2024-10-14T11:26:19.636Z"
   },
   {
    "duration": 22,
    "start_time": "2024-10-14T11:26:19.651Z"
   },
   {
    "duration": 6,
    "start_time": "2024-10-14T11:26:19.675Z"
   },
   {
    "duration": 9,
    "start_time": "2024-10-14T11:26:19.682Z"
   },
   {
    "duration": 380,
    "start_time": "2024-10-14T11:26:19.693Z"
   },
   {
    "duration": 15,
    "start_time": "2024-10-14T11:26:20.074Z"
   },
   {
    "duration": 10,
    "start_time": "2024-10-14T11:26:20.091Z"
   },
   {
    "duration": 201,
    "start_time": "2024-10-14T11:26:20.103Z"
   },
   {
    "duration": 8,
    "start_time": "2024-10-14T11:26:20.306Z"
   },
   {
    "duration": 359,
    "start_time": "2024-10-14T11:26:20.315Z"
   },
   {
    "duration": 34,
    "start_time": "2024-10-14T11:26:20.675Z"
   },
   {
    "duration": 25,
    "start_time": "2024-10-14T11:26:20.710Z"
   },
   {
    "duration": 36,
    "start_time": "2024-10-14T11:26:20.736Z"
   },
   {
    "duration": 196,
    "start_time": "2024-10-14T11:26:20.773Z"
   },
   {
    "duration": 178,
    "start_time": "2024-10-14T11:26:20.971Z"
   },
   {
    "duration": 861,
    "start_time": "2024-10-14T11:26:21.150Z"
   },
   {
    "duration": 22,
    "start_time": "2024-10-14T11:26:22.012Z"
   },
   {
    "duration": 20,
    "start_time": "2024-10-14T11:26:22.035Z"
   },
   {
    "duration": 8,
    "start_time": "2024-10-14T11:26:22.057Z"
   },
   {
    "duration": 2,
    "start_time": "2024-10-14T11:26:22.067Z"
   },
   {
    "duration": 12,
    "start_time": "2024-10-14T11:26:22.071Z"
   },
   {
    "duration": 2422,
    "start_time": "2024-10-14T11:26:22.084Z"
   },
   {
    "duration": 295,
    "start_time": "2024-10-14T11:26:24.508Z"
   },
   {
    "duration": 1223,
    "start_time": "2024-10-14T17:23:32.642Z"
   },
   {
    "duration": 3,
    "start_time": "2024-10-14T17:23:33.866Z"
   },
   {
    "duration": 106,
    "start_time": "2024-10-14T17:23:33.870Z"
   },
   {
    "duration": 10,
    "start_time": "2024-10-14T17:23:33.978Z"
   },
   {
    "duration": 10,
    "start_time": "2024-10-14T17:23:33.990Z"
   },
   {
    "duration": 14,
    "start_time": "2024-10-14T17:23:34.001Z"
   },
   {
    "duration": 122,
    "start_time": "2024-10-14T17:23:34.016Z"
   },
   {
    "duration": 143,
    "start_time": "2024-10-14T17:23:34.140Z"
   },
   {
    "duration": 10,
    "start_time": "2024-10-14T17:23:34.284Z"
   },
   {
    "duration": 9,
    "start_time": "2024-10-14T17:23:34.295Z"
   },
   {
    "duration": 15,
    "start_time": "2024-10-14T17:23:34.306Z"
   },
   {
    "duration": 196,
    "start_time": "2024-10-14T17:23:34.322Z"
   },
   {
    "duration": 67,
    "start_time": "2024-10-14T17:23:34.519Z"
   },
   {
    "duration": 14,
    "start_time": "2024-10-14T17:23:34.589Z"
   },
   {
    "duration": 9,
    "start_time": "2024-10-14T17:23:34.604Z"
   },
   {
    "duration": 13,
    "start_time": "2024-10-14T17:23:34.614Z"
   },
   {
    "duration": 8,
    "start_time": "2024-10-14T17:23:34.628Z"
   },
   {
    "duration": 10,
    "start_time": "2024-10-14T17:23:34.637Z"
   },
   {
    "duration": 20,
    "start_time": "2024-10-14T17:23:34.648Z"
   },
   {
    "duration": 11,
    "start_time": "2024-10-14T17:23:34.669Z"
   },
   {
    "duration": 5,
    "start_time": "2024-10-14T17:23:34.681Z"
   },
   {
    "duration": 12,
    "start_time": "2024-10-14T17:23:34.687Z"
   },
   {
    "duration": 15,
    "start_time": "2024-10-14T17:23:34.700Z"
   },
   {
    "duration": 12,
    "start_time": "2024-10-14T17:23:34.716Z"
   },
   {
    "duration": 8,
    "start_time": "2024-10-14T17:23:34.729Z"
   },
   {
    "duration": 12,
    "start_time": "2024-10-14T17:23:34.738Z"
   },
   {
    "duration": 7,
    "start_time": "2024-10-14T17:23:34.751Z"
   },
   {
    "duration": 22,
    "start_time": "2024-10-14T17:23:34.759Z"
   },
   {
    "duration": 10,
    "start_time": "2024-10-14T17:23:34.782Z"
   },
   {
    "duration": 11,
    "start_time": "2024-10-14T17:23:34.793Z"
   },
   {
    "duration": 4,
    "start_time": "2024-10-14T17:23:34.805Z"
   },
   {
    "duration": 13,
    "start_time": "2024-10-14T17:23:34.810Z"
   },
   {
    "duration": 8,
    "start_time": "2024-10-14T17:23:34.825Z"
   },
   {
    "duration": 8,
    "start_time": "2024-10-14T17:23:34.834Z"
   },
   {
    "duration": 14,
    "start_time": "2024-10-14T17:23:34.843Z"
   },
   {
    "duration": 23,
    "start_time": "2024-10-14T17:23:34.859Z"
   },
   {
    "duration": 19,
    "start_time": "2024-10-14T17:23:34.883Z"
   },
   {
    "duration": 87,
    "start_time": "2024-10-14T17:23:34.904Z"
   },
   {
    "duration": 21,
    "start_time": "2024-10-14T17:23:34.993Z"
   },
   {
    "duration": 8,
    "start_time": "2024-10-14T17:23:35.015Z"
   },
   {
    "duration": 5,
    "start_time": "2024-10-14T17:23:35.027Z"
   },
   {
    "duration": 139,
    "start_time": "2024-10-14T17:23:35.033Z"
   },
   {
    "duration": 14,
    "start_time": "2024-10-14T17:23:35.173Z"
   },
   {
    "duration": 11,
    "start_time": "2024-10-14T17:23:35.188Z"
   },
   {
    "duration": 21,
    "start_time": "2024-10-14T17:23:35.200Z"
   },
   {
    "duration": 29,
    "start_time": "2024-10-14T17:23:35.222Z"
   },
   {
    "duration": 240,
    "start_time": "2024-10-14T17:23:35.252Z"
   },
   {
    "duration": 19,
    "start_time": "2024-10-14T17:23:35.493Z"
   },
   {
    "duration": 39,
    "start_time": "2024-10-14T17:23:35.513Z"
   },
   {
    "duration": 138,
    "start_time": "2024-10-14T17:23:35.553Z"
   },
   {
    "duration": 6,
    "start_time": "2024-10-14T17:23:35.693Z"
   },
   {
    "duration": 57,
    "start_time": "2024-10-14T17:23:35.712Z"
   },
   {
    "duration": 31,
    "start_time": "2024-10-14T17:23:35.770Z"
   },
   {
    "duration": 141,
    "start_time": "2024-10-14T17:23:35.803Z"
   },
   {
    "duration": 139,
    "start_time": "2024-10-14T17:23:35.946Z"
   },
   {
    "duration": 10,
    "start_time": "2024-10-14T17:23:36.086Z"
   },
   {
    "duration": 147,
    "start_time": "2024-10-14T17:23:36.097Z"
   },
   {
    "duration": 100,
    "start_time": "2024-10-14T17:23:36.245Z"
   },
   {
    "duration": 3,
    "start_time": "2024-10-14T17:23:36.346Z"
   },
   {
    "duration": 70,
    "start_time": "2024-10-14T17:23:36.351Z"
   },
   {
    "duration": 4,
    "start_time": "2024-10-14T17:23:36.422Z"
   },
   {
    "duration": 4,
    "start_time": "2024-10-14T17:23:36.428Z"
   },
   {
    "duration": 284,
    "start_time": "2024-10-14T17:23:36.433Z"
   },
   {
    "duration": 11,
    "start_time": "2024-10-14T17:23:36.718Z"
   },
   {
    "duration": 8,
    "start_time": "2024-10-14T17:23:36.730Z"
   },
   {
    "duration": 157,
    "start_time": "2024-10-14T17:23:36.739Z"
   },
   {
    "duration": 7,
    "start_time": "2024-10-14T17:23:36.898Z"
   },
   {
    "duration": 355,
    "start_time": "2024-10-14T17:23:36.912Z"
   },
   {
    "duration": 26,
    "start_time": "2024-10-14T17:23:37.268Z"
   },
   {
    "duration": 30,
    "start_time": "2024-10-14T17:23:37.296Z"
   },
   {
    "duration": 17,
    "start_time": "2024-10-14T17:23:37.327Z"
   },
   {
    "duration": 154,
    "start_time": "2024-10-14T17:23:37.345Z"
   },
   {
    "duration": 137,
    "start_time": "2024-10-14T17:23:37.500Z"
   },
   {
    "duration": 786,
    "start_time": "2024-10-14T17:23:37.638Z"
   },
   {
    "duration": 17,
    "start_time": "2024-10-14T17:23:38.425Z"
   },
   {
    "duration": 4,
    "start_time": "2024-10-14T17:23:38.443Z"
   },
   {
    "duration": 4,
    "start_time": "2024-10-14T17:23:38.449Z"
   },
   {
    "duration": 9,
    "start_time": "2024-10-14T17:23:38.454Z"
   },
   {
    "duration": 27,
    "start_time": "2024-10-14T17:23:38.464Z"
   },
   {
    "duration": 1805,
    "start_time": "2024-10-14T17:23:38.492Z"
   },
   {
    "duration": 288,
    "start_time": "2024-10-14T17:23:40.298Z"
   },
   {
    "duration": 69,
    "start_time": "2024-10-14T17:29:33.907Z"
   },
   {
    "duration": 3,
    "start_time": "2024-10-14T17:33:44.689Z"
   },
   {
    "duration": 19,
    "start_time": "2024-10-14T17:34:01.619Z"
   },
   {
    "duration": 4,
    "start_time": "2024-10-14T17:38:28.178Z"
   },
   {
    "duration": 21,
    "start_time": "2024-10-14T17:38:32.957Z"
   },
   {
    "duration": 3,
    "start_time": "2024-10-14T17:38:47.217Z"
   },
   {
    "duration": 28,
    "start_time": "2024-10-14T17:38:48.136Z"
   },
   {
    "duration": 21,
    "start_time": "2024-10-14T17:38:48.878Z"
   },
   {
    "duration": 27,
    "start_time": "2024-10-14T17:39:53.172Z"
   },
   {
    "duration": 21,
    "start_time": "2024-10-14T17:42:25.344Z"
   },
   {
    "duration": 3,
    "start_time": "2024-10-14T17:42:39.173Z"
   },
   {
    "duration": 25,
    "start_time": "2024-10-14T17:42:41.985Z"
   },
   {
    "duration": 3,
    "start_time": "2024-10-14T17:43:01.056Z"
   },
   {
    "duration": 23,
    "start_time": "2024-10-14T17:43:02.684Z"
   },
   {
    "duration": 3,
    "start_time": "2024-10-14T17:43:13.805Z"
   },
   {
    "duration": 59,
    "start_time": "2024-10-14T17:44:14.064Z"
   },
   {
    "duration": 216,
    "start_time": "2024-10-14T17:48:05.285Z"
   },
   {
    "duration": 132,
    "start_time": "2024-10-14T17:48:31.314Z"
   },
   {
    "duration": 129,
    "start_time": "2024-10-14T17:49:29.475Z"
   },
   {
    "duration": 121,
    "start_time": "2024-10-14T17:49:48.874Z"
   },
   {
    "duration": 139,
    "start_time": "2024-10-14T17:50:45.208Z"
   },
   {
    "duration": 128,
    "start_time": "2024-10-14T17:50:55.976Z"
   },
   {
    "duration": 210,
    "start_time": "2024-10-14T17:52:03.619Z"
   },
   {
    "duration": 93,
    "start_time": "2024-10-14T17:53:07.856Z"
   },
   {
    "duration": 123,
    "start_time": "2024-10-14T17:53:22.362Z"
   },
   {
    "duration": 124,
    "start_time": "2024-10-14T17:53:38.013Z"
   },
   {
    "duration": 118,
    "start_time": "2024-10-14T17:53:43.462Z"
   },
   {
    "duration": 125,
    "start_time": "2024-10-14T17:53:49.882Z"
   },
   {
    "duration": 130,
    "start_time": "2024-10-14T17:54:07.085Z"
   },
   {
    "duration": 116,
    "start_time": "2024-10-14T17:54:13.007Z"
   },
   {
    "duration": 107,
    "start_time": "2024-10-14T17:54:23.193Z"
   },
   {
    "duration": 109,
    "start_time": "2024-10-14T17:54:29.869Z"
   },
   {
    "duration": 113,
    "start_time": "2024-10-14T17:54:33.326Z"
   },
   {
    "duration": 109,
    "start_time": "2024-10-14T17:54:38.235Z"
   },
   {
    "duration": 110,
    "start_time": "2024-10-14T17:54:42.836Z"
   },
   {
    "duration": 59,
    "start_time": "2024-10-14T17:55:44.056Z"
   },
   {
    "duration": 100,
    "start_time": "2024-10-14T17:57:19.778Z"
   },
   {
    "duration": 198,
    "start_time": "2024-10-14T17:57:59.623Z"
   },
   {
    "duration": 117,
    "start_time": "2024-10-14T17:58:11.122Z"
   },
   {
    "duration": 103,
    "start_time": "2024-10-14T17:59:14.092Z"
   },
   {
    "duration": 148,
    "start_time": "2024-10-14T18:03:32.033Z"
   },
   {
    "duration": 148,
    "start_time": "2024-10-14T18:03:38.518Z"
   },
   {
    "duration": 149,
    "start_time": "2024-10-14T18:04:31.517Z"
   },
   {
    "duration": 333,
    "start_time": "2024-10-14T18:05:14.674Z"
   },
   {
    "duration": 3,
    "start_time": "2024-10-14T18:07:23.809Z"
   },
   {
    "duration": 3,
    "start_time": "2024-10-14T18:07:56.912Z"
   },
   {
    "duration": 10,
    "start_time": "2024-10-14T18:09:21.971Z"
   },
   {
    "duration": 1040,
    "start_time": "2024-10-14T18:12:20.621Z"
   },
   {
    "duration": 2,
    "start_time": "2024-10-14T18:12:21.663Z"
   },
   {
    "duration": 17,
    "start_time": "2024-10-14T18:12:21.666Z"
   },
   {
    "duration": 58,
    "start_time": "2024-10-14T18:12:21.685Z"
   },
   {
    "duration": 26,
    "start_time": "2024-10-14T18:12:21.744Z"
   },
   {
    "duration": 39,
    "start_time": "2024-10-14T18:12:21.772Z"
   },
   {
    "duration": 32,
    "start_time": "2024-10-14T18:12:21.812Z"
   },
   {
    "duration": 70,
    "start_time": "2024-10-14T18:12:21.846Z"
   },
   {
    "duration": 28,
    "start_time": "2024-10-14T18:12:21.917Z"
   },
   {
    "duration": 14,
    "start_time": "2024-10-14T18:12:21.948Z"
   },
   {
    "duration": 19,
    "start_time": "2024-10-14T18:12:21.963Z"
   },
   {
    "duration": 24,
    "start_time": "2024-10-14T18:12:21.983Z"
   },
   {
    "duration": 24,
    "start_time": "2024-10-14T18:12:22.009Z"
   },
   {
    "duration": 16,
    "start_time": "2024-10-14T18:12:22.034Z"
   },
   {
    "duration": 21,
    "start_time": "2024-10-14T18:12:22.051Z"
   },
   {
    "duration": 41,
    "start_time": "2024-10-14T18:12:22.074Z"
   },
   {
    "duration": 33,
    "start_time": "2024-10-14T18:12:22.117Z"
   },
   {
    "duration": 14,
    "start_time": "2024-10-14T18:12:22.151Z"
   },
   {
    "duration": 16,
    "start_time": "2024-10-14T18:12:22.166Z"
   },
   {
    "duration": 37,
    "start_time": "2024-10-14T18:12:22.183Z"
   },
   {
    "duration": 16,
    "start_time": "2024-10-14T18:12:22.221Z"
   },
   {
    "duration": 17,
    "start_time": "2024-10-14T18:12:22.238Z"
   },
   {
    "duration": 16,
    "start_time": "2024-10-14T18:12:22.256Z"
   },
   {
    "duration": 33,
    "start_time": "2024-10-14T18:12:22.273Z"
   },
   {
    "duration": 32,
    "start_time": "2024-10-14T18:12:22.307Z"
   },
   {
    "duration": 16,
    "start_time": "2024-10-14T18:12:22.340Z"
   },
   {
    "duration": 16,
    "start_time": "2024-10-14T18:12:22.358Z"
   },
   {
    "duration": 16,
    "start_time": "2024-10-14T18:12:22.377Z"
   },
   {
    "duration": 8,
    "start_time": "2024-10-14T18:12:22.395Z"
   },
   {
    "duration": 40,
    "start_time": "2024-10-14T18:12:22.404Z"
   },
   {
    "duration": 6,
    "start_time": "2024-10-14T18:12:22.445Z"
   },
   {
    "duration": 141,
    "start_time": "2024-10-14T18:12:22.452Z"
   },
   {
    "duration": 18,
    "start_time": "2024-10-14T18:12:22.594Z"
   },
   {
    "duration": 14,
    "start_time": "2024-10-14T18:12:22.613Z"
   },
   {
    "duration": 5,
    "start_time": "2024-10-14T18:12:22.629Z"
   },
   {
    "duration": 14,
    "start_time": "2024-10-14T18:12:22.635Z"
   },
   {
    "duration": 192,
    "start_time": "2024-10-14T18:12:22.650Z"
   },
   {
    "duration": 17,
    "start_time": "2024-10-14T18:12:22.844Z"
   },
   {
    "duration": 17,
    "start_time": "2024-10-14T18:12:22.862Z"
   },
   {
    "duration": 115,
    "start_time": "2024-10-14T18:12:22.881Z"
   },
   {
    "duration": 5,
    "start_time": "2024-10-14T18:12:22.998Z"
   },
   {
    "duration": 26,
    "start_time": "2024-10-14T18:12:23.005Z"
   },
   {
    "duration": 13,
    "start_time": "2024-10-14T18:12:23.032Z"
   },
   {
    "duration": 198,
    "start_time": "2024-10-14T18:12:23.046Z"
   },
   {
    "duration": 9,
    "start_time": "2024-10-14T18:12:23.246Z"
   },
   {
    "duration": 139,
    "start_time": "2024-10-14T18:12:23.256Z"
   },
   {
    "duration": 105,
    "start_time": "2024-10-14T18:12:23.397Z"
   },
   {
    "duration": 3,
    "start_time": "2024-10-14T18:12:23.511Z"
   },
   {
    "duration": 7,
    "start_time": "2024-10-14T18:12:23.515Z"
   },
   {
    "duration": 7,
    "start_time": "2024-10-14T18:12:23.523Z"
   },
   {
    "duration": 7,
    "start_time": "2024-10-14T18:12:23.531Z"
   },
   {
    "duration": 256,
    "start_time": "2024-10-14T18:12:23.539Z"
   },
   {
    "duration": 18,
    "start_time": "2024-10-14T18:12:23.796Z"
   },
   {
    "duration": 29,
    "start_time": "2024-10-14T18:12:23.815Z"
   },
   {
    "duration": 266,
    "start_time": "2024-10-14T18:12:23.846Z"
   },
   {
    "duration": 7,
    "start_time": "2024-10-14T18:12:24.113Z"
   },
   {
    "duration": 290,
    "start_time": "2024-10-14T18:12:24.122Z"
   },
   {
    "duration": 3,
    "start_time": "2024-10-14T18:12:24.413Z"
   },
   {
    "duration": 30,
    "start_time": "2024-10-14T18:12:24.417Z"
   },
   {
    "duration": 13,
    "start_time": "2024-10-14T18:12:24.449Z"
   },
   {
    "duration": 20,
    "start_time": "2024-10-14T18:12:24.463Z"
   },
   {
    "duration": 49,
    "start_time": "2024-10-14T18:12:24.484Z"
   },
   {
    "duration": 177,
    "start_time": "2024-10-14T18:12:24.535Z"
   },
   {
    "duration": 139,
    "start_time": "2024-10-14T18:12:24.714Z"
   },
   {
    "duration": 848,
    "start_time": "2024-10-14T18:12:24.855Z"
   },
   {
    "duration": 23,
    "start_time": "2024-10-14T18:12:25.704Z"
   },
   {
    "duration": 5,
    "start_time": "2024-10-14T18:12:25.729Z"
   },
   {
    "duration": 6,
    "start_time": "2024-10-14T18:12:25.736Z"
   },
   {
    "duration": 6,
    "start_time": "2024-10-14T18:12:25.743Z"
   },
   {
    "duration": 11,
    "start_time": "2024-10-14T18:12:25.751Z"
   },
   {
    "duration": 1788,
    "start_time": "2024-10-14T18:12:25.764Z"
   },
   {
    "duration": 245,
    "start_time": "2024-10-14T18:12:27.553Z"
   },
   {
    "duration": 10,
    "start_time": "2024-10-14T18:13:56.991Z"
   },
   {
    "duration": 60,
    "start_time": "2024-10-14T18:26:28.602Z"
   },
   {
    "duration": 6,
    "start_time": "2024-10-14T18:27:28.808Z"
   },
   {
    "duration": 57,
    "start_time": "2024-10-14T18:28:38.092Z"
   },
   {
    "duration": 62,
    "start_time": "2024-10-14T18:31:42.612Z"
   },
   {
    "duration": 62,
    "start_time": "2024-10-14T18:36:32.612Z"
   },
   {
    "duration": 1055,
    "start_time": "2024-10-14T18:36:52.766Z"
   },
   {
    "duration": 3,
    "start_time": "2024-10-14T18:36:53.826Z"
   },
   {
    "duration": 10,
    "start_time": "2024-10-14T18:36:53.830Z"
   },
   {
    "duration": 30,
    "start_time": "2024-10-14T18:36:53.841Z"
   },
   {
    "duration": 25,
    "start_time": "2024-10-14T18:36:53.873Z"
   },
   {
    "duration": 33,
    "start_time": "2024-10-14T18:36:53.899Z"
   },
   {
    "duration": 27,
    "start_time": "2024-10-14T18:36:53.933Z"
   },
   {
    "duration": 36,
    "start_time": "2024-10-14T18:36:53.962Z"
   },
   {
    "duration": 22,
    "start_time": "2024-10-14T18:36:53.999Z"
   },
   {
    "duration": 14,
    "start_time": "2024-10-14T18:36:54.023Z"
   },
   {
    "duration": 24,
    "start_time": "2024-10-14T18:36:54.038Z"
   },
   {
    "duration": 8,
    "start_time": "2024-10-14T18:36:54.063Z"
   },
   {
    "duration": 12,
    "start_time": "2024-10-14T18:36:54.072Z"
   },
   {
    "duration": 5,
    "start_time": "2024-10-14T18:36:54.086Z"
   },
   {
    "duration": 16,
    "start_time": "2024-10-14T18:36:54.092Z"
   },
   {
    "duration": 14,
    "start_time": "2024-10-14T18:36:54.109Z"
   },
   {
    "duration": 8,
    "start_time": "2024-10-14T18:36:54.125Z"
   },
   {
    "duration": 6,
    "start_time": "2024-10-14T18:36:54.135Z"
   },
   {
    "duration": 31,
    "start_time": "2024-10-14T18:36:54.143Z"
   },
   {
    "duration": 17,
    "start_time": "2024-10-14T18:36:54.176Z"
   },
   {
    "duration": 5,
    "start_time": "2024-10-14T18:36:54.194Z"
   },
   {
    "duration": 24,
    "start_time": "2024-10-14T18:36:54.200Z"
   },
   {
    "duration": 6,
    "start_time": "2024-10-14T18:36:54.226Z"
   },
   {
    "duration": 12,
    "start_time": "2024-10-14T18:36:54.233Z"
   },
   {
    "duration": 15,
    "start_time": "2024-10-14T18:36:54.247Z"
   },
   {
    "duration": 9,
    "start_time": "2024-10-14T18:36:54.264Z"
   },
   {
    "duration": 7,
    "start_time": "2024-10-14T18:36:54.274Z"
   },
   {
    "duration": 46,
    "start_time": "2024-10-14T18:36:54.283Z"
   },
   {
    "duration": 8,
    "start_time": "2024-10-14T18:36:54.330Z"
   },
   {
    "duration": 16,
    "start_time": "2024-10-14T18:36:54.339Z"
   },
   {
    "duration": 5,
    "start_time": "2024-10-14T18:36:54.357Z"
   },
   {
    "duration": 180,
    "start_time": "2024-10-14T18:36:54.363Z"
   },
   {
    "duration": 14,
    "start_time": "2024-10-14T18:36:54.544Z"
   },
   {
    "duration": 8,
    "start_time": "2024-10-14T18:36:54.559Z"
   },
   {
    "duration": 69,
    "start_time": "2024-10-14T18:36:54.569Z"
   },
   {
    "duration": 30,
    "start_time": "2024-10-14T18:36:54.640Z"
   },
   {
    "duration": 233,
    "start_time": "2024-10-14T18:36:54.671Z"
   },
   {
    "duration": 21,
    "start_time": "2024-10-14T18:36:54.905Z"
   },
   {
    "duration": 4,
    "start_time": "2024-10-14T18:36:54.928Z"
   },
   {
    "duration": 128,
    "start_time": "2024-10-14T18:36:54.933Z"
   },
   {
    "duration": 6,
    "start_time": "2024-10-14T18:36:55.064Z"
   },
   {
    "duration": 27,
    "start_time": "2024-10-14T18:36:55.072Z"
   },
   {
    "duration": 6,
    "start_time": "2024-10-14T18:36:55.101Z"
   },
   {
    "duration": 129,
    "start_time": "2024-10-14T18:36:55.108Z"
   },
   {
    "duration": 13,
    "start_time": "2024-10-14T18:36:55.239Z"
   },
   {
    "duration": 137,
    "start_time": "2024-10-14T18:36:55.253Z"
   },
   {
    "duration": 111,
    "start_time": "2024-10-14T18:36:55.391Z"
   },
   {
    "duration": 10,
    "start_time": "2024-10-14T18:36:55.503Z"
   },
   {
    "duration": 8,
    "start_time": "2024-10-14T18:36:55.514Z"
   },
   {
    "duration": 4,
    "start_time": "2024-10-14T18:36:55.523Z"
   },
   {
    "duration": 5,
    "start_time": "2024-10-14T18:36:55.528Z"
   },
   {
    "duration": 264,
    "start_time": "2024-10-14T18:36:55.534Z"
   },
   {
    "duration": 14,
    "start_time": "2024-10-14T18:36:55.799Z"
   },
   {
    "duration": 8,
    "start_time": "2024-10-14T18:36:55.815Z"
   },
   {
    "duration": 251,
    "start_time": "2024-10-14T18:36:55.824Z"
   },
   {
    "duration": 7,
    "start_time": "2024-10-14T18:36:56.076Z"
   },
   {
    "duration": 312,
    "start_time": "2024-10-14T18:36:56.085Z"
   },
   {
    "duration": 3,
    "start_time": "2024-10-14T18:36:56.398Z"
   },
   {
    "duration": 30,
    "start_time": "2024-10-14T18:36:56.402Z"
   },
   {
    "duration": 12,
    "start_time": "2024-10-14T18:36:56.433Z"
   },
   {
    "duration": 21,
    "start_time": "2024-10-14T18:36:56.446Z"
   },
   {
    "duration": 18,
    "start_time": "2024-10-14T18:36:56.468Z"
   },
   {
    "duration": 156,
    "start_time": "2024-10-14T18:36:56.512Z"
   },
   {
    "duration": 145,
    "start_time": "2024-10-14T18:36:56.669Z"
   },
   {
    "duration": 875,
    "start_time": "2024-10-14T18:36:56.815Z"
   },
   {
    "duration": 24,
    "start_time": "2024-10-14T18:36:57.692Z"
   },
   {
    "duration": 4,
    "start_time": "2024-10-14T18:36:57.717Z"
   },
   {
    "duration": 3,
    "start_time": "2024-10-14T18:36:57.723Z"
   },
   {
    "duration": 14,
    "start_time": "2024-10-14T18:36:57.727Z"
   },
   {
    "duration": 13,
    "start_time": "2024-10-14T18:36:57.742Z"
   },
   {
    "duration": 1779,
    "start_time": "2024-10-14T18:36:57.756Z"
   },
   {
    "duration": 253,
    "start_time": "2024-10-14T18:36:59.536Z"
   },
   {
    "duration": 985,
    "start_time": "2024-10-14T18:43:17.270Z"
   },
   {
    "duration": 2,
    "start_time": "2024-10-14T18:43:18.257Z"
   },
   {
    "duration": 4,
    "start_time": "2024-10-14T18:43:18.261Z"
   },
   {
    "duration": 30,
    "start_time": "2024-10-14T18:43:18.267Z"
   },
   {
    "duration": 27,
    "start_time": "2024-10-14T18:43:18.298Z"
   },
   {
    "duration": 30,
    "start_time": "2024-10-14T18:43:18.327Z"
   },
   {
    "duration": 26,
    "start_time": "2024-10-14T18:43:18.358Z"
   },
   {
    "duration": 14,
    "start_time": "2024-10-14T18:43:18.386Z"
   },
   {
    "duration": 20,
    "start_time": "2024-10-14T18:43:18.401Z"
   },
   {
    "duration": 9,
    "start_time": "2024-10-14T18:43:18.423Z"
   },
   {
    "duration": 4,
    "start_time": "2024-10-14T18:43:18.433Z"
   },
   {
    "duration": 7,
    "start_time": "2024-10-14T18:43:18.438Z"
   },
   {
    "duration": 7,
    "start_time": "2024-10-14T18:43:18.446Z"
   },
   {
    "duration": 5,
    "start_time": "2024-10-14T18:43:18.454Z"
   },
   {
    "duration": 6,
    "start_time": "2024-10-14T18:43:18.460Z"
   },
   {
    "duration": 9,
    "start_time": "2024-10-14T18:43:18.467Z"
   },
   {
    "duration": 35,
    "start_time": "2024-10-14T18:43:18.478Z"
   },
   {
    "duration": 5,
    "start_time": "2024-10-14T18:43:18.514Z"
   },
   {
    "duration": 15,
    "start_time": "2024-10-14T18:43:18.520Z"
   },
   {
    "duration": 10,
    "start_time": "2024-10-14T18:43:18.536Z"
   },
   {
    "duration": 5,
    "start_time": "2024-10-14T18:43:18.547Z"
   },
   {
    "duration": 12,
    "start_time": "2024-10-14T18:43:18.554Z"
   },
   {
    "duration": 5,
    "start_time": "2024-10-14T18:43:18.567Z"
   },
   {
    "duration": 40,
    "start_time": "2024-10-14T18:43:18.573Z"
   },
   {
    "duration": 47,
    "start_time": "2024-10-14T18:43:18.615Z"
   },
   {
    "duration": 11,
    "start_time": "2024-10-14T18:43:18.664Z"
   },
   {
    "duration": 8,
    "start_time": "2024-10-14T18:43:18.676Z"
   },
   {
    "duration": 18,
    "start_time": "2024-10-14T18:43:18.688Z"
   },
   {
    "duration": 10,
    "start_time": "2024-10-14T18:43:18.707Z"
   },
   {
    "duration": 14,
    "start_time": "2024-10-14T18:43:18.719Z"
   },
   {
    "duration": 5,
    "start_time": "2024-10-14T18:43:18.735Z"
   },
   {
    "duration": 163,
    "start_time": "2024-10-14T18:43:18.742Z"
   },
   {
    "duration": 17,
    "start_time": "2024-10-14T18:43:18.907Z"
   },
   {
    "duration": 7,
    "start_time": "2024-10-14T18:43:18.925Z"
   },
   {
    "duration": 5,
    "start_time": "2024-10-14T18:43:18.935Z"
   },
   {
    "duration": 3,
    "start_time": "2024-10-14T18:43:18.941Z"
   },
   {
    "duration": 209,
    "start_time": "2024-10-14T18:43:18.945Z"
   },
   {
    "duration": 16,
    "start_time": "2024-10-14T18:43:19.155Z"
   },
   {
    "duration": 34,
    "start_time": "2024-10-14T18:43:19.172Z"
   },
   {
    "duration": 158,
    "start_time": "2024-10-14T18:43:19.207Z"
   },
   {
    "duration": 5,
    "start_time": "2024-10-14T18:43:19.366Z"
   },
   {
    "duration": 15,
    "start_time": "2024-10-14T18:43:19.372Z"
   },
   {
    "duration": 5,
    "start_time": "2024-10-14T18:43:19.389Z"
   },
   {
    "duration": 111,
    "start_time": "2024-10-14T18:43:19.395Z"
   },
   {
    "duration": 9,
    "start_time": "2024-10-14T18:43:19.511Z"
   },
   {
    "duration": 120,
    "start_time": "2024-10-14T18:43:19.521Z"
   },
   {
    "duration": 103,
    "start_time": "2024-10-14T18:43:19.643Z"
   },
   {
    "duration": 2,
    "start_time": "2024-10-14T18:43:19.748Z"
   },
   {
    "duration": 8,
    "start_time": "2024-10-14T18:43:19.752Z"
   },
   {
    "duration": 4,
    "start_time": "2024-10-14T18:43:19.762Z"
   },
   {
    "duration": 5,
    "start_time": "2024-10-14T18:43:19.767Z"
   },
   {
    "duration": 318,
    "start_time": "2024-10-14T18:43:19.773Z"
   },
   {
    "duration": 20,
    "start_time": "2024-10-14T18:43:20.092Z"
   },
   {
    "duration": 8,
    "start_time": "2024-10-14T18:43:20.114Z"
   },
   {
    "duration": 205,
    "start_time": "2024-10-14T18:43:20.123Z"
   },
   {
    "duration": 7,
    "start_time": "2024-10-14T18:43:20.330Z"
   },
   {
    "duration": 278,
    "start_time": "2024-10-14T18:43:20.338Z"
   },
   {
    "duration": 3,
    "start_time": "2024-10-14T18:43:20.617Z"
   },
   {
    "duration": 74,
    "start_time": "2024-10-14T18:43:20.621Z"
   },
   {
    "duration": 11,
    "start_time": "2024-10-14T18:43:20.697Z"
   },
   {
    "duration": 19,
    "start_time": "2024-10-14T18:43:20.709Z"
   },
   {
    "duration": 17,
    "start_time": "2024-10-14T18:43:20.730Z"
   },
   {
    "duration": 148,
    "start_time": "2024-10-14T18:43:20.749Z"
   },
   {
    "duration": 141,
    "start_time": "2024-10-14T18:43:20.899Z"
   },
   {
    "duration": 888,
    "start_time": "2024-10-14T18:43:21.042Z"
   },
   {
    "duration": 16,
    "start_time": "2024-10-14T18:43:21.932Z"
   },
   {
    "duration": 5,
    "start_time": "2024-10-14T18:43:21.949Z"
   },
   {
    "duration": 80,
    "start_time": "2024-10-14T18:43:21.955Z"
   },
   {
    "duration": 2,
    "start_time": "2024-10-14T18:43:22.036Z"
   },
   {
    "duration": 9,
    "start_time": "2024-10-14T18:43:22.040Z"
   },
   {
    "duration": 1738,
    "start_time": "2024-10-14T18:43:22.050Z"
   },
   {
    "duration": 291,
    "start_time": "2024-10-14T18:43:23.790Z"
   },
   {
    "duration": 1167,
    "start_time": "2024-10-15T04:40:18.114Z"
   },
   {
    "duration": 3,
    "start_time": "2024-10-15T04:40:19.282Z"
   },
   {
    "duration": 4,
    "start_time": "2024-10-15T04:40:19.287Z"
   },
   {
    "duration": 112,
    "start_time": "2024-10-15T04:40:19.293Z"
   },
   {
    "duration": 33,
    "start_time": "2024-10-15T04:40:19.406Z"
   },
   {
    "duration": 183,
    "start_time": "2024-10-15T04:40:19.440Z"
   },
   {
    "duration": 33,
    "start_time": "2024-10-15T04:40:19.625Z"
   },
   {
    "duration": 72,
    "start_time": "2024-10-15T04:40:19.660Z"
   },
   {
    "duration": 25,
    "start_time": "2024-10-15T04:40:19.733Z"
   },
   {
    "duration": 12,
    "start_time": "2024-10-15T04:40:19.762Z"
   },
   {
    "duration": 8,
    "start_time": "2024-10-15T04:40:19.776Z"
   },
   {
    "duration": 17,
    "start_time": "2024-10-15T04:40:19.785Z"
   },
   {
    "duration": 14,
    "start_time": "2024-10-15T04:40:19.803Z"
   },
   {
    "duration": 6,
    "start_time": "2024-10-15T04:40:19.819Z"
   },
   {
    "duration": 28,
    "start_time": "2024-10-15T04:40:19.827Z"
   },
   {
    "duration": 23,
    "start_time": "2024-10-15T04:40:19.857Z"
   },
   {
    "duration": 8,
    "start_time": "2024-10-15T04:40:19.882Z"
   },
   {
    "duration": 12,
    "start_time": "2024-10-15T04:40:19.892Z"
   },
   {
    "duration": 9,
    "start_time": "2024-10-15T04:40:19.905Z"
   },
   {
    "duration": 40,
    "start_time": "2024-10-15T04:40:19.916Z"
   },
   {
    "duration": 5,
    "start_time": "2024-10-15T04:40:19.957Z"
   },
   {
    "duration": 33,
    "start_time": "2024-10-15T04:40:19.964Z"
   },
   {
    "duration": 60,
    "start_time": "2024-10-15T04:40:19.999Z"
   },
   {
    "duration": 28,
    "start_time": "2024-10-15T04:40:20.060Z"
   },
   {
    "duration": 20,
    "start_time": "2024-10-15T04:40:20.089Z"
   },
   {
    "duration": 13,
    "start_time": "2024-10-15T04:40:20.110Z"
   },
   {
    "duration": 12,
    "start_time": "2024-10-15T04:40:20.124Z"
   },
   {
    "duration": 22,
    "start_time": "2024-10-15T04:40:20.140Z"
   },
   {
    "duration": 9,
    "start_time": "2024-10-15T04:40:20.163Z"
   },
   {
    "duration": 9,
    "start_time": "2024-10-15T04:40:20.174Z"
   },
   {
    "duration": 7,
    "start_time": "2024-10-15T04:40:20.185Z"
   },
   {
    "duration": 205,
    "start_time": "2024-10-15T04:40:20.193Z"
   },
   {
    "duration": 19,
    "start_time": "2024-10-15T04:40:20.400Z"
   },
   {
    "duration": 70,
    "start_time": "2024-10-15T04:40:20.420Z"
   },
   {
    "duration": 8,
    "start_time": "2024-10-15T04:40:20.492Z"
   },
   {
    "duration": 17,
    "start_time": "2024-10-15T04:40:20.502Z"
   },
   {
    "duration": 206,
    "start_time": "2024-10-15T04:40:20.521Z"
   },
   {
    "duration": 31,
    "start_time": "2024-10-15T04:40:20.729Z"
   },
   {
    "duration": 6,
    "start_time": "2024-10-15T04:40:20.761Z"
   },
   {
    "duration": 150,
    "start_time": "2024-10-15T04:40:20.769Z"
   },
   {
    "duration": 7,
    "start_time": "2024-10-15T04:40:20.921Z"
   },
   {
    "duration": 30,
    "start_time": "2024-10-15T04:40:20.930Z"
   },
   {
    "duration": 9,
    "start_time": "2024-10-15T04:40:20.962Z"
   },
   {
    "duration": 152,
    "start_time": "2024-10-15T04:40:20.973Z"
   },
   {
    "duration": 13,
    "start_time": "2024-10-15T04:40:21.127Z"
   },
   {
    "duration": 155,
    "start_time": "2024-10-15T04:40:21.152Z"
   },
   {
    "duration": 130,
    "start_time": "2024-10-15T04:40:21.309Z"
   },
   {
    "duration": 12,
    "start_time": "2024-10-15T04:40:21.441Z"
   },
   {
    "duration": 10,
    "start_time": "2024-10-15T04:40:21.455Z"
   },
   {
    "duration": 6,
    "start_time": "2024-10-15T04:40:21.467Z"
   },
   {
    "duration": 10,
    "start_time": "2024-10-15T04:40:21.475Z"
   },
   {
    "duration": 368,
    "start_time": "2024-10-15T04:40:21.486Z"
   },
   {
    "duration": 15,
    "start_time": "2024-10-15T04:40:21.855Z"
   },
   {
    "duration": 11,
    "start_time": "2024-10-15T04:40:21.871Z"
   },
   {
    "duration": 287,
    "start_time": "2024-10-15T04:40:21.883Z"
   },
   {
    "duration": 9,
    "start_time": "2024-10-15T04:40:22.172Z"
   },
   {
    "duration": 306,
    "start_time": "2024-10-15T04:40:22.183Z"
   },
   {
    "duration": 3,
    "start_time": "2024-10-15T04:40:22.490Z"
   },
   {
    "duration": 32,
    "start_time": "2024-10-15T04:40:22.495Z"
   },
   {
    "duration": 30,
    "start_time": "2024-10-15T04:40:22.529Z"
   },
   {
    "duration": 21,
    "start_time": "2024-10-15T04:40:22.560Z"
   },
   {
    "duration": 19,
    "start_time": "2024-10-15T04:40:22.583Z"
   },
   {
    "duration": 201,
    "start_time": "2024-10-15T04:40:22.604Z"
   },
   {
    "duration": 178,
    "start_time": "2024-10-15T04:40:22.806Z"
   },
   {
    "duration": 842,
    "start_time": "2024-10-15T04:40:22.985Z"
   },
   {
    "duration": 28,
    "start_time": "2024-10-15T04:40:23.828Z"
   },
   {
    "duration": 6,
    "start_time": "2024-10-15T04:40:23.858Z"
   },
   {
    "duration": 7,
    "start_time": "2024-10-15T04:40:23.865Z"
   },
   {
    "duration": 4,
    "start_time": "2024-10-15T04:40:23.874Z"
   },
   {
    "duration": 14,
    "start_time": "2024-10-15T04:40:23.882Z"
   },
   {
    "duration": 2278,
    "start_time": "2024-10-15T04:40:23.898Z"
   },
   {
    "duration": 307,
    "start_time": "2024-10-15T04:40:26.178Z"
   }
  ],
  "kernelspec": {
   "display_name": "Python 3 (ipykernel)",
   "language": "python",
   "name": "python3"
  },
  "language_info": {
   "codemirror_mode": {
    "name": "ipython",
    "version": 3
   },
   "file_extension": ".py",
   "mimetype": "text/x-python",
   "name": "python",
   "nbconvert_exporter": "python",
   "pygments_lexer": "ipython3",
   "version": "3.12.4"
  },
  "toc": {
   "base_numbering": 1,
   "nav_menu": {},
   "number_sections": true,
   "sideBar": true,
   "skip_h1_title": true,
   "title_cell": "Table of Contents",
   "title_sidebar": "Contents",
   "toc_cell": false,
   "toc_position": {},
   "toc_section_display": true,
   "toc_window_display": false
  }
 },
 "nbformat": 4,
 "nbformat_minor": 5
}
